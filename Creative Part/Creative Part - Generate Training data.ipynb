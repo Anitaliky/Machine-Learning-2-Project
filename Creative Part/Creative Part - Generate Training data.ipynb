{
 "cells": [
  {
   "cell_type": "code",
   "execution_count": 1,
   "metadata": {},
   "outputs": [],
   "source": [
    "import pandas as pd\n",
    "import sklearn\n",
    "import numpy as np\n",
    "import matplotlib.pyplot as plt\n",
    "from datetime import datetime\n",
    "from sklearn.metrics import recall_score, precision_score, f1_score\n",
    "from sklearn.preprocessing import MinMaxScaler\n",
    "from hmmlearn import hmm\n",
    "import copy\n",
    "import time\n",
    "import math"
   ]
  },
  {
   "cell_type": "code",
   "execution_count": 30,
   "metadata": {},
   "outputs": [],
   "source": [
    "def Generate_train(path, real_years):\n",
    "    df_train = pd.read_csv(\"Weather_Data/\"+path.format('train'))\n",
    "    \n",
    "    #df_test = pd.read_csv(\"Weather_Data/\"+path.format('test'))\n",
    "    columns_to_hmm = [' _dewptm_bars', ' _fog', ' _hail', ' _hum_bars', ' _pressurem_bars',' _rain', ' _snow', ' _thunder', ' _tornado', ' _vism_bars', ' _wspdm_bars', 'Temp']\n",
    "    other_columns = ['datetime','year','month','week','day','night','morning','noon','evening', 'season_summer', 'season_winter', 'season_spring', 'season_monsoon', 'season_autumn', 'month_cos', 'month_sin', 'week_cos', 'week_sin']\n",
    "    #results = pd.DataFrame(df_train['Temp'].tolist(), columns = ['Temp'])\n",
    "    results = pd.DataFrame()\n",
    "    \n",
    "    for c in other_columns:\n",
    "        c_list = df_train[c].tolist()\n",
    "        c_list = np.array(c_list)\n",
    "        results[c] = c_list\n",
    "        columns = df_train.columns\n",
    "    for c in columns_to_hmm:\n",
    "        values_list = df_train[c].tolist()\n",
    "        len_all_column = len(values_list)\n",
    "        data_to_hmm = df_train.loc[df_train['year'] < (2000+real_years)][c]\n",
    "        data_to_hmm = data_to_hmm.tolist()\n",
    "        #data_to_hmm = df[df['year'] <(2000+real_years)][c]\n",
    "        len_data_to_hmm = len(data_to_hmm)\n",
    "        #print(values_list)\n",
    "        num_of_uinque_states = len(set(data_to_hmm))\n",
    "        print('unique',num_of_uinque_states)\n",
    "        #last_value = values_list[-1]\n",
    "        #print(values_list)\n",
    "        values_list = [[v] for v in data_to_hmm]\n",
    "        #print(values_list)\n",
    "        model = hmm.GaussianHMM(n_components=num_of_uinque_states, covariance_type=\"full\")\n",
    "        model.fit(values_list)\n",
    "        #model.startprob_ = find_start_state(model,last_value,num_of_uinque_states)\n",
    "        #print(df_test[c].size)\n",
    "        X, Z = model.sample(1+len_all_column-len_data_to_hmm)\n",
    "        X = [item for sublist in X for item in sublist]\n",
    "        X = np.round(X)\n",
    "        print(len(X))\n",
    "        print(type(X))\n",
    "        print(type(data_to_hmm))\n",
    "        results[c] = data_to_hmm + list(X[1:])\n",
    "        \n",
    "    results.to_csv('CP_'+path.format('train'))"
   ]
  },
  {
   "cell_type": "code",
   "execution_count": 31,
   "metadata": {},
   "outputs": [
    {
     "name": "stderr",
     "output_type": "stream",
     "text": [
      "Fitting a model with 223 free scalar parameters with only 162 data points will result in a degenerate solution.\n"
     ]
    },
    {
     "name": "stdout",
     "output_type": "stream",
     "text": [
      "unique 14\n"
     ]
    },
    {
     "name": "stderr",
     "output_type": "stream",
     "text": [
      "Fitting a model with 194 free scalar parameters with only 162 data points will result in a degenerate solution.\n"
     ]
    },
    {
     "name": "stdout",
     "output_type": "stream",
     "text": [
      "112\n",
      "<class 'numpy.ndarray'>\n",
      "<class 'list'>\n",
      "unique 2\n",
      "112\n",
      "<class 'numpy.ndarray'>\n",
      "<class 'list'>\n",
      "unique 1\n",
      "112\n",
      "<class 'numpy.ndarray'>\n",
      "<class 'list'>\n",
      "unique 13\n",
      "112\n",
      "<class 'numpy.ndarray'>\n",
      "<class 'list'>\n",
      "unique 10\n",
      "112\n",
      "<class 'numpy.ndarray'>\n",
      "<class 'list'>\n",
      "unique 2\n",
      "112\n",
      "<class 'numpy.ndarray'>\n",
      "<class 'list'>\n",
      "unique 1\n",
      "112\n",
      "<class 'numpy.ndarray'>\n",
      "<class 'list'>\n"
     ]
    },
    {
     "name": "stderr",
     "output_type": "stream",
     "text": [
      "Fitting a model with 359 free scalar parameters with only 162 data points will result in a degenerate solution.\n"
     ]
    },
    {
     "name": "stdout",
     "output_type": "stream",
     "text": [
      "unique 2\n",
      "112\n",
      "<class 'numpy.ndarray'>\n",
      "<class 'list'>\n",
      "unique 1\n",
      "112\n",
      "<class 'numpy.ndarray'>\n",
      "<class 'list'>\n",
      "unique 18\n"
     ]
    },
    {
     "name": "stderr",
     "output_type": "stream",
     "text": [
      "Fitting a model with 322 free scalar parameters with only 162 data points will result in a degenerate solution.\n"
     ]
    },
    {
     "name": "stdout",
     "output_type": "stream",
     "text": [
      "112\n",
      "<class 'numpy.ndarray'>\n",
      "<class 'list'>\n",
      "unique 17\n",
      "112\n",
      "<class 'numpy.ndarray'>\n",
      "<class 'list'>\n",
      "unique 6\n",
      "112\n",
      "<class 'numpy.ndarray'>\n",
      "<class 'list'>\n"
     ]
    }
   ],
   "source": [
    "Generate_train('df_2_evening_{}.csv',6)"
   ]
  },
  {
   "cell_type": "code",
   "execution_count": null,
   "metadata": {},
   "outputs": [],
   "source": [
    "for freq_range in [[str(i) for i in range(1, 13)],  # month\n",
    "                       ['autumn', 'winter', 'spring', 'monsoon', 'summer']]:  # season\n",
    "                                  \n",
    "    for freq_part in freq_range:\n",
    "        for day_part in ['night', 'morning', 'noon', 'evening']:\n",
    "            print() \n",
    "            Generate_test('_'.join(['df',freq_part, day_part,'{}.csv'])) "
   ]
  }
 ],
 "metadata": {
  "kernelspec": {
   "display_name": "Python 3",
   "language": "python",
   "name": "python3"
  },
  "language_info": {
   "codemirror_mode": {
    "name": "ipython",
    "version": 3
   },
   "file_extension": ".py",
   "mimetype": "text/x-python",
   "name": "python",
   "nbconvert_exporter": "python",
   "pygments_lexer": "ipython3",
   "version": "3.7.1"
  }
 },
 "nbformat": 4,
 "nbformat_minor": 2
}
