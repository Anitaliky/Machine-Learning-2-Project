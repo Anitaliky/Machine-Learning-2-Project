{
 "cells": [
  {
   "cell_type": "code",
   "execution_count": 2,
   "metadata": {},
   "outputs": [],
   "source": [
    "import pandas as pd\n",
    "import copy\n",
    "import numpy as np\n",
    "import matplotlib.pyplot as plt\n",
    "import glob"
   ]
  },
  {
   "cell_type": "code",
   "execution_count": 6,
   "metadata": {},
   "outputs": [],
   "source": [
    "path = r'../weather_data'\n",
    "all_files = glob.glob(path + '/*.csv')\n",
    "rel_files = [f for f in all_files if f.startswith('../weather_data\\\\df_full') and f.endswith('train.csv')]"
   ]
  },
  {
   "cell_type": "code",
   "execution_count": 7,
   "metadata": {},
   "outputs": [
    {
     "data": {
      "text/plain": [
       "['../weather_data\\\\df_full_all_train.csv',\n",
       " '../weather_data\\\\df_full_evening_train.csv',\n",
       " '../weather_data\\\\df_full_morning_train.csv',\n",
       " '../weather_data\\\\df_full_night_train.csv',\n",
       " '../weather_data\\\\df_full_noon_train.csv']"
      ]
     },
     "execution_count": 7,
     "metadata": {},
     "output_type": "execute_result"
    }
   ],
   "source": [
    "rel_files"
   ]
  },
  {
   "cell_type": "code",
   "execution_count": 32,
   "metadata": {},
   "outputs": [],
   "source": [
    "def create_csv_by_2_last_years(filename):\n",
    "    df = pd.read_csv(filename)\n",
    "    model_name = '_'.join(filename.split('_')[2:])\n",
    "    for y in range(2, 10, 2):\n",
    "        df_temp = df.loc[df['year'].isin(list(range(2009 - y + 1, 2010)))]\n",
    "        df_temp.to_csv(f'../weather_data/CP_filtered_last_year\\\\df_{y}_{model_name}', index=False)"
   ]
  },
  {
   "cell_type": "code",
   "execution_count": 34,
   "metadata": {},
   "outputs": [
    {
     "name": "stdout",
     "output_type": "stream",
     "text": [
      "../weather_data\\df_full_all_train.csv\n",
      "../weather_data\\df_full_evening_train.csv\n",
      "../weather_data\\df_full_morning_train.csv\n",
      "../weather_data\\df_full_night_train.csv\n",
      "../weather_data\\df_full_noon_train.csv\n"
     ]
    }
   ],
   "source": [
    "for filename in rel_files:\n",
    "    print(filename)\n",
    "    create_csv_by_2_last_years(filename)"
   ]
  }
 ],
 "metadata": {
  "kernelspec": {
   "display_name": "Python 3",
   "language": "python",
   "name": "python3"
  },
  "language_info": {
   "codemirror_mode": {
    "name": "ipython",
    "version": 3
   },
   "file_extension": ".py",
   "mimetype": "text/x-python",
   "name": "python",
   "nbconvert_exporter": "python",
   "pygments_lexer": "ipython3",
   "version": "3.7.6"
  }
 },
 "nbformat": 4,
 "nbformat_minor": 4
}
