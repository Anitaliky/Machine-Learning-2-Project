{
 "cells": [
  {
   "cell_type": "code",
   "execution_count": 8,
   "metadata": {},
   "outputs": [],
   "source": [
    "import pandas as pd\n",
    "import sklearn\n",
    "import numpy as np\n",
    "# from sklearn.inspection import permutation_importance\n",
    "from sklearn.pipeline import make_pipeline\n",
    "from sklearn.preprocessing import StandardScaler\n",
    "import matplotlib.pyplot as plt\n",
    "from sklearn.ensemble import RandomForestClassifier\n",
    "from datetime import datetime\n",
    "from sklearn.metrics import recall_score, precision_score, f1_score\n",
    "from sklearn.preprocessing import MinMaxScaler\n",
    "import copy\n",
    "import time\n",
    "from sklearn.metrics import mean_absolute_error\n",
    "from sklearn.metrics import mean_squared_error\n",
    "from sklearn.tree import export_graphviz"
   ]
  },
  {
   "cell_type": "markdown",
   "metadata": {},
   "source": [
    "## Load train test from csv"
   ]
  },
  {
   "cell_type": "code",
   "execution_count": 86,
   "metadata": {},
   "outputs": [],
   "source": [
    "train = pd.read_csv(r'weather_data/df_full_train.csv')\n",
    "test = pd.read_csv(r'weather_data/df_full_test.csv')"
   ]
  },
  {
   "cell_type": "code",
   "execution_count": 15,
   "metadata": {},
   "outputs": [],
   "source": [
    "REL_FEATURES = [' _conds', ' _dewptm', ' _fog', ' _hail', ' _hum', ' _pressurem', ' _rain', ' _snow',\n",
    "                ' _thunder', ' _tornado', ' _vism', ' _wspdm', 'year', 'hour_cos', 'hour_sin', 'month_cos',\n",
    "                'month_sin', 'week_cos', 'week_sin', 'night', 'morning', 'noon', 'evening']\n",
    "LABEL = ['Temp']"
   ]
  },
  {
   "cell_type": "code",
   "execution_count": 88,
   "metadata": {},
   "outputs": [],
   "source": [
    "X_train = train[REL_FEATURES]\n",
    "y_train = train[LABEL]"
   ]
  },
  {
   "cell_type": "code",
   "execution_count": 89,
   "metadata": {},
   "outputs": [],
   "source": [
    "X_test = test[REL_FEATURES]\n",
    "y_test = test[LABEL]"
   ]
  },
  {
   "cell_type": "code",
   "execution_count": 90,
   "metadata": {},
   "outputs": [],
   "source": [
    "df = pd.get_dummies(pd.concat([X_train, X_test], ignore_index=True)).fillna(0)"
   ]
  },
  {
   "cell_type": "code",
   "execution_count": 91,
   "metadata": {},
   "outputs": [],
   "source": [
    "X_train = df.loc[X_train.index]\n",
    "X_test = df.loc[X_test.index]"
   ]
  },
  {
   "cell_type": "markdown",
   "metadata": {},
   "source": [
    "# Random Forest full data"
   ]
  },
  {
   "cell_type": "code",
   "execution_count": 92,
   "metadata": {
    "scrolled": true
   },
   "outputs": [
    {
     "name": "stderr",
     "output_type": "stream",
     "text": [
      "C:\\Users\\Fedia\\anaconda3\\lib\\site-packages\\ipykernel_launcher.py:2: DataConversionWarning: A column-vector y was passed when a 1d array was expected. Please change the shape of y to (n_samples,), for example using ravel().\n",
      "  \n"
     ]
    },
    {
     "data": {
      "text/plain": [
       "RandomForestClassifier(bootstrap=True, ccp_alpha=0.0, class_weight=None,\n",
       "                       criterion='gini', max_depth=2, max_features='auto',\n",
       "                       max_leaf_nodes=None, max_samples=None,\n",
       "                       min_impurity_decrease=0.0, min_impurity_split=None,\n",
       "                       min_samples_leaf=1, min_samples_split=2,\n",
       "                       min_weight_fraction_leaf=0.0, n_estimators=100,\n",
       "                       n_jobs=None, oob_score=False, random_state=1, verbose=0,\n",
       "                       warm_start=False)"
      ]
     },
     "execution_count": 92,
     "metadata": {},
     "output_type": "execute_result"
    }
   ],
   "source": [
    "clf = RandomForestClassifier(n_estimators=100, random_state=1, max_depth=2)\n",
    "clf.fit(X_train, y_train)"
   ]
  },
  {
   "cell_type": "markdown",
   "metadata": {},
   "source": [
    "## Random forest full train pred"
   ]
  },
  {
   "cell_type": "code",
   "execution_count": 53,
   "metadata": {},
   "outputs": [],
   "source": [
    "# pred on train\n",
    "y_pred_train = clf.predict(X_train)"
   ]
  },
  {
   "cell_type": "code",
   "execution_count": 54,
   "metadata": {},
   "outputs": [
    {
     "data": {
      "text/plain": [
       "0.2950866433716038"
      ]
     },
     "execution_count": 54,
     "metadata": {},
     "output_type": "execute_result"
    }
   ],
   "source": [
    "# accuracy on train\n",
    "clf.score(X_train, y_train)"
   ]
  },
  {
   "cell_type": "code",
   "execution_count": 55,
   "metadata": {},
   "outputs": [
    {
     "data": {
      "text/plain": [
       "1.1049704057619625"
      ]
     },
     "execution_count": 55,
     "metadata": {},
     "output_type": "execute_result"
    }
   ],
   "source": [
    "mean_absolute_error(y_train, y_pred_train)"
   ]
  },
  {
   "cell_type": "code",
   "execution_count": 56,
   "metadata": {},
   "outputs": [
    {
     "data": {
      "text/plain": [
       "2.1645154389217716"
      ]
     },
     "execution_count": 56,
     "metadata": {},
     "output_type": "execute_result"
    }
   ],
   "source": [
    "mean_squared_error(y_train, y_pred_train)"
   ]
  },
  {
   "cell_type": "markdown",
   "metadata": {},
   "source": [
    "## Random forest full test pred"
   ]
  },
  {
   "cell_type": "code",
   "execution_count": 57,
   "metadata": {},
   "outputs": [],
   "source": [
    "# pred on test\n",
    "y_pred_test = clf.predict(X_test)"
   ]
  },
  {
   "cell_type": "code",
   "execution_count": 58,
   "metadata": {},
   "outputs": [
    {
     "data": {
      "text/plain": [
       "0.11666666666666667"
      ]
     },
     "execution_count": 58,
     "metadata": {},
     "output_type": "execute_result"
    }
   ],
   "source": [
    "# accuracy on test\n",
    "clf.score(X_test, y_test)"
   ]
  },
  {
   "cell_type": "code",
   "execution_count": 59,
   "metadata": {},
   "outputs": [
    {
     "data": {
      "text/plain": [
       "11.74375"
      ]
     },
     "execution_count": 59,
     "metadata": {},
     "output_type": "execute_result"
    }
   ],
   "source": [
    "mean_squared_error(y_test, y_pred_test)"
   ]
  },
  {
   "cell_type": "markdown",
   "metadata": {},
   "source": [
    "# Random Forest day parts data"
   ]
  },
  {
   "cell_type": "code",
   "execution_count": 70,
   "metadata": {},
   "outputs": [
    {
     "name": "stdout",
     "output_type": "stream",
     "text": [
      "night data\n"
     ]
    },
    {
     "name": "stderr",
     "output_type": "stream",
     "text": [
      "C:\\Users\\Fedia\\anaconda3\\lib\\site-packages\\ipykernel_launcher.py:23: DataConversionWarning: A column-vector y was passed when a 1d array was expected. Please change the shape of y to (n_samples,), for example using ravel().\n"
     ]
    },
    {
     "name": "stdout",
     "output_type": "stream",
     "text": [
      "0.43664772727272727\n",
      "1.2167613636363637\n",
      "0.15342465753424658\n",
      "16.56986301369863\n",
      "morning data\n"
     ]
    },
    {
     "name": "stderr",
     "output_type": "stream",
     "text": [
      "C:\\Users\\Fedia\\anaconda3\\lib\\site-packages\\ipykernel_launcher.py:23: DataConversionWarning: A column-vector y was passed when a 1d array was expected. Please change the shape of y to (n_samples,), for example using ravel().\n"
     ]
    },
    {
     "name": "stdout",
     "output_type": "stream",
     "text": [
      "0.4560752994865944\n",
      "1.4386765544780376\n",
      "0.0881542699724518\n",
      "8.96418732782369\n",
      "noon data\n"
     ]
    },
    {
     "name": "stderr",
     "output_type": "stream",
     "text": [
      "C:\\Users\\Fedia\\anaconda3\\lib\\site-packages\\ipykernel_launcher.py:23: DataConversionWarning: A column-vector y was passed when a 1d array was expected. Please change the shape of y to (n_samples,), for example using ravel().\n"
     ]
    },
    {
     "name": "stdout",
     "output_type": "stream",
     "text": [
      "0.33513821601595895\n",
      "1.5531490453120547\n",
      "0.08913649025069638\n",
      "9.682451253481894\n",
      "evening data\n"
     ]
    },
    {
     "name": "stderr",
     "output_type": "stream",
     "text": [
      "C:\\Users\\Fedia\\anaconda3\\lib\\site-packages\\ipykernel_launcher.py:23: DataConversionWarning: A column-vector y was passed when a 1d array was expected. Please change the shape of y to (n_samples,), for example using ravel().\n"
     ]
    },
    {
     "name": "stdout",
     "output_type": "stream",
     "text": [
      "0.37155963302752293\n",
      "1.3176605504587156\n",
      "0.16147308781869688\n",
      "12.070821529745043\n"
     ]
    }
   ],
   "source": [
    "for part in ['night', 'morning', 'noon', 'evening']:\n",
    "    print(fr'{part} data')\n",
    "    \n",
    "    ## Load train test from csv\n",
    "\n",
    "    train_part = pd.read_csv(fr'weather_data/df_{part}_train.csv')\n",
    "    test_part = pd.read_csv(fr'weather_data/df_{part}_test.csv')\n",
    "\n",
    "    X_train_part = train_part[REL_FEATURES]\n",
    "    y_train_part = train_part[LABEL]\n",
    "\n",
    "    X_test_part = test_part[REL_FEATURES]\n",
    "    y_test_part = test_part[LABEL]\n",
    "\n",
    "    df = pd.get_dummies(pd.concat([X_train_part, X_test_part], ignore_index=True)).fillna(0)\n",
    "\n",
    "    X_train_part = df.loc[X_train_part.index]\n",
    "    X_test_part = df.loc[X_test_part.index]\n",
    "\n",
    "    clf = RandomForestClassifier(n_estimators=100, random_state=1, max_depth=2)\n",
    "    clf.fit(X_train_part, y_train_part)\n",
    "\n",
    "    ## Random forest train pred\n",
    "\n",
    "    # pred on train\n",
    "    y_pred_train_part = clf.predict(X_train_part)\n",
    "\n",
    "    # accuracy on train\n",
    "    print(clf.score(X_train_part, y_train_part))\n",
    "\n",
    "    print(mean_squared_error(y_train_part, y_pred_train_part))\n",
    "\n",
    "    ## Random forest test pred\n",
    "\n",
    "    # pred on test\n",
    "    y_pred_test_part = clf.predict(X_test_part)\n",
    "\n",
    "    # accuracy on test\n",
    "    print(clf.score(X_test_part, y_test_part))\n",
    "\n",
    "    print(mean_squared_error(y_test_part, y_pred_test_part))"
   ]
  },
  {
   "cell_type": "markdown",
   "metadata": {},
   "source": [
    "# Random Forest months data"
   ]
  },
  {
   "cell_type": "code",
   "execution_count": 74,
   "metadata": {},
   "outputs": [
    {
     "name": "stdout",
     "output_type": "stream",
     "text": [
      "month 1 data\n"
     ]
    },
    {
     "name": "stderr",
     "output_type": "stream",
     "text": [
      "C:\\Users\\Fedia\\anaconda3\\lib\\site-packages\\ipykernel_launcher.py:21: DataConversionWarning: A column-vector y was passed when a 1d array was expected. Please change the shape of y to (n_samples,), for example using ravel().\n"
     ]
    },
    {
     "name": "stdout",
     "output_type": "stream",
     "text": [
      "0.47483766233766234\n",
      "0.9943181818181818\n",
      "0.3629032258064516\n",
      "1.596774193548387\n",
      "month 2 data\n"
     ]
    },
    {
     "name": "stderr",
     "output_type": "stream",
     "text": [
      "C:\\Users\\Fedia\\anaconda3\\lib\\site-packages\\ipykernel_launcher.py:21: DataConversionWarning: A column-vector y was passed when a 1d array was expected. Please change the shape of y to (n_samples,), for example using ravel().\n"
     ]
    },
    {
     "name": "stdout",
     "output_type": "stream",
     "text": [
      "0.38447488584474887\n",
      "1.1433789954337898\n",
      "0.2857142857142857\n",
      "3.9642857142857144\n",
      "month 3 data\n"
     ]
    },
    {
     "name": "stderr",
     "output_type": "stream",
     "text": [
      "C:\\Users\\Fedia\\anaconda3\\lib\\site-packages\\ipykernel_launcher.py:21: DataConversionWarning: A column-vector y was passed when a 1d array was expected. Please change the shape of y to (n_samples,), for example using ravel().\n"
     ]
    },
    {
     "name": "stdout",
     "output_type": "stream",
     "text": [
      "0.35978358881875566\n",
      "1.3985572587917043\n",
      "0.25\n",
      "5.362903225806452\n",
      "month 4 data\n"
     ]
    },
    {
     "name": "stderr",
     "output_type": "stream",
     "text": [
      "C:\\Users\\Fedia\\anaconda3\\lib\\site-packages\\ipykernel_launcher.py:21: DataConversionWarning: A column-vector y was passed when a 1d array was expected. Please change the shape of y to (n_samples,), for example using ravel().\n"
     ]
    },
    {
     "name": "stdout",
     "output_type": "stream",
     "text": [
      "0.44609665427509293\n",
      "1.095724907063197\n",
      "0.15254237288135594\n",
      "6.203389830508475\n",
      "month 5 data\n"
     ]
    },
    {
     "name": "stderr",
     "output_type": "stream",
     "text": [
      "C:\\Users\\Fedia\\anaconda3\\lib\\site-packages\\ipykernel_launcher.py:21: DataConversionWarning: A column-vector y was passed when a 1d array was expected. Please change the shape of y to (n_samples,), for example using ravel().\n"
     ]
    },
    {
     "name": "stdout",
     "output_type": "stream",
     "text": [
      "0.4685251798561151\n",
      "1.29136690647482\n",
      "0.31092436974789917\n",
      "3.7815126050420167\n",
      "month 6 data\n"
     ]
    },
    {
     "name": "stderr",
     "output_type": "stream",
     "text": [
      "C:\\Users\\Fedia\\anaconda3\\lib\\site-packages\\ipykernel_launcher.py:21: DataConversionWarning: A column-vector y was passed when a 1d array was expected. Please change the shape of y to (n_samples,), for example using ravel().\n"
     ]
    },
    {
     "name": "stdout",
     "output_type": "stream",
     "text": [
      "0.590633130962706\n",
      "0.6513443191673894\n",
      "0.3\n",
      "2.941666666666667\n",
      "month 7 data\n"
     ]
    },
    {
     "name": "stderr",
     "output_type": "stream",
     "text": [
      "C:\\Users\\Fedia\\anaconda3\\lib\\site-packages\\ipykernel_launcher.py:21: DataConversionWarning: A column-vector y was passed when a 1d array was expected. Please change the shape of y to (n_samples,), for example using ravel().\n"
     ]
    },
    {
     "name": "stdout",
     "output_type": "stream",
     "text": [
      "0.5380875202593193\n",
      "0.6150729335494327\n",
      "0.2727272727272727\n",
      "1.5950413223140496\n",
      "month 8 data\n"
     ]
    },
    {
     "name": "stderr",
     "output_type": "stream",
     "text": [
      "C:\\Users\\Fedia\\anaconda3\\lib\\site-packages\\ipykernel_launcher.py:21: DataConversionWarning: A column-vector y was passed when a 1d array was expected. Please change the shape of y to (n_samples,), for example using ravel().\n"
     ]
    },
    {
     "name": "stdout",
     "output_type": "stream",
     "text": [
      "0.6504770164787511\n",
      "0.37294015611448394\n",
      "0.3220338983050847\n",
      "1.347457627118644\n",
      "month 9 data\n"
     ]
    },
    {
     "name": "stderr",
     "output_type": "stream",
     "text": [
      "C:\\Users\\Fedia\\anaconda3\\lib\\site-packages\\ipykernel_launcher.py:21: DataConversionWarning: A column-vector y was passed when a 1d array was expected. Please change the shape of y to (n_samples,), for example using ravel().\n"
     ]
    },
    {
     "name": "stdout",
     "output_type": "stream",
     "text": [
      "0.5507976490344249\n",
      "0.5583543240973972\n",
      "0.3445378151260504\n",
      "1.2521008403361344\n",
      "month 10 data\n"
     ]
    },
    {
     "name": "stderr",
     "output_type": "stream",
     "text": [
      "C:\\Users\\Fedia\\anaconda3\\lib\\site-packages\\ipykernel_launcher.py:21: DataConversionWarning: A column-vector y was passed when a 1d array was expected. Please change the shape of y to (n_samples,), for example using ravel().\n"
     ]
    },
    {
     "name": "stdout",
     "output_type": "stream",
     "text": [
      "0.4560975609756098\n",
      "0.8\n",
      "0.32786885245901637\n",
      "3.918032786885246\n",
      "month 11 data\n"
     ]
    },
    {
     "name": "stderr",
     "output_type": "stream",
     "text": [
      "C:\\Users\\Fedia\\anaconda3\\lib\\site-packages\\ipykernel_launcher.py:21: DataConversionWarning: A column-vector y was passed when a 1d array was expected. Please change the shape of y to (n_samples,), for example using ravel().\n"
     ]
    },
    {
     "name": "stdout",
     "output_type": "stream",
     "text": [
      "0.38083333333333336\n",
      "1.0783333333333334\n",
      "0.39166666666666666\n",
      "1.2083333333333333\n",
      "month 12 data\n"
     ]
    },
    {
     "name": "stderr",
     "output_type": "stream",
     "text": [
      "C:\\Users\\Fedia\\anaconda3\\lib\\site-packages\\ipykernel_launcher.py:21: DataConversionWarning: A column-vector y was passed when a 1d array was expected. Please change the shape of y to (n_samples,), for example using ravel().\n"
     ]
    },
    {
     "name": "stdout",
     "output_type": "stream",
     "text": [
      "0.4168012924071082\n",
      "0.9297253634894992\n",
      "0.23577235772357724\n",
      "4.154471544715447\n"
     ]
    }
   ],
   "source": [
    "for m in range(1, 13):\n",
    "    print(fr'month {m} data')\n",
    "    \n",
    "    ## Load train test from csv\n",
    "\n",
    "    train_part = pd.read_csv(fr'weather_data/df_month_{m}_train.csv')\n",
    "    test_part = pd.read_csv(fr'weather_data/df_month_{m}_test.csv')\n",
    "\n",
    "    X_train_part = train_part[REL_FEATURES]\n",
    "    y_train_part = train_part[LABEL]\n",
    "\n",
    "    X_test_part = test_part[REL_FEATURES]\n",
    "    y_test_part = test_part[LABEL]\n",
    "\n",
    "    df = pd.get_dummies(pd.concat([X_train_part, X_test_part], ignore_index=True)).fillna(0)\n",
    "\n",
    "    X_train_part = df.loc[X_train_part.index]\n",
    "    X_test_part = df.loc[X_test_part.index]\n",
    "\n",
    "    clf = RandomForestClassifier(n_estimators=100, random_state=1, max_depth=2)\n",
    "    clf.fit(X_train_part, y_train_part)\n",
    "\n",
    "    ## Random forest train pred\n",
    "\n",
    "    # pred on train\n",
    "    y_pred_train_part = clf.predict(X_train_part)\n",
    "\n",
    "    # accuracy on train\n",
    "    print(clf.score(X_train_part, y_train_part))\n",
    "\n",
    "    print(mean_squared_error(y_train_part, y_pred_train_part))\n",
    "\n",
    "    ## Random forest test pred\n",
    "\n",
    "    # pred on test\n",
    "    y_pred_test_part = clf.predict(X_test_part)\n",
    "\n",
    "    # accuracy on test\n",
    "    print(clf.score(X_test_part, y_test_part))\n",
    "\n",
    "    print(mean_squared_error(y_test_part, y_pred_test_part))"
   ]
  },
  {
   "cell_type": "markdown",
   "metadata": {},
   "source": [
    "# Random Forest seasons data"
   ]
  },
  {
   "cell_type": "code",
   "execution_count": 98,
   "metadata": {},
   "outputs": [
    {
     "name": "stdout",
     "output_type": "stream",
     "text": [
      "season winter data\n"
     ]
    },
    {
     "name": "stderr",
     "output_type": "stream",
     "text": [
      "C:\\Users\\Fedia\\anaconda3\\lib\\site-packages\\ipykernel_launcher.py:21: DataConversionWarning: A column-vector y was passed when a 1d array was expected. Please change the shape of y to (n_samples,), for example using ravel().\n"
     ]
    },
    {
     "name": "stdout",
     "output_type": "stream",
     "text": [
      "0.49190283400809715\n",
      "0.917004048582996\n",
      "0.3076923076923077\n",
      "3.3927125506072873\n",
      "season spring data\n"
     ]
    },
    {
     "name": "stderr",
     "output_type": "stream",
     "text": [
      "C:\\Users\\Fedia\\anaconda3\\lib\\site-packages\\ipykernel_launcher.py:21: DataConversionWarning: A column-vector y was passed when a 1d array was expected. Please change the shape of y to (n_samples,), for example using ravel().\n"
     ]
    },
    {
     "name": "stdout",
     "output_type": "stream",
     "text": [
      "0.3561705989110708\n",
      "1.5040834845735027\n",
      "0.2457627118644068\n",
      "6.970338983050848\n",
      "season summer data\n"
     ]
    },
    {
     "name": "stderr",
     "output_type": "stream",
     "text": [
      "C:\\Users\\Fedia\\anaconda3\\lib\\site-packages\\ipykernel_launcher.py:21: DataConversionWarning: A column-vector y was passed when a 1d array was expected. Please change the shape of y to (n_samples,), for example using ravel().\n"
     ]
    },
    {
     "name": "stdout",
     "output_type": "stream",
     "text": [
      "0.40915893445076323\n",
      "1.5483388207123616\n",
      "0.3557422969187675\n",
      "2.719887955182073\n",
      "season monsoon data\n"
     ]
    },
    {
     "name": "stderr",
     "output_type": "stream",
     "text": [
      "C:\\Users\\Fedia\\anaconda3\\lib\\site-packages\\ipykernel_launcher.py:21: DataConversionWarning: A column-vector y was passed when a 1d array was expected. Please change the shape of y to (n_samples,), for example using ravel().\n"
     ]
    },
    {
     "name": "stdout",
     "output_type": "stream",
     "text": [
      "0.5781879194630872\n",
      "0.5359060402684563\n",
      "0.3210702341137124\n",
      "1.5250836120401339\n",
      "season autumn data\n"
     ]
    },
    {
     "name": "stderr",
     "output_type": "stream",
     "text": [
      "C:\\Users\\Fedia\\anaconda3\\lib\\site-packages\\ipykernel_launcher.py:21: DataConversionWarning: A column-vector y was passed when a 1d array was expected. Please change the shape of y to (n_samples,), for example using ravel().\n"
     ]
    },
    {
     "name": "stdout",
     "output_type": "stream",
     "text": [
      "0.40785997357992076\n",
      "0.9815059445178336\n",
      "0.27906976744186046\n",
      "3.159468438538206\n"
     ]
    }
   ],
   "source": [
    "for s in ['winter', 'spring', 'summer', 'monsoon', 'autumn']:\n",
    "    print(fr'season {s} data')\n",
    "    \n",
    "    ## Load train test from csv\n",
    "\n",
    "    train_part = pd.read_csv(fr'weather_data/df_season_{s}_train.csv')\n",
    "    test_part = pd.read_csv(fr'weather_data/df_season_{s}_test.csv')\n",
    "\n",
    "    X_train_part = train_part[REL_FEATURES]\n",
    "    y_train_part = train_part[LABEL]\n",
    "\n",
    "    X_test_part = test_part[REL_FEATURES]\n",
    "    y_test_part = test_part[LABEL]\n",
    "\n",
    "    df = pd.get_dummies(pd.concat([X_train_part, X_test_part], ignore_index=True)).fillna(0)\n",
    "\n",
    "    X_train_part = df.loc[X_train_part.index]\n",
    "    X_test_part = df.loc[X_test_part.index]\n",
    "\n",
    "    clf = RandomForestClassifier(n_estimators=100, random_state=1, max_depth=2)\n",
    "    clf.fit(X_train_part, y_train_part)\n",
    "\n",
    "    ## Random forest train pred\n",
    "\n",
    "    # pred on train\n",
    "    y_pred_train_part = clf.predict(X_train_part)\n",
    "\n",
    "    # accuracy on train\n",
    "    print(clf.score(X_train_part, y_train_part))\n",
    "\n",
    "    print(mean_squared_error(y_train_part, y_pred_train_part))\n",
    "\n",
    "    ## Random forest test pred\n",
    "\n",
    "    # pred on test\n",
    "    y_pred_test_part = clf.predict(X_test_part)\n",
    "\n",
    "    # accuracy on test\n",
    "    print(clf.score(X_test_part, y_test_part))\n",
    "\n",
    "    print(mean_squared_error(y_test_part, y_pred_test_part))"
   ]
  },
  {
   "cell_type": "markdown",
   "metadata": {},
   "source": [
    "# Random Forest months + day part data"
   ]
  },
  {
   "cell_type": "code",
   "execution_count": 106,
   "metadata": {
    "scrolled": true
   },
   "outputs": [
    {
     "name": "stdout",
     "output_type": "stream",
     "text": [
      "month 1 day part night data\n"
     ]
    },
    {
     "name": "stderr",
     "output_type": "stream",
     "text": [
      "C:\\Users\\Fedia\\anaconda3\\lib\\site-packages\\ipykernel_launcher.py:25: DataConversionWarning: A column-vector y was passed when a 1d array was expected. Please change the shape of y to (n_samples,), for example using ravel().\n"
     ]
    },
    {
     "name": "stdout",
     "output_type": "stream",
     "text": [
      "0.6148867313915858\n",
      "0.8090614886731392\n",
      "0.5161290322580645\n",
      "0.6774193548387096\n",
      "month 1 day part morning data\n"
     ]
    },
    {
     "name": "stderr",
     "output_type": "stream",
     "text": [
      "C:\\Users\\Fedia\\anaconda3\\lib\\site-packages\\ipykernel_launcher.py:25: DataConversionWarning: A column-vector y was passed when a 1d array was expected. Please change the shape of y to (n_samples,), for example using ravel().\n"
     ]
    },
    {
     "name": "stdout",
     "output_type": "stream",
     "text": [
      "0.4642857142857143\n",
      "0.8766233766233766\n",
      "0.12903225806451613\n",
      "2.774193548387097\n",
      "month 1 day part noon data\n"
     ]
    },
    {
     "name": "stderr",
     "output_type": "stream",
     "text": [
      "C:\\Users\\Fedia\\anaconda3\\lib\\site-packages\\ipykernel_launcher.py:25: DataConversionWarning: A column-vector y was passed when a 1d array was expected. Please change the shape of y to (n_samples,), for example using ravel().\n"
     ]
    },
    {
     "name": "stdout",
     "output_type": "stream",
     "text": [
      "0.5439739413680782\n",
      "0.6840390879478827\n",
      "0.25806451612903225\n",
      "2.161290322580645\n",
      "month 1 day part evening data\n"
     ]
    },
    {
     "name": "stderr",
     "output_type": "stream",
     "text": [
      "C:\\Users\\Fedia\\anaconda3\\lib\\site-packages\\ipykernel_launcher.py:25: DataConversionWarning: A column-vector y was passed when a 1d array was expected. Please change the shape of y to (n_samples,), for example using ravel().\n"
     ]
    },
    {
     "name": "stdout",
     "output_type": "stream",
     "text": [
      "0.6623376623376623\n",
      "0.4448051948051948\n",
      "0.5806451612903226\n",
      "0.6129032258064516\n",
      "month 2 day part night data\n"
     ]
    },
    {
     "name": "stderr",
     "output_type": "stream",
     "text": [
      "C:\\Users\\Fedia\\anaconda3\\lib\\site-packages\\ipykernel_launcher.py:25: DataConversionWarning: A column-vector y was passed when a 1d array was expected. Please change the shape of y to (n_samples,), for example using ravel().\n"
     ]
    },
    {
     "name": "stdout",
     "output_type": "stream",
     "text": [
      "0.5543478260869565\n",
      "0.7536231884057971\n",
      "0.42857142857142855\n",
      "1.7857142857142858\n",
      "month 2 day part morning data\n"
     ]
    },
    {
     "name": "stderr",
     "output_type": "stream",
     "text": [
      "C:\\Users\\Fedia\\anaconda3\\lib\\site-packages\\ipykernel_launcher.py:25: DataConversionWarning: A column-vector y was passed when a 1d array was expected. Please change the shape of y to (n_samples,), for example using ravel().\n"
     ]
    },
    {
     "name": "stdout",
     "output_type": "stream",
     "text": [
      "0.48717948717948717\n",
      "0.9853479853479854\n",
      "0.2857142857142857\n",
      "3.0\n",
      "month 2 day part noon data\n"
     ]
    },
    {
     "name": "stderr",
     "output_type": "stream",
     "text": [
      "C:\\Users\\Fedia\\anaconda3\\lib\\site-packages\\ipykernel_launcher.py:25: DataConversionWarning: A column-vector y was passed when a 1d array was expected. Please change the shape of y to (n_samples,), for example using ravel().\n"
     ]
    },
    {
     "name": "stdout",
     "output_type": "stream",
     "text": [
      "0.47619047619047616\n",
      "0.7875457875457875\n",
      "0.2857142857142857\n",
      "1.8571428571428572\n",
      "month 2 day part evening data\n"
     ]
    },
    {
     "name": "stderr",
     "output_type": "stream",
     "text": [
      "C:\\Users\\Fedia\\anaconda3\\lib\\site-packages\\ipykernel_launcher.py:25: DataConversionWarning: A column-vector y was passed when a 1d array was expected. Please change the shape of y to (n_samples,), for example using ravel().\n"
     ]
    },
    {
     "name": "stdout",
     "output_type": "stream",
     "text": [
      "0.5421245421245421\n",
      "0.6556776556776557\n",
      "0.42857142857142855\n",
      "1.4285714285714286\n",
      "month 3 day part night data\n"
     ]
    },
    {
     "name": "stderr",
     "output_type": "stream",
     "text": [
      "C:\\Users\\Fedia\\anaconda3\\lib\\site-packages\\ipykernel_launcher.py:25: DataConversionWarning: A column-vector y was passed when a 1d array was expected. Please change the shape of y to (n_samples,), for example using ravel().\n"
     ]
    },
    {
     "name": "stdout",
     "output_type": "stream",
     "text": [
      "0.5519713261648745\n",
      "0.7741935483870968\n",
      "0.3225806451612903\n",
      "1.1612903225806452\n",
      "month 3 day part morning data\n"
     ]
    },
    {
     "name": "stderr",
     "output_type": "stream",
     "text": [
      "C:\\Users\\Fedia\\anaconda3\\lib\\site-packages\\ipykernel_launcher.py:25: DataConversionWarning: A column-vector y was passed when a 1d array was expected. Please change the shape of y to (n_samples,), for example using ravel().\n"
     ]
    },
    {
     "name": "stdout",
     "output_type": "stream",
     "text": [
      "0.4659498207885305\n",
      "1.093189964157706\n",
      "0.3225806451612903\n",
      "0.967741935483871\n",
      "month 3 day part noon data\n"
     ]
    },
    {
     "name": "stderr",
     "output_type": "stream",
     "text": [
      "C:\\Users\\Fedia\\anaconda3\\lib\\site-packages\\ipykernel_launcher.py:25: DataConversionWarning: A column-vector y was passed when a 1d array was expected. Please change the shape of y to (n_samples,), for example using ravel().\n"
     ]
    },
    {
     "name": "stdout",
     "output_type": "stream",
     "text": [
      "0.45126353790613716\n",
      "1.0902527075812274\n",
      "0.3870967741935484\n",
      "1.5161290322580645\n",
      "month 3 day part evening data\n"
     ]
    },
    {
     "name": "stderr",
     "output_type": "stream",
     "text": [
      "C:\\Users\\Fedia\\anaconda3\\lib\\site-packages\\ipykernel_launcher.py:25: DataConversionWarning: A column-vector y was passed when a 1d array was expected. Please change the shape of y to (n_samples,), for example using ravel().\n"
     ]
    },
    {
     "name": "stdout",
     "output_type": "stream",
     "text": [
      "0.5255474452554745\n",
      "0.6788321167883211\n",
      "0.45161290322580644\n",
      "0.8387096774193549\n",
      "month 4 day part night data\n"
     ]
    },
    {
     "name": "stderr",
     "output_type": "stream",
     "text": [
      "C:\\Users\\Fedia\\anaconda3\\lib\\site-packages\\ipykernel_launcher.py:25: DataConversionWarning: A column-vector y was passed when a 1d array was expected. Please change the shape of y to (n_samples,), for example using ravel().\n"
     ]
    },
    {
     "name": "stdout",
     "output_type": "stream",
     "text": [
      "0.5481481481481482\n",
      "0.7185185185185186\n",
      "0.3\n",
      "2.1666666666666665\n",
      "month 4 day part morning data\n"
     ]
    },
    {
     "name": "stderr",
     "output_type": "stream",
     "text": [
      "C:\\Users\\Fedia\\anaconda3\\lib\\site-packages\\ipykernel_launcher.py:25: DataConversionWarning: A column-vector y was passed when a 1d array was expected. Please change the shape of y to (n_samples,), for example using ravel().\n"
     ]
    },
    {
     "name": "stdout",
     "output_type": "stream",
     "text": [
      "0.5185185185185185\n",
      "1.3148148148148149\n",
      "0.5517241379310345\n",
      "1.3793103448275863\n",
      "month 4 day part noon data\n"
     ]
    },
    {
     "name": "stderr",
     "output_type": "stream",
     "text": [
      "C:\\Users\\Fedia\\anaconda3\\lib\\site-packages\\ipykernel_launcher.py:25: DataConversionWarning: A column-vector y was passed when a 1d array was expected. Please change the shape of y to (n_samples,), for example using ravel().\n"
     ]
    },
    {
     "name": "stdout",
     "output_type": "stream",
     "text": [
      "0.5259259259259259\n",
      "1.162962962962963\n",
      "0.3103448275862069\n",
      "1.3103448275862069\n",
      "month 4 day part evening data\n"
     ]
    },
    {
     "name": "stderr",
     "output_type": "stream",
     "text": [
      "C:\\Users\\Fedia\\anaconda3\\lib\\site-packages\\ipykernel_launcher.py:25: DataConversionWarning: A column-vector y was passed when a 1d array was expected. Please change the shape of y to (n_samples,), for example using ravel().\n"
     ]
    },
    {
     "name": "stdout",
     "output_type": "stream",
     "text": [
      "0.4849624060150376\n",
      "0.8909774436090225\n",
      "0.26666666666666666\n",
      "1.6\n",
      "month 5 day part night data\n"
     ]
    },
    {
     "name": "stderr",
     "output_type": "stream",
     "text": [
      "C:\\Users\\Fedia\\anaconda3\\lib\\site-packages\\ipykernel_launcher.py:25: DataConversionWarning: A column-vector y was passed when a 1d array was expected. Please change the shape of y to (n_samples,), for example using ravel().\n"
     ]
    },
    {
     "name": "stdout",
     "output_type": "stream",
     "text": [
      "0.5071942446043165\n",
      "0.6546762589928058\n",
      "0.5483870967741935\n",
      "0.9354838709677419\n",
      "month 5 day part morning data\n"
     ]
    },
    {
     "name": "stderr",
     "output_type": "stream",
     "text": [
      "C:\\Users\\Fedia\\anaconda3\\lib\\site-packages\\ipykernel_launcher.py:25: DataConversionWarning: A column-vector y was passed when a 1d array was expected. Please change the shape of y to (n_samples,), for example using ravel().\n"
     ]
    },
    {
     "name": "stdout",
     "output_type": "stream",
     "text": [
      "0.6402877697841727\n",
      "1.370503597122302\n",
      "0.8709677419354839\n",
      "0.12903225806451613\n",
      "month 5 day part noon data\n"
     ]
    },
    {
     "name": "stderr",
     "output_type": "stream",
     "text": [
      "C:\\Users\\Fedia\\anaconda3\\lib\\site-packages\\ipykernel_launcher.py:25: DataConversionWarning: A column-vector y was passed when a 1d array was expected. Please change the shape of y to (n_samples,), for example using ravel().\n"
     ]
    },
    {
     "name": "stdout",
     "output_type": "stream",
     "text": [
      "0.5627240143369175\n",
      "1.4516129032258065\n",
      "0.5666666666666667\n",
      "1.0\n",
      "month 5 day part evening data\n"
     ]
    },
    {
     "name": "stderr",
     "output_type": "stream",
     "text": [
      "C:\\Users\\Fedia\\anaconda3\\lib\\site-packages\\ipykernel_launcher.py:25: DataConversionWarning: A column-vector y was passed when a 1d array was expected. Please change the shape of y to (n_samples,), for example using ravel().\n"
     ]
    },
    {
     "name": "stdout",
     "output_type": "stream",
     "text": [
      "0.5054151624548736\n",
      "0.8050541516245487\n",
      "0.3333333333333333\n",
      "1.3333333333333333\n",
      "month 6 day part night data\n"
     ]
    },
    {
     "name": "stderr",
     "output_type": "stream",
     "text": [
      "C:\\Users\\Fedia\\anaconda3\\lib\\site-packages\\ipykernel_launcher.py:25: DataConversionWarning: A column-vector y was passed when a 1d array was expected. Please change the shape of y to (n_samples,), for example using ravel().\n"
     ]
    },
    {
     "name": "stdout",
     "output_type": "stream",
     "text": [
      "0.563573883161512\n",
      "0.5910652920962199\n",
      "0.36666666666666664\n",
      "1.4666666666666666\n",
      "month 6 day part morning data\n"
     ]
    },
    {
     "name": "stderr",
     "output_type": "stream",
     "text": [
      "C:\\Users\\Fedia\\anaconda3\\lib\\site-packages\\ipykernel_launcher.py:25: DataConversionWarning: A column-vector y was passed when a 1d array was expected. Please change the shape of y to (n_samples,), for example using ravel().\n"
     ]
    },
    {
     "name": "stdout",
     "output_type": "stream",
     "text": [
      "0.6236933797909407\n",
      "0.9512195121951219\n",
      "0.6333333333333333\n",
      "0.9666666666666667\n",
      "month 6 day part noon data\n"
     ]
    },
    {
     "name": "stderr",
     "output_type": "stream",
     "text": [
      "C:\\Users\\Fedia\\anaconda3\\lib\\site-packages\\ipykernel_launcher.py:25: DataConversionWarning: A column-vector y was passed when a 1d array was expected. Please change the shape of y to (n_samples,), for example using ravel().\n"
     ]
    },
    {
     "name": "stdout",
     "output_type": "stream",
     "text": [
      "0.5958188153310104\n",
      "0.759581881533101\n",
      "0.36666666666666664\n",
      "2.033333333333333\n",
      "month 6 day part evening data\n"
     ]
    },
    {
     "name": "stderr",
     "output_type": "stream",
     "text": [
      "C:\\Users\\Fedia\\anaconda3\\lib\\site-packages\\ipykernel_launcher.py:25: DataConversionWarning: A column-vector y was passed when a 1d array was expected. Please change the shape of y to (n_samples,), for example using ravel().\n"
     ]
    },
    {
     "name": "stdout",
     "output_type": "stream",
     "text": [
      "0.5520833333333334\n",
      "0.6840277777777778\n",
      "0.3\n",
      "1.3666666666666667\n",
      "month 7 day part night data\n"
     ]
    },
    {
     "name": "stderr",
     "output_type": "stream",
     "text": [
      "C:\\Users\\Fedia\\anaconda3\\lib\\site-packages\\ipykernel_launcher.py:25: DataConversionWarning: A column-vector y was passed when a 1d array was expected. Please change the shape of y to (n_samples,), for example using ravel().\n"
     ]
    },
    {
     "name": "stdout",
     "output_type": "stream",
     "text": [
      "0.6741935483870968\n",
      "0.33548387096774196\n",
      "0.4838709677419355\n",
      "0.5161290322580645\n",
      "month 7 day part morning data\n"
     ]
    },
    {
     "name": "stderr",
     "output_type": "stream",
     "text": [
      "C:\\Users\\Fedia\\anaconda3\\lib\\site-packages\\ipykernel_launcher.py:25: DataConversionWarning: A column-vector y was passed when a 1d array was expected. Please change the shape of y to (n_samples,), for example using ravel().\n"
     ]
    },
    {
     "name": "stdout",
     "output_type": "stream",
     "text": [
      "0.6310679611650486\n",
      "0.5275080906148867\n",
      "0.5\n",
      "1.2333333333333334\n",
      "month 7 day part noon data\n"
     ]
    },
    {
     "name": "stderr",
     "output_type": "stream",
     "text": [
      "C:\\Users\\Fedia\\anaconda3\\lib\\site-packages\\ipykernel_launcher.py:25: DataConversionWarning: A column-vector y was passed when a 1d array was expected. Please change the shape of y to (n_samples,), for example using ravel().\n"
     ]
    },
    {
     "name": "stdout",
     "output_type": "stream",
     "text": [
      "0.5612903225806452\n",
      "0.5258064516129032\n",
      "0.36666666666666664\n",
      "1.4\n",
      "month 7 day part evening data\n"
     ]
    },
    {
     "name": "stderr",
     "output_type": "stream",
     "text": [
      "C:\\Users\\Fedia\\anaconda3\\lib\\site-packages\\ipykernel_launcher.py:25: DataConversionWarning: A column-vector y was passed when a 1d array was expected. Please change the shape of y to (n_samples,), for example using ravel().\n"
     ]
    },
    {
     "name": "stdout",
     "output_type": "stream",
     "text": [
      "0.6131147540983607\n",
      "0.46557377049180326\n",
      "0.4\n",
      "1.0\n",
      "month 8 day part night data\n"
     ]
    },
    {
     "name": "stderr",
     "output_type": "stream",
     "text": [
      "C:\\Users\\Fedia\\anaconda3\\lib\\site-packages\\ipykernel_launcher.py:25: DataConversionWarning: A column-vector y was passed when a 1d array was expected. Please change the shape of y to (n_samples,), for example using ravel().\n"
     ]
    },
    {
     "name": "stdout",
     "output_type": "stream",
     "text": [
      "0.740484429065744\n",
      "0.2698961937716263\n",
      "0.4838709677419355\n",
      "0.5161290322580645\n",
      "month 8 day part morning data\n"
     ]
    },
    {
     "name": "stderr",
     "output_type": "stream",
     "text": [
      "C:\\Users\\Fedia\\anaconda3\\lib\\site-packages\\ipykernel_launcher.py:25: DataConversionWarning: A column-vector y was passed when a 1d array was expected. Please change the shape of y to (n_samples,), for example using ravel().\n"
     ]
    },
    {
     "name": "stdout",
     "output_type": "stream",
     "text": [
      "0.6816608996539792\n",
      "0.4429065743944637\n",
      "0.45161290322580644\n",
      "1.1290322580645162\n",
      "month 8 day part noon data\n"
     ]
    },
    {
     "name": "stderr",
     "output_type": "stream",
     "text": [
      "C:\\Users\\Fedia\\anaconda3\\lib\\site-packages\\ipykernel_launcher.py:25: DataConversionWarning: A column-vector y was passed when a 1d array was expected. Please change the shape of y to (n_samples,), for example using ravel().\n"
     ]
    },
    {
     "name": "stdout",
     "output_type": "stream",
     "text": [
      "0.6241379310344828\n",
      "0.4379310344827586\n",
      "0.42857142857142855\n",
      "0.8928571428571429\n",
      "month 8 day part evening data\n"
     ]
    },
    {
     "name": "stderr",
     "output_type": "stream",
     "text": [
      "C:\\Users\\Fedia\\anaconda3\\lib\\site-packages\\ipykernel_launcher.py:25: DataConversionWarning: A column-vector y was passed when a 1d array was expected. Please change the shape of y to (n_samples,), for example using ravel().\n"
     ]
    },
    {
     "name": "stdout",
     "output_type": "stream",
     "text": [
      "0.631578947368421\n",
      "0.37894736842105264\n",
      "0.5714285714285714\n",
      "0.42857142857142855\n",
      "month 9 day part night data\n"
     ]
    },
    {
     "name": "stderr",
     "output_type": "stream",
     "text": [
      "C:\\Users\\Fedia\\anaconda3\\lib\\site-packages\\ipykernel_launcher.py:25: DataConversionWarning: A column-vector y was passed when a 1d array was expected. Please change the shape of y to (n_samples,), for example using ravel().\n"
     ]
    },
    {
     "name": "stdout",
     "output_type": "stream",
     "text": [
      "0.6588628762541806\n",
      "0.41471571906354515\n",
      "0.6\n",
      "0.4\n",
      "month 9 day part morning data\n"
     ]
    },
    {
     "name": "stderr",
     "output_type": "stream",
     "text": [
      "C:\\Users\\Fedia\\anaconda3\\lib\\site-packages\\ipykernel_launcher.py:25: DataConversionWarning: A column-vector y was passed when a 1d array was expected. Please change the shape of y to (n_samples,), for example using ravel().\n"
     ]
    },
    {
     "name": "stdout",
     "output_type": "stream",
     "text": [
      "0.6148648648648649\n",
      "0.5878378378378378\n",
      "0.43333333333333335\n",
      "1.3666666666666667\n",
      "month 9 day part noon data\n"
     ]
    },
    {
     "name": "stderr",
     "output_type": "stream",
     "text": [
      "C:\\Users\\Fedia\\anaconda3\\lib\\site-packages\\ipykernel_launcher.py:25: DataConversionWarning: A column-vector y was passed when a 1d array was expected. Please change the shape of y to (n_samples,), for example using ravel().\n"
     ]
    },
    {
     "name": "stdout",
     "output_type": "stream",
     "text": [
      "0.587248322147651\n",
      "0.5033557046979866\n",
      "0.23333333333333334\n",
      "1.7333333333333334\n",
      "month 9 day part evening data\n"
     ]
    },
    {
     "name": "stderr",
     "output_type": "stream",
     "text": [
      "C:\\Users\\Fedia\\anaconda3\\lib\\site-packages\\ipykernel_launcher.py:25: DataConversionWarning: A column-vector y was passed when a 1d array was expected. Please change the shape of y to (n_samples,), for example using ravel().\n"
     ]
    },
    {
     "name": "stdout",
     "output_type": "stream",
     "text": [
      "0.7248322147651006\n",
      "0.31543624161073824\n",
      "0.2413793103448276\n",
      "0.8620689655172413\n",
      "month 10 day part night data\n"
     ]
    },
    {
     "name": "stderr",
     "output_type": "stream",
     "text": [
      "C:\\Users\\Fedia\\anaconda3\\lib\\site-packages\\ipykernel_launcher.py:25: DataConversionWarning: A column-vector y was passed when a 1d array was expected. Please change the shape of y to (n_samples,), for example using ravel().\n"
     ]
    },
    {
     "name": "stdout",
     "output_type": "stream",
     "text": [
      "0.5857605177993528\n",
      "0.6019417475728155\n",
      "0.2903225806451613\n",
      "0.7096774193548387\n",
      "month 10 day part morning data\n"
     ]
    },
    {
     "name": "stderr",
     "output_type": "stream",
     "text": [
      "C:\\Users\\Fedia\\anaconda3\\lib\\site-packages\\ipykernel_launcher.py:25: DataConversionWarning: A column-vector y was passed when a 1d array was expected. Please change the shape of y to (n_samples,), for example using ravel().\n"
     ]
    },
    {
     "name": "stdout",
     "output_type": "stream",
     "text": [
      "0.5895765472312704\n",
      "0.46905537459283386\n",
      "0.5161290322580645\n",
      "0.4838709677419355\n",
      "month 10 day part noon data\n"
     ]
    },
    {
     "name": "stderr",
     "output_type": "stream",
     "text": [
      "C:\\Users\\Fedia\\anaconda3\\lib\\site-packages\\ipykernel_launcher.py:25: DataConversionWarning: A column-vector y was passed when a 1d array was expected. Please change the shape of y to (n_samples,), for example using ravel().\n"
     ]
    },
    {
     "name": "stdout",
     "output_type": "stream",
     "text": [
      "0.5811688311688312\n",
      "0.525974025974026\n",
      "0.41935483870967744\n",
      "1.7419354838709677\n",
      "month 10 day part evening data\n"
     ]
    },
    {
     "name": "stderr",
     "output_type": "stream",
     "text": [
      "C:\\Users\\Fedia\\anaconda3\\lib\\site-packages\\ipykernel_launcher.py:25: DataConversionWarning: A column-vector y was passed when a 1d array was expected. Please change the shape of y to (n_samples,), for example using ravel().\n"
     ]
    },
    {
     "name": "stdout",
     "output_type": "stream",
     "text": [
      "0.6568627450980392\n",
      "0.43137254901960786\n",
      "0.4482758620689655\n",
      "0.8620689655172413\n",
      "month 11 day part night data\n"
     ]
    },
    {
     "name": "stderr",
     "output_type": "stream",
     "text": [
      "C:\\Users\\Fedia\\anaconda3\\lib\\site-packages\\ipykernel_launcher.py:25: DataConversionWarning: A column-vector y was passed when a 1d array was expected. Please change the shape of y to (n_samples,), for example using ravel().\n"
     ]
    },
    {
     "name": "stdout",
     "output_type": "stream",
     "text": [
      "0.5833333333333334\n",
      "0.5666666666666667\n",
      "0.7\n",
      "0.8\n",
      "month 11 day part morning data\n"
     ]
    },
    {
     "name": "stderr",
     "output_type": "stream",
     "text": [
      "C:\\Users\\Fedia\\anaconda3\\lib\\site-packages\\ipykernel_launcher.py:25: DataConversionWarning: A column-vector y was passed when a 1d array was expected. Please change the shape of y to (n_samples,), for example using ravel().\n"
     ]
    },
    {
     "name": "stdout",
     "output_type": "stream",
     "text": [
      "0.5733333333333334\n",
      "0.5166666666666667\n",
      "0.5333333333333333\n",
      "0.9333333333333333\n",
      "month 11 day part noon data\n"
     ]
    },
    {
     "name": "stderr",
     "output_type": "stream",
     "text": [
      "C:\\Users\\Fedia\\anaconda3\\lib\\site-packages\\ipykernel_launcher.py:25: DataConversionWarning: A column-vector y was passed when a 1d array was expected. Please change the shape of y to (n_samples,), for example using ravel().\n"
     ]
    },
    {
     "name": "stdout",
     "output_type": "stream",
     "text": [
      "0.5133333333333333\n",
      "0.8\n",
      "0.3\n",
      "1.4\n",
      "month 11 day part evening data\n"
     ]
    },
    {
     "name": "stderr",
     "output_type": "stream",
     "text": [
      "C:\\Users\\Fedia\\anaconda3\\lib\\site-packages\\ipykernel_launcher.py:25: DataConversionWarning: A column-vector y was passed when a 1d array was expected. Please change the shape of y to (n_samples,), for example using ravel().\n"
     ]
    },
    {
     "name": "stdout",
     "output_type": "stream",
     "text": [
      "0.63\n",
      "0.45\n",
      "0.7333333333333333\n",
      "0.36666666666666664\n",
      "month 12 day part night data\n"
     ]
    },
    {
     "name": "stderr",
     "output_type": "stream",
     "text": [
      "C:\\Users\\Fedia\\anaconda3\\lib\\site-packages\\ipykernel_launcher.py:25: DataConversionWarning: A column-vector y was passed when a 1d array was expected. Please change the shape of y to (n_samples,), for example using ravel().\n"
     ]
    },
    {
     "name": "stdout",
     "output_type": "stream",
     "text": [
      "0.5516129032258065\n",
      "0.7419354838709677\n",
      "0.4838709677419355\n",
      "0.6129032258064516\n",
      "month 12 day part morning data\n"
     ]
    },
    {
     "name": "stderr",
     "output_type": "stream",
     "text": [
      "C:\\Users\\Fedia\\anaconda3\\lib\\site-packages\\ipykernel_launcher.py:25: DataConversionWarning: A column-vector y was passed when a 1d array was expected. Please change the shape of y to (n_samples,), for example using ravel().\n"
     ]
    },
    {
     "name": "stdout",
     "output_type": "stream",
     "text": [
      "0.5580645161290323\n",
      "0.7774193548387097\n",
      "0.45161290322580644\n",
      "1.032258064516129\n",
      "month 12 day part noon data\n"
     ]
    },
    {
     "name": "stderr",
     "output_type": "stream",
     "text": [
      "C:\\Users\\Fedia\\anaconda3\\lib\\site-packages\\ipykernel_launcher.py:25: DataConversionWarning: A column-vector y was passed when a 1d array was expected. Please change the shape of y to (n_samples,), for example using ravel().\n"
     ]
    },
    {
     "name": "stdout",
     "output_type": "stream",
     "text": [
      "0.4967741935483871\n",
      "0.7903225806451613\n",
      "0.45161290322580644\n",
      "2.193548387096774\n",
      "month 12 day part evening data\n"
     ]
    },
    {
     "name": "stderr",
     "output_type": "stream",
     "text": [
      "C:\\Users\\Fedia\\anaconda3\\lib\\site-packages\\ipykernel_launcher.py:25: DataConversionWarning: A column-vector y was passed when a 1d array was expected. Please change the shape of y to (n_samples,), for example using ravel().\n"
     ]
    },
    {
     "name": "stdout",
     "output_type": "stream",
     "text": [
      "0.5616883116883117\n",
      "0.5064935064935064\n",
      "0.36666666666666664\n",
      "0.7333333333333333\n"
     ]
    }
   ],
   "source": [
    "for m in range(1, 13):\n",
    "    for p in ['night', 'morning', 'noon', 'evening']:\n",
    "        print(fr'month {m} day part {p} data')\n",
    "\n",
    "        ## Load train test from csv\n",
    "        train_part = pd.read_csv(fr'weather_data/df_month_{m}_train.csv')\n",
    "        test_part = pd.read_csv(fr'weather_data/df_month_{m}_test.csv')\n",
    "        \n",
    "        train_part = train_part[train_part[p] == 1].reset_index()\n",
    "        test_part = test_part[test_part[p] == 1].reset_index()\n",
    "\n",
    "        X_train_part = train_part[REL_FEATURES]\n",
    "        y_train_part = train_part[LABEL]\n",
    "\n",
    "        X_test_part = test_part[REL_FEATURES]\n",
    "        y_test_part = test_part[LABEL]\n",
    "\n",
    "        df = pd.get_dummies(pd.concat([X_train_part, X_test_part], ignore_index=True)).fillna(0)\n",
    "\n",
    "        X_train_part = df.loc[X_train_part.index]\n",
    "        X_test_part = df.loc[X_test_part.index]\n",
    "\n",
    "        clf = RandomForestClassifier(n_estimators=100, random_state=1, max_depth=2)\n",
    "        clf.fit(X_train_part, y_train_part)\n",
    "\n",
    "        ## Random forest train pred\n",
    "\n",
    "        # pred on train\n",
    "        y_pred_train_part = clf.predict(X_train_part)\n",
    "\n",
    "        # accuracy on train\n",
    "        print(clf.score(X_train_part, y_train_part))\n",
    "\n",
    "        print(mean_squared_error(y_train_part, y_pred_train_part))\n",
    "\n",
    "        ## Random forest test pred\n",
    "\n",
    "        # pred on test\n",
    "        y_pred_test_part = clf.predict(X_test_part)\n",
    "\n",
    "        # accuracy on test\n",
    "        print(clf.score(X_test_part, y_test_part))\n",
    "\n",
    "        print(mean_squared_error(y_test_part, y_pred_test_part))"
   ]
  },
  {
   "cell_type": "markdown",
   "metadata": {},
   "source": [
    "# Random Forest seasons + day part data"
   ]
  },
  {
   "cell_type": "code",
   "execution_count": 107,
   "metadata": {},
   "outputs": [
    {
     "name": "stdout",
     "output_type": "stream",
     "text": [
      "season winter day part night data\n"
     ]
    },
    {
     "name": "stderr",
     "output_type": "stream",
     "text": [
      "C:\\Users\\Fedia\\anaconda3\\lib\\site-packages\\ipykernel_launcher.py:25: DataConversionWarning: A column-vector y was passed when a 1d array was expected. Please change the shape of y to (n_samples,), for example using ravel().\n"
     ]
    },
    {
     "name": "stdout",
     "output_type": "stream",
     "text": [
      "0.617124394184168\n",
      "0.7334410339256866\n",
      "0.5161290322580645\n",
      "0.6774193548387096\n",
      "season winter day part morning data\n"
     ]
    },
    {
     "name": "stderr",
     "output_type": "stream",
     "text": [
      "C:\\Users\\Fedia\\anaconda3\\lib\\site-packages\\ipykernel_launcher.py:25: DataConversionWarning: A column-vector y was passed when a 1d array was expected. Please change the shape of y to (n_samples,), for example using ravel().\n"
     ]
    },
    {
     "name": "stdout",
     "output_type": "stream",
     "text": [
      "0.4449838187702265\n",
      "1.0339805825242718\n",
      "0.3064516129032258\n",
      "2.274193548387097\n",
      "season winter day part noon data\n"
     ]
    },
    {
     "name": "stderr",
     "output_type": "stream",
     "text": [
      "C:\\Users\\Fedia\\anaconda3\\lib\\site-packages\\ipykernel_launcher.py:25: DataConversionWarning: A column-vector y was passed when a 1d array was expected. Please change the shape of y to (n_samples,), for example using ravel().\n"
     ]
    },
    {
     "name": "stdout",
     "output_type": "stream",
     "text": [
      "0.5121555915721232\n",
      "0.713128038897893\n",
      "0.3870967741935484\n",
      "1.7580645161290323\n",
      "season winter day part evening data\n"
     ]
    },
    {
     "name": "stderr",
     "output_type": "stream",
     "text": [
      "C:\\Users\\Fedia\\anaconda3\\lib\\site-packages\\ipykernel_launcher.py:25: DataConversionWarning: A column-vector y was passed when a 1d array was expected. Please change the shape of y to (n_samples,), for example using ravel().\n"
     ]
    },
    {
     "name": "stdout",
     "output_type": "stream",
     "text": [
      "0.5292207792207793\n",
      "0.5811688311688312\n",
      "0.47540983606557374\n",
      "0.6229508196721312\n",
      "season spring day part night data\n"
     ]
    },
    {
     "name": "stderr",
     "output_type": "stream",
     "text": [
      "C:\\Users\\Fedia\\anaconda3\\lib\\site-packages\\ipykernel_launcher.py:25: DataConversionWarning: A column-vector y was passed when a 1d array was expected. Please change the shape of y to (n_samples,), for example using ravel().\n"
     ]
    },
    {
     "name": "stdout",
     "output_type": "stream",
     "text": [
      "0.4666666666666667\n",
      "0.9837837837837838\n",
      "0.2542372881355932\n",
      "3.0847457627118646\n",
      "season spring day part morning data\n"
     ]
    },
    {
     "name": "stderr",
     "output_type": "stream",
     "text": [
      "C:\\Users\\Fedia\\anaconda3\\lib\\site-packages\\ipykernel_launcher.py:25: DataConversionWarning: A column-vector y was passed when a 1d array was expected. Please change the shape of y to (n_samples,), for example using ravel().\n"
     ]
    },
    {
     "name": "stdout",
     "output_type": "stream",
     "text": [
      "0.4003623188405797\n",
      "1.3315217391304348\n",
      "0.1694915254237288\n",
      "2.9152542372881354\n",
      "season spring day part noon data\n"
     ]
    },
    {
     "name": "stderr",
     "output_type": "stream",
     "text": [
      "C:\\Users\\Fedia\\anaconda3\\lib\\site-packages\\ipykernel_launcher.py:25: DataConversionWarning: A column-vector y was passed when a 1d array was expected. Please change the shape of y to (n_samples,), for example using ravel().\n"
     ]
    },
    {
     "name": "stdout",
     "output_type": "stream",
     "text": [
      "0.4309090909090909\n",
      "1.2381818181818183\n",
      "0.2542372881355932\n",
      "3.23728813559322\n",
      "season spring day part evening data\n"
     ]
    },
    {
     "name": "stderr",
     "output_type": "stream",
     "text": [
      "C:\\Users\\Fedia\\anaconda3\\lib\\site-packages\\ipykernel_launcher.py:25: DataConversionWarning: A column-vector y was passed when a 1d array was expected. Please change the shape of y to (n_samples,), for example using ravel().\n"
     ]
    },
    {
     "name": "stdout",
     "output_type": "stream",
     "text": [
      "0.4625228519195612\n",
      "0.9177330895795247\n",
      "0.2033898305084746\n",
      "3.0\n",
      "season summer day part night data\n"
     ]
    },
    {
     "name": "stderr",
     "output_type": "stream",
     "text": [
      "C:\\Users\\Fedia\\anaconda3\\lib\\site-packages\\ipykernel_launcher.py:25: DataConversionWarning: A column-vector y was passed when a 1d array was expected. Please change the shape of y to (n_samples,), for example using ravel().\n"
     ]
    },
    {
     "name": "stdout",
     "output_type": "stream",
     "text": [
      "0.45530393325387364\n",
      "0.9892729439809297\n",
      "0.27472527472527475\n",
      "1.7252747252747254\n",
      "season summer day part morning data\n"
     ]
    },
    {
     "name": "stderr",
     "output_type": "stream",
     "text": [
      "C:\\Users\\Fedia\\anaconda3\\lib\\site-packages\\ipykernel_launcher.py:25: DataConversionWarning: A column-vector y was passed when a 1d array was expected. Please change the shape of y to (n_samples,), for example using ravel().\n"
     ]
    },
    {
     "name": "stdout",
     "output_type": "stream",
     "text": [
      "0.5473053892215569\n",
      "1.4934131736526945\n",
      "0.7888888888888889\n",
      "0.4111111111111111\n",
      "season summer day part noon data\n"
     ]
    },
    {
     "name": "stderr",
     "output_type": "stream",
     "text": [
      "C:\\Users\\Fedia\\anaconda3\\lib\\site-packages\\ipykernel_launcher.py:25: DataConversionWarning: A column-vector y was passed when a 1d array was expected. Please change the shape of y to (n_samples,), for example using ravel().\n"
     ]
    },
    {
     "name": "stdout",
     "output_type": "stream",
     "text": [
      "0.4820574162679426\n",
      "1.388755980861244\n",
      "0.4044943820224719\n",
      "1.4606741573033708\n",
      "season summer day part evening data\n"
     ]
    },
    {
     "name": "stderr",
     "output_type": "stream",
     "text": [
      "C:\\Users\\Fedia\\anaconda3\\lib\\site-packages\\ipykernel_launcher.py:25: DataConversionWarning: A column-vector y was passed when a 1d array was expected. Please change the shape of y to (n_samples,), for example using ravel().\n"
     ]
    },
    {
     "name": "stdout",
     "output_type": "stream",
     "text": [
      "0.4620938628158845\n",
      "0.8796630565583634\n",
      "0.28735632183908044\n",
      "1.4482758620689655\n",
      "season monsoon day part night data\n"
     ]
    },
    {
     "name": "stderr",
     "output_type": "stream",
     "text": [
      "C:\\Users\\Fedia\\anaconda3\\lib\\site-packages\\ipykernel_launcher.py:25: DataConversionWarning: A column-vector y was passed when a 1d array was expected. Please change the shape of y to (n_samples,), for example using ravel().\n"
     ]
    },
    {
     "name": "stdout",
     "output_type": "stream",
     "text": [
      "0.6537433155080213\n",
      "0.3622994652406417\n",
      "0.44155844155844154\n",
      "0.5584415584415584\n",
      "season monsoon day part morning data\n"
     ]
    },
    {
     "name": "stderr",
     "output_type": "stream",
     "text": [
      "C:\\Users\\Fedia\\anaconda3\\lib\\site-packages\\ipykernel_launcher.py:25: DataConversionWarning: A column-vector y was passed when a 1d array was expected. Please change the shape of y to (n_samples,), for example using ravel().\n"
     ]
    },
    {
     "name": "stdout",
     "output_type": "stream",
     "text": [
      "0.6327077747989276\n",
      "0.46648793565683644\n",
      "0.39473684210526316\n",
      "1.25\n",
      "season monsoon day part noon data\n"
     ]
    },
    {
     "name": "stderr",
     "output_type": "stream",
     "text": [
      "C:\\Users\\Fedia\\anaconda3\\lib\\site-packages\\ipykernel_launcher.py:25: DataConversionWarning: A column-vector y was passed when a 1d array was expected. Please change the shape of y to (n_samples,), for example using ravel().\n"
     ]
    },
    {
     "name": "stdout",
     "output_type": "stream",
     "text": [
      "0.4839572192513369\n",
      "0.7219251336898396\n",
      "0.3287671232876712\n",
      "1.273972602739726\n",
      "season monsoon day part evening data\n"
     ]
    },
    {
     "name": "stderr",
     "output_type": "stream",
     "text": [
      "C:\\Users\\Fedia\\anaconda3\\lib\\site-packages\\ipykernel_launcher.py:25: DataConversionWarning: A column-vector y was passed when a 1d array was expected. Please change the shape of y to (n_samples,), for example using ravel().\n"
     ]
    },
    {
     "name": "stdout",
     "output_type": "stream",
     "text": [
      "0.5338753387533876\n",
      "0.6531165311653117\n",
      "0.4520547945205479\n",
      "0.6301369863013698\n",
      "season autumn day part night data\n"
     ]
    },
    {
     "name": "stderr",
     "output_type": "stream",
     "text": [
      "C:\\Users\\Fedia\\anaconda3\\lib\\site-packages\\ipykernel_launcher.py:25: DataConversionWarning: A column-vector y was passed when a 1d array was expected. Please change the shape of y to (n_samples,), for example using ravel().\n"
     ]
    },
    {
     "name": "stdout",
     "output_type": "stream",
     "text": [
      "0.5019762845849802\n",
      "0.7957839262187089\n",
      "0.5\n",
      "0.6842105263157895\n",
      "season autumn day part morning data\n"
     ]
    },
    {
     "name": "stderr",
     "output_type": "stream",
     "text": [
      "C:\\Users\\Fedia\\anaconda3\\lib\\site-packages\\ipykernel_launcher.py:25: DataConversionWarning: A column-vector y was passed when a 1d array was expected. Please change the shape of y to (n_samples,), for example using ravel().\n"
     ]
    },
    {
     "name": "stdout",
     "output_type": "stream",
     "text": [
      "0.5231788079470199\n",
      "0.6291390728476821\n",
      "0.618421052631579\n",
      "0.7894736842105263\n",
      "season autumn day part noon data\n"
     ]
    },
    {
     "name": "stderr",
     "output_type": "stream",
     "text": [
      "C:\\Users\\Fedia\\anaconda3\\lib\\site-packages\\ipykernel_launcher.py:25: DataConversionWarning: A column-vector y was passed when a 1d array was expected. Please change the shape of y to (n_samples,), for example using ravel().\n"
     ]
    },
    {
     "name": "stdout",
     "output_type": "stream",
     "text": [
      "0.39841688654353563\n",
      "1.0303430079155673\n",
      "0.34210526315789475\n",
      "1.144736842105263\n",
      "season autumn day part evening data\n"
     ]
    },
    {
     "name": "stderr",
     "output_type": "stream",
     "text": [
      "C:\\Users\\Fedia\\anaconda3\\lib\\site-packages\\ipykernel_launcher.py:25: DataConversionWarning: A column-vector y was passed when a 1d array was expected. Please change the shape of y to (n_samples,), for example using ravel().\n"
     ]
    },
    {
     "name": "stdout",
     "output_type": "stream",
     "text": [
      "0.5396825396825397\n",
      "0.5317460317460317\n",
      "0.5753424657534246\n",
      "0.589041095890411\n"
     ]
    }
   ],
   "source": [
    "for s in ['winter', 'spring', 'summer', 'monsoon', 'autumn']:\n",
    "    for p in ['night', 'morning', 'noon', 'evening']:\n",
    "        print(fr'season {s} day part {p} data')\n",
    "\n",
    "        ## Load train test from csv\n",
    "\n",
    "        train_part = pd.read_csv(fr'weather_data/df_season_{s}_train.csv')\n",
    "        test_part = pd.read_csv(fr'weather_data/df_season_{s}_test.csv')\n",
    "        \n",
    "        train_part = train_part[train_part[p] == 1].reset_index()\n",
    "        test_part = test_part[test_part[p] == 1].reset_index()\n",
    "\n",
    "        X_train_part = train_part[REL_FEATURES]\n",
    "        y_train_part = train_part[LABEL]\n",
    "\n",
    "        X_test_part = test_part[REL_FEATURES]\n",
    "        y_test_part = test_part[LABEL]\n",
    "\n",
    "        df = pd.get_dummies(pd.concat([X_train_part, X_test_part], ignore_index=True)).fillna(0)\n",
    "\n",
    "        X_train_part = df.loc[X_train_part.index]\n",
    "        X_test_part = df.loc[X_test_part.index]\n",
    "\n",
    "        clf = RandomForestClassifier(n_estimators=100, random_state=1, max_depth=2)\n",
    "        clf.fit(X_train_part, y_train_part)\n",
    "\n",
    "        ## Random forest train pred\n",
    "\n",
    "        # pred on train\n",
    "        y_pred_train_part = clf.predict(X_train_part)\n",
    "\n",
    "        # accuracy on train\n",
    "        print(clf.score(X_train_part, y_train_part))\n",
    "\n",
    "        print(mean_squared_error(y_train_part, y_pred_train_part))\n",
    "\n",
    "        ## Random forest test pred\n",
    "\n",
    "        # pred on test\n",
    "        y_pred_test_part = clf.predict(X_test_part)\n",
    "\n",
    "        # accuracy on test\n",
    "        print(clf.score(X_test_part, y_test_part))\n",
    "\n",
    "        print(mean_squared_error(y_test_part, y_pred_test_part))"
   ]
  },
  {
   "cell_type": "code",
   "execution_count": null,
   "metadata": {},
   "outputs": [],
   "source": []
  },
  {
   "cell_type": "code",
   "execution_count": 25,
   "metadata": {},
   "outputs": [
    {
     "data": {
      "text/plain": [
       "['Temp']"
      ]
     },
     "execution_count": 25,
     "metadata": {},
     "output_type": "execute_result"
    }
   ],
   "source": [
    "LABEL"
   ]
  },
  {
   "cell_type": "code",
   "execution_count": 36,
   "metadata": {},
   "outputs": [],
   "source": [
    "def rundom_forest(model_name, results):\n",
    "    results[model_name] = {}\n",
    "    if 'full' in str(model_name):\n",
    "        print('full_year')\n",
    "        shift = 2\n",
    "        results[model_name]['freq'] = 'full_year'\n",
    "    elif any(season in str(model_name) for season in ['winter', 'spring', 'summer', 'monsoon', 'autumn']):\n",
    "#         print('season')\n",
    "        if any(season in str(model_name) for season in ['winter', 'autumn']):\n",
    "            shift = 0\n",
    "        else:\n",
    "            shift = 2\n",
    "        results[model_name]['freq'] = 'season'\n",
    "    elif any(str(month) in str(model_name) for month in range(1,13)):\n",
    "#         print('month')\n",
    "        shift = 0\n",
    "        results[model_name]['freq'] = 'month'\n",
    "    else:\n",
    "        raise 'error'\n",
    "        \n",
    "    if 'all' in str(model_name):\n",
    "#         print('all_day')\n",
    "        results[model_name]['day_part'] = 'all_day'\n",
    "    elif any(season in str(model_name) for season in ['night', 'morning', 'noon', 'evening']):\n",
    "#         print('day_part')\n",
    "        results[model_name]['day_part'] = 'one_part'\n",
    "    else:\n",
    "        raise 'error'\n",
    "\n",
    "\n",
    "    ## Load train test from csv\n",
    "    train_part = pd.read_csv(fr'../weather_data/df_{model_name}_train.csv')\n",
    "    test_part = pd.read_csv(fr'../weather_data/df_{model_name}_test.csv')\n",
    "\n",
    "    X_train_part = train_part[REL_FEATURES]\n",
    "    y_train_part = train_part[LABEL]\n",
    "\n",
    "    X_test_part = test_part[REL_FEATURES]\n",
    "    y_test_part = test_part[LABEL[0]]\n",
    "\n",
    "    df = pd.get_dummies(pd.concat([X_train_part, X_test_part], ignore_index=True)).fillna(0)\n",
    "\n",
    "    X_train_part = df.loc[X_train_part.index]\n",
    "    X_test_part = df.loc[X_test_part.index]\n",
    "\n",
    "    clf = RandomForestClassifier(n_estimators=100, random_state=1, max_depth=2)\n",
    "    clf.fit(X_train_part, y_train_part)\n",
    "\n",
    "    ## Random forest train pred\n",
    "\n",
    "    # pred on train\n",
    "    y_pred_train_part = clf.predict(X_train_part)\n",
    "\n",
    "    # accuracy on train\n",
    "    results[model_name]['train_acc'] = clf.score(X_train_part, y_train_part)\n",
    "\n",
    "    results[model_name]['train_mse'] = mean_squared_error(y_train_part, y_pred_train_part)\n",
    "\n",
    "    ## Random forest test pred\n",
    "\n",
    "    # pred on test\n",
    "    y_pred_test_part = clf.predict(X_test_part)\n",
    "\n",
    "    # accuracy on test\n",
    "    results[model_name]['test_acc'] = clf.score(X_test_part, y_test_part)\n",
    "\n",
    "    results[model_name]['test_mse'] = mean_squared_error(y_test_part, y_pred_test_part)\n",
    "\n",
    "    print(results[model_name])\n",
    "    return results"
   ]
  },
  {
   "cell_type": "code",
   "execution_count": 37,
   "metadata": {},
   "outputs": [
    {
     "name": "stdout",
     "output_type": "stream",
     "text": [
      "\n",
      "\n",
      "1_all\n"
     ]
    },
    {
     "name": "stderr",
     "output_type": "stream",
     "text": [
      "/Users/MosheAbadi/anaconda3/lib/python3.7/site-packages/ipykernel_launcher.py:47: DataConversionWarning: A column-vector y was passed when a 1d array was expected. Please change the shape of y to (n_samples,), for example using ravel().\n"
     ]
    },
    {
     "name": "stdout",
     "output_type": "stream",
     "text": [
      "{'freq': 'month', 'day_part': 'all_day', 'train_acc': 0.47483766233766234, 'train_mse': 0.9943181818181818, 'test_acc': 0.3629032258064516, 'test_mse': 1.596774193548387}\n",
      "\n",
      "\n",
      "1_night\n",
      "{'freq': 'month', 'day_part': 'one_part', 'train_acc': 0.6148867313915858, 'train_mse': 0.8090614886731392, 'test_acc': 0.5161290322580645, 'test_mse': 0.6774193548387096}\n",
      "\n",
      "\n",
      "1_morning\n"
     ]
    },
    {
     "name": "stderr",
     "output_type": "stream",
     "text": [
      "/Users/MosheAbadi/anaconda3/lib/python3.7/site-packages/ipykernel_launcher.py:47: DataConversionWarning: A column-vector y was passed when a 1d array was expected. Please change the shape of y to (n_samples,), for example using ravel().\n",
      "/Users/MosheAbadi/anaconda3/lib/python3.7/site-packages/ipykernel_launcher.py:47: DataConversionWarning: A column-vector y was passed when a 1d array was expected. Please change the shape of y to (n_samples,), for example using ravel().\n"
     ]
    },
    {
     "name": "stdout",
     "output_type": "stream",
     "text": [
      "{'freq': 'month', 'day_part': 'one_part', 'train_acc': 0.4642857142857143, 'train_mse': 0.8766233766233766, 'test_acc': 0.12903225806451613, 'test_mse': 2.774193548387097}\n",
      "\n",
      "\n",
      "1_noon\n",
      "{'freq': 'month', 'day_part': 'one_part', 'train_acc': 0.5439739413680782, 'train_mse': 0.6840390879478827, 'test_acc': 0.25806451612903225, 'test_mse': 2.161290322580645}\n",
      "\n",
      "\n",
      "1_evening\n"
     ]
    },
    {
     "name": "stderr",
     "output_type": "stream",
     "text": [
      "/Users/MosheAbadi/anaconda3/lib/python3.7/site-packages/ipykernel_launcher.py:47: DataConversionWarning: A column-vector y was passed when a 1d array was expected. Please change the shape of y to (n_samples,), for example using ravel().\n",
      "/Users/MosheAbadi/anaconda3/lib/python3.7/site-packages/ipykernel_launcher.py:47: DataConversionWarning: A column-vector y was passed when a 1d array was expected. Please change the shape of y to (n_samples,), for example using ravel().\n"
     ]
    },
    {
     "name": "stdout",
     "output_type": "stream",
     "text": [
      "{'freq': 'month', 'day_part': 'one_part', 'train_acc': 0.6623376623376623, 'train_mse': 0.4448051948051948, 'test_acc': 0.5806451612903226, 'test_mse': 0.6129032258064516}\n",
      "\n",
      "\n",
      "2_all\n"
     ]
    },
    {
     "name": "stderr",
     "output_type": "stream",
     "text": [
      "/Users/MosheAbadi/anaconda3/lib/python3.7/site-packages/ipykernel_launcher.py:47: DataConversionWarning: A column-vector y was passed when a 1d array was expected. Please change the shape of y to (n_samples,), for example using ravel().\n"
     ]
    },
    {
     "name": "stdout",
     "output_type": "stream",
     "text": [
      "{'freq': 'month', 'day_part': 'all_day', 'train_acc': 0.38447488584474887, 'train_mse': 1.1433789954337898, 'test_acc': 0.2857142857142857, 'test_mse': 3.9642857142857144}\n",
      "\n",
      "\n",
      "2_night\n",
      "{'freq': 'month', 'day_part': 'one_part', 'train_acc': 0.5543478260869565, 'train_mse': 0.7536231884057971, 'test_acc': 0.42857142857142855, 'test_mse': 1.7857142857142858}\n",
      "\n",
      "\n",
      "2_morning\n"
     ]
    },
    {
     "name": "stderr",
     "output_type": "stream",
     "text": [
      "/Users/MosheAbadi/anaconda3/lib/python3.7/site-packages/ipykernel_launcher.py:47: DataConversionWarning: A column-vector y was passed when a 1d array was expected. Please change the shape of y to (n_samples,), for example using ravel().\n",
      "/Users/MosheAbadi/anaconda3/lib/python3.7/site-packages/ipykernel_launcher.py:47: DataConversionWarning: A column-vector y was passed when a 1d array was expected. Please change the shape of y to (n_samples,), for example using ravel().\n"
     ]
    },
    {
     "name": "stdout",
     "output_type": "stream",
     "text": [
      "{'freq': 'month', 'day_part': 'one_part', 'train_acc': 0.48717948717948717, 'train_mse': 0.9853479853479854, 'test_acc': 0.2857142857142857, 'test_mse': 3.0}\n",
      "\n",
      "\n",
      "2_noon\n",
      "{'freq': 'month', 'day_part': 'one_part', 'train_acc': 0.47619047619047616, 'train_mse': 0.7875457875457875, 'test_acc': 0.2857142857142857, 'test_mse': 1.8571428571428572}\n",
      "\n",
      "\n",
      "2_evening\n"
     ]
    },
    {
     "name": "stderr",
     "output_type": "stream",
     "text": [
      "/Users/MosheAbadi/anaconda3/lib/python3.7/site-packages/ipykernel_launcher.py:47: DataConversionWarning: A column-vector y was passed when a 1d array was expected. Please change the shape of y to (n_samples,), for example using ravel().\n",
      "/Users/MosheAbadi/anaconda3/lib/python3.7/site-packages/ipykernel_launcher.py:47: DataConversionWarning: A column-vector y was passed when a 1d array was expected. Please change the shape of y to (n_samples,), for example using ravel().\n"
     ]
    },
    {
     "name": "stdout",
     "output_type": "stream",
     "text": [
      "{'freq': 'month', 'day_part': 'one_part', 'train_acc': 0.5421245421245421, 'train_mse': 0.6556776556776557, 'test_acc': 0.42857142857142855, 'test_mse': 1.4285714285714286}\n",
      "\n",
      "\n",
      "3_all\n",
      "{'freq': 'month', 'day_part': 'all_day', 'train_acc': 0.35978358881875566, 'train_mse': 1.3985572587917043, 'test_acc': 0.25, 'test_mse': 5.362903225806452}\n",
      "\n",
      "\n",
      "3_night\n"
     ]
    },
    {
     "name": "stderr",
     "output_type": "stream",
     "text": [
      "/Users/MosheAbadi/anaconda3/lib/python3.7/site-packages/ipykernel_launcher.py:47: DataConversionWarning: A column-vector y was passed when a 1d array was expected. Please change the shape of y to (n_samples,), for example using ravel().\n",
      "/Users/MosheAbadi/anaconda3/lib/python3.7/site-packages/ipykernel_launcher.py:47: DataConversionWarning: A column-vector y was passed when a 1d array was expected. Please change the shape of y to (n_samples,), for example using ravel().\n"
     ]
    },
    {
     "name": "stdout",
     "output_type": "stream",
     "text": [
      "{'freq': 'month', 'day_part': 'one_part', 'train_acc': 0.5519713261648745, 'train_mse': 0.7741935483870968, 'test_acc': 0.3225806451612903, 'test_mse': 1.1612903225806452}\n",
      "\n",
      "\n",
      "3_morning\n",
      "{'freq': 'month', 'day_part': 'one_part', 'train_acc': 0.4659498207885305, 'train_mse': 1.093189964157706, 'test_acc': 0.3225806451612903, 'test_mse': 0.967741935483871}\n",
      "\n",
      "\n",
      "3_noon\n"
     ]
    },
    {
     "name": "stderr",
     "output_type": "stream",
     "text": [
      "/Users/MosheAbadi/anaconda3/lib/python3.7/site-packages/ipykernel_launcher.py:47: DataConversionWarning: A column-vector y was passed when a 1d array was expected. Please change the shape of y to (n_samples,), for example using ravel().\n",
      "/Users/MosheAbadi/anaconda3/lib/python3.7/site-packages/ipykernel_launcher.py:47: DataConversionWarning: A column-vector y was passed when a 1d array was expected. Please change the shape of y to (n_samples,), for example using ravel().\n"
     ]
    },
    {
     "name": "stdout",
     "output_type": "stream",
     "text": [
      "{'freq': 'month', 'day_part': 'one_part', 'train_acc': 0.45126353790613716, 'train_mse': 1.0902527075812274, 'test_acc': 0.3870967741935484, 'test_mse': 1.5161290322580645}\n",
      "\n",
      "\n",
      "3_evening\n",
      "{'freq': 'month', 'day_part': 'one_part', 'train_acc': 0.5255474452554745, 'train_mse': 0.6788321167883211, 'test_acc': 0.45161290322580644, 'test_mse': 0.8387096774193549}\n",
      "\n",
      "\n",
      "4_all\n"
     ]
    },
    {
     "name": "stderr",
     "output_type": "stream",
     "text": [
      "/Users/MosheAbadi/anaconda3/lib/python3.7/site-packages/ipykernel_launcher.py:47: DataConversionWarning: A column-vector y was passed when a 1d array was expected. Please change the shape of y to (n_samples,), for example using ravel().\n",
      "/Users/MosheAbadi/anaconda3/lib/python3.7/site-packages/ipykernel_launcher.py:47: DataConversionWarning: A column-vector y was passed when a 1d array was expected. Please change the shape of y to (n_samples,), for example using ravel().\n"
     ]
    },
    {
     "name": "stdout",
     "output_type": "stream",
     "text": [
      "{'freq': 'month', 'day_part': 'all_day', 'train_acc': 0.44609665427509293, 'train_mse': 1.095724907063197, 'test_acc': 0.15254237288135594, 'test_mse': 6.203389830508475}\n",
      "\n",
      "\n",
      "4_night\n"
     ]
    },
    {
     "name": "stderr",
     "output_type": "stream",
     "text": [
      "/Users/MosheAbadi/anaconda3/lib/python3.7/site-packages/ipykernel_launcher.py:47: DataConversionWarning: A column-vector y was passed when a 1d array was expected. Please change the shape of y to (n_samples,), for example using ravel().\n"
     ]
    },
    {
     "name": "stdout",
     "output_type": "stream",
     "text": [
      "{'freq': 'month', 'day_part': 'one_part', 'train_acc': 0.5481481481481482, 'train_mse': 0.7185185185185186, 'test_acc': 0.3, 'test_mse': 2.1666666666666665}\n",
      "\n",
      "\n",
      "4_morning\n",
      "{'freq': 'month', 'day_part': 'one_part', 'train_acc': 0.5185185185185185, 'train_mse': 1.3148148148148149, 'test_acc': 0.5517241379310345, 'test_mse': 1.3793103448275863}\n",
      "\n",
      "\n",
      "4_noon\n"
     ]
    },
    {
     "name": "stderr",
     "output_type": "stream",
     "text": [
      "/Users/MosheAbadi/anaconda3/lib/python3.7/site-packages/ipykernel_launcher.py:47: DataConversionWarning: A column-vector y was passed when a 1d array was expected. Please change the shape of y to (n_samples,), for example using ravel().\n",
      "/Users/MosheAbadi/anaconda3/lib/python3.7/site-packages/ipykernel_launcher.py:47: DataConversionWarning: A column-vector y was passed when a 1d array was expected. Please change the shape of y to (n_samples,), for example using ravel().\n"
     ]
    },
    {
     "name": "stdout",
     "output_type": "stream",
     "text": [
      "{'freq': 'month', 'day_part': 'one_part', 'train_acc': 0.5259259259259259, 'train_mse': 1.162962962962963, 'test_acc': 0.3103448275862069, 'test_mse': 1.3103448275862069}\n",
      "\n",
      "\n",
      "4_evening\n",
      "{'freq': 'month', 'day_part': 'one_part', 'train_acc': 0.4849624060150376, 'train_mse': 0.8909774436090225, 'test_acc': 0.26666666666666666, 'test_mse': 1.6}\n",
      "\n",
      "\n",
      "5_all\n"
     ]
    },
    {
     "name": "stderr",
     "output_type": "stream",
     "text": [
      "/Users/MosheAbadi/anaconda3/lib/python3.7/site-packages/ipykernel_launcher.py:47: DataConversionWarning: A column-vector y was passed when a 1d array was expected. Please change the shape of y to (n_samples,), for example using ravel().\n",
      "/Users/MosheAbadi/anaconda3/lib/python3.7/site-packages/ipykernel_launcher.py:47: DataConversionWarning: A column-vector y was passed when a 1d array was expected. Please change the shape of y to (n_samples,), for example using ravel().\n"
     ]
    },
    {
     "name": "stdout",
     "output_type": "stream",
     "text": [
      "{'freq': 'month', 'day_part': 'all_day', 'train_acc': 0.4685251798561151, 'train_mse': 1.29136690647482, 'test_acc': 0.31092436974789917, 'test_mse': 3.7815126050420167}\n",
      "\n",
      "\n",
      "5_night\n",
      "{'freq': 'month', 'day_part': 'one_part', 'train_acc': 0.5071942446043165, 'train_mse': 0.6546762589928058, 'test_acc': 0.5483870967741935, 'test_mse': 0.9354838709677419}\n",
      "\n",
      "\n",
      "5_morning\n"
     ]
    },
    {
     "name": "stderr",
     "output_type": "stream",
     "text": [
      "/Users/MosheAbadi/anaconda3/lib/python3.7/site-packages/ipykernel_launcher.py:47: DataConversionWarning: A column-vector y was passed when a 1d array was expected. Please change the shape of y to (n_samples,), for example using ravel().\n",
      "/Users/MosheAbadi/anaconda3/lib/python3.7/site-packages/ipykernel_launcher.py:47: DataConversionWarning: A column-vector y was passed when a 1d array was expected. Please change the shape of y to (n_samples,), for example using ravel().\n"
     ]
    },
    {
     "name": "stdout",
     "output_type": "stream",
     "text": [
      "{'freq': 'month', 'day_part': 'one_part', 'train_acc': 0.6402877697841727, 'train_mse': 1.370503597122302, 'test_acc': 0.8709677419354839, 'test_mse': 0.12903225806451613}\n",
      "\n",
      "\n",
      "5_noon\n",
      "{'freq': 'month', 'day_part': 'one_part', 'train_acc': 0.5627240143369175, 'train_mse': 1.4516129032258065, 'test_acc': 0.5666666666666667, 'test_mse': 1.0}\n",
      "\n",
      "\n",
      "5_evening\n"
     ]
    },
    {
     "name": "stderr",
     "output_type": "stream",
     "text": [
      "/Users/MosheAbadi/anaconda3/lib/python3.7/site-packages/ipykernel_launcher.py:47: DataConversionWarning: A column-vector y was passed when a 1d array was expected. Please change the shape of y to (n_samples,), for example using ravel().\n",
      "/Users/MosheAbadi/anaconda3/lib/python3.7/site-packages/ipykernel_launcher.py:47: DataConversionWarning: A column-vector y was passed when a 1d array was expected. Please change the shape of y to (n_samples,), for example using ravel().\n"
     ]
    },
    {
     "name": "stdout",
     "output_type": "stream",
     "text": [
      "{'freq': 'month', 'day_part': 'one_part', 'train_acc': 0.5054151624548736, 'train_mse': 0.8050541516245487, 'test_acc': 0.3333333333333333, 'test_mse': 1.3333333333333333}\n",
      "\n",
      "\n",
      "6_all\n"
     ]
    },
    {
     "name": "stderr",
     "output_type": "stream",
     "text": [
      "/Users/MosheAbadi/anaconda3/lib/python3.7/site-packages/ipykernel_launcher.py:47: DataConversionWarning: A column-vector y was passed when a 1d array was expected. Please change the shape of y to (n_samples,), for example using ravel().\n"
     ]
    },
    {
     "name": "stdout",
     "output_type": "stream",
     "text": [
      "{'freq': 'month', 'day_part': 'all_day', 'train_acc': 0.590633130962706, 'train_mse': 0.6513443191673894, 'test_acc': 0.3, 'test_mse': 2.941666666666667}\n",
      "\n",
      "\n",
      "6_night\n",
      "{'freq': 'month', 'day_part': 'one_part', 'train_acc': 0.563573883161512, 'train_mse': 0.5910652920962199, 'test_acc': 0.36666666666666664, 'test_mse': 1.4666666666666666}\n",
      "\n",
      "\n",
      "6_morning\n"
     ]
    },
    {
     "name": "stderr",
     "output_type": "stream",
     "text": [
      "/Users/MosheAbadi/anaconda3/lib/python3.7/site-packages/ipykernel_launcher.py:47: DataConversionWarning: A column-vector y was passed when a 1d array was expected. Please change the shape of y to (n_samples,), for example using ravel().\n",
      "/Users/MosheAbadi/anaconda3/lib/python3.7/site-packages/ipykernel_launcher.py:47: DataConversionWarning: A column-vector y was passed when a 1d array was expected. Please change the shape of y to (n_samples,), for example using ravel().\n"
     ]
    },
    {
     "name": "stdout",
     "output_type": "stream",
     "text": [
      "{'freq': 'month', 'day_part': 'one_part', 'train_acc': 0.6236933797909407, 'train_mse': 0.9512195121951219, 'test_acc': 0.6333333333333333, 'test_mse': 0.9666666666666667}\n",
      "\n",
      "\n",
      "6_noon\n",
      "{'freq': 'month', 'day_part': 'one_part', 'train_acc': 0.5958188153310104, 'train_mse': 0.759581881533101, 'test_acc': 0.36666666666666664, 'test_mse': 2.033333333333333}\n",
      "\n",
      "\n",
      "6_evening\n"
     ]
    },
    {
     "name": "stderr",
     "output_type": "stream",
     "text": [
      "/Users/MosheAbadi/anaconda3/lib/python3.7/site-packages/ipykernel_launcher.py:47: DataConversionWarning: A column-vector y was passed when a 1d array was expected. Please change the shape of y to (n_samples,), for example using ravel().\n",
      "/Users/MosheAbadi/anaconda3/lib/python3.7/site-packages/ipykernel_launcher.py:47: DataConversionWarning: A column-vector y was passed when a 1d array was expected. Please change the shape of y to (n_samples,), for example using ravel().\n"
     ]
    },
    {
     "name": "stdout",
     "output_type": "stream",
     "text": [
      "{'freq': 'month', 'day_part': 'one_part', 'train_acc': 0.5520833333333334, 'train_mse': 0.6840277777777778, 'test_acc': 0.3, 'test_mse': 1.3666666666666667}\n",
      "\n",
      "\n",
      "7_all\n"
     ]
    },
    {
     "name": "stderr",
     "output_type": "stream",
     "text": [
      "/Users/MosheAbadi/anaconda3/lib/python3.7/site-packages/ipykernel_launcher.py:47: DataConversionWarning: A column-vector y was passed when a 1d array was expected. Please change the shape of y to (n_samples,), for example using ravel().\n"
     ]
    },
    {
     "name": "stdout",
     "output_type": "stream",
     "text": [
      "{'freq': 'month', 'day_part': 'all_day', 'train_acc': 0.5380875202593193, 'train_mse': 0.6150729335494327, 'test_acc': 0.2727272727272727, 'test_mse': 1.5950413223140496}\n",
      "\n",
      "\n",
      "7_night\n",
      "{'freq': 'month', 'day_part': 'one_part', 'train_acc': 0.6741935483870968, 'train_mse': 0.33548387096774196, 'test_acc': 0.4838709677419355, 'test_mse': 0.5161290322580645}\n",
      "\n",
      "\n",
      "7_morning\n"
     ]
    },
    {
     "name": "stderr",
     "output_type": "stream",
     "text": [
      "/Users/MosheAbadi/anaconda3/lib/python3.7/site-packages/ipykernel_launcher.py:47: DataConversionWarning: A column-vector y was passed when a 1d array was expected. Please change the shape of y to (n_samples,), for example using ravel().\n",
      "/Users/MosheAbadi/anaconda3/lib/python3.7/site-packages/ipykernel_launcher.py:47: DataConversionWarning: A column-vector y was passed when a 1d array was expected. Please change the shape of y to (n_samples,), for example using ravel().\n"
     ]
    },
    {
     "name": "stdout",
     "output_type": "stream",
     "text": [
      "{'freq': 'month', 'day_part': 'one_part', 'train_acc': 0.6310679611650486, 'train_mse': 0.5275080906148867, 'test_acc': 0.5, 'test_mse': 1.2333333333333334}\n",
      "\n",
      "\n",
      "7_noon\n",
      "{'freq': 'month', 'day_part': 'one_part', 'train_acc': 0.5612903225806452, 'train_mse': 0.5258064516129032, 'test_acc': 0.36666666666666664, 'test_mse': 1.4}\n",
      "\n",
      "\n",
      "7_evening\n"
     ]
    },
    {
     "name": "stderr",
     "output_type": "stream",
     "text": [
      "/Users/MosheAbadi/anaconda3/lib/python3.7/site-packages/ipykernel_launcher.py:47: DataConversionWarning: A column-vector y was passed when a 1d array was expected. Please change the shape of y to (n_samples,), for example using ravel().\n",
      "/Users/MosheAbadi/anaconda3/lib/python3.7/site-packages/ipykernel_launcher.py:47: DataConversionWarning: A column-vector y was passed when a 1d array was expected. Please change the shape of y to (n_samples,), for example using ravel().\n"
     ]
    },
    {
     "name": "stdout",
     "output_type": "stream",
     "text": [
      "{'freq': 'month', 'day_part': 'one_part', 'train_acc': 0.6131147540983607, 'train_mse': 0.46557377049180326, 'test_acc': 0.4, 'test_mse': 1.0}\n",
      "\n",
      "\n",
      "8_all\n"
     ]
    },
    {
     "name": "stderr",
     "output_type": "stream",
     "text": [
      "/Users/MosheAbadi/anaconda3/lib/python3.7/site-packages/ipykernel_launcher.py:47: DataConversionWarning: A column-vector y was passed when a 1d array was expected. Please change the shape of y to (n_samples,), for example using ravel().\n"
     ]
    },
    {
     "name": "stdout",
     "output_type": "stream",
     "text": [
      "{'freq': 'month', 'day_part': 'all_day', 'train_acc': 0.6504770164787511, 'train_mse': 0.37294015611448394, 'test_acc': 0.3220338983050847, 'test_mse': 1.347457627118644}\n",
      "\n",
      "\n",
      "8_night\n"
     ]
    },
    {
     "name": "stderr",
     "output_type": "stream",
     "text": [
      "/Users/MosheAbadi/anaconda3/lib/python3.7/site-packages/ipykernel_launcher.py:47: DataConversionWarning: A column-vector y was passed when a 1d array was expected. Please change the shape of y to (n_samples,), for example using ravel().\n",
      "/Users/MosheAbadi/anaconda3/lib/python3.7/site-packages/ipykernel_launcher.py:47: DataConversionWarning: A column-vector y was passed when a 1d array was expected. Please change the shape of y to (n_samples,), for example using ravel().\n"
     ]
    },
    {
     "name": "stdout",
     "output_type": "stream",
     "text": [
      "{'freq': 'month', 'day_part': 'one_part', 'train_acc': 0.740484429065744, 'train_mse': 0.2698961937716263, 'test_acc': 0.4838709677419355, 'test_mse': 0.5161290322580645}\n",
      "\n",
      "\n",
      "8_morning\n",
      "{'freq': 'month', 'day_part': 'one_part', 'train_acc': 0.6816608996539792, 'train_mse': 0.4429065743944637, 'test_acc': 0.45161290322580644, 'test_mse': 1.1290322580645162}\n",
      "\n",
      "\n",
      "8_noon\n"
     ]
    },
    {
     "name": "stderr",
     "output_type": "stream",
     "text": [
      "/Users/MosheAbadi/anaconda3/lib/python3.7/site-packages/ipykernel_launcher.py:47: DataConversionWarning: A column-vector y was passed when a 1d array was expected. Please change the shape of y to (n_samples,), for example using ravel().\n",
      "/Users/MosheAbadi/anaconda3/lib/python3.7/site-packages/ipykernel_launcher.py:47: DataConversionWarning: A column-vector y was passed when a 1d array was expected. Please change the shape of y to (n_samples,), for example using ravel().\n"
     ]
    },
    {
     "name": "stdout",
     "output_type": "stream",
     "text": [
      "{'freq': 'month', 'day_part': 'one_part', 'train_acc': 0.6241379310344828, 'train_mse': 0.4379310344827586, 'test_acc': 0.42857142857142855, 'test_mse': 0.8928571428571429}\n",
      "\n",
      "\n",
      "8_evening\n",
      "{'freq': 'month', 'day_part': 'one_part', 'train_acc': 0.631578947368421, 'train_mse': 0.37894736842105264, 'test_acc': 0.5714285714285714, 'test_mse': 0.42857142857142855}\n",
      "\n",
      "\n",
      "9_all\n"
     ]
    },
    {
     "name": "stderr",
     "output_type": "stream",
     "text": [
      "/Users/MosheAbadi/anaconda3/lib/python3.7/site-packages/ipykernel_launcher.py:47: DataConversionWarning: A column-vector y was passed when a 1d array was expected. Please change the shape of y to (n_samples,), for example using ravel().\n"
     ]
    },
    {
     "name": "stdout",
     "output_type": "stream",
     "text": [
      "{'freq': 'month', 'day_part': 'all_day', 'train_acc': 0.5507976490344249, 'train_mse': 0.5583543240973972, 'test_acc': 0.3445378151260504, 'test_mse': 1.2521008403361344}\n",
      "\n",
      "\n",
      "9_night\n",
      "{'freq': 'month', 'day_part': 'one_part', 'train_acc': 0.6588628762541806, 'train_mse': 0.41471571906354515, 'test_acc': 0.6, 'test_mse': 0.4}\n",
      "\n",
      "\n",
      "9_morning\n"
     ]
    },
    {
     "name": "stderr",
     "output_type": "stream",
     "text": [
      "/Users/MosheAbadi/anaconda3/lib/python3.7/site-packages/ipykernel_launcher.py:47: DataConversionWarning: A column-vector y was passed when a 1d array was expected. Please change the shape of y to (n_samples,), for example using ravel().\n",
      "/Users/MosheAbadi/anaconda3/lib/python3.7/site-packages/ipykernel_launcher.py:47: DataConversionWarning: A column-vector y was passed when a 1d array was expected. Please change the shape of y to (n_samples,), for example using ravel().\n"
     ]
    },
    {
     "name": "stdout",
     "output_type": "stream",
     "text": [
      "{'freq': 'month', 'day_part': 'one_part', 'train_acc': 0.6148648648648649, 'train_mse': 0.5878378378378378, 'test_acc': 0.43333333333333335, 'test_mse': 1.3666666666666667}\n",
      "\n",
      "\n",
      "9_noon\n",
      "{'freq': 'month', 'day_part': 'one_part', 'train_acc': 0.587248322147651, 'train_mse': 0.5033557046979866, 'test_acc': 0.23333333333333334, 'test_mse': 1.7333333333333334}\n",
      "\n",
      "\n",
      "9_evening\n"
     ]
    },
    {
     "name": "stderr",
     "output_type": "stream",
     "text": [
      "/Users/MosheAbadi/anaconda3/lib/python3.7/site-packages/ipykernel_launcher.py:47: DataConversionWarning: A column-vector y was passed when a 1d array was expected. Please change the shape of y to (n_samples,), for example using ravel().\n",
      "/Users/MosheAbadi/anaconda3/lib/python3.7/site-packages/ipykernel_launcher.py:47: DataConversionWarning: A column-vector y was passed when a 1d array was expected. Please change the shape of y to (n_samples,), for example using ravel().\n"
     ]
    },
    {
     "name": "stdout",
     "output_type": "stream",
     "text": [
      "{'freq': 'month', 'day_part': 'one_part', 'train_acc': 0.7248322147651006, 'train_mse': 0.31543624161073824, 'test_acc': 0.2413793103448276, 'test_mse': 0.8620689655172413}\n",
      "\n",
      "\n",
      "10_all\n"
     ]
    },
    {
     "name": "stderr",
     "output_type": "stream",
     "text": [
      "/Users/MosheAbadi/anaconda3/lib/python3.7/site-packages/ipykernel_launcher.py:47: DataConversionWarning: A column-vector y was passed when a 1d array was expected. Please change the shape of y to (n_samples,), for example using ravel().\n"
     ]
    },
    {
     "name": "stdout",
     "output_type": "stream",
     "text": [
      "{'freq': 'month', 'day_part': 'all_day', 'train_acc': 0.4560975609756098, 'train_mse': 0.8, 'test_acc': 0.32786885245901637, 'test_mse': 3.918032786885246}\n",
      "\n",
      "\n",
      "10_night\n",
      "{'freq': 'month', 'day_part': 'one_part', 'train_acc': 0.5857605177993528, 'train_mse': 0.6019417475728155, 'test_acc': 0.2903225806451613, 'test_mse': 0.7096774193548387}\n",
      "\n",
      "\n",
      "10_morning\n"
     ]
    },
    {
     "name": "stderr",
     "output_type": "stream",
     "text": [
      "/Users/MosheAbadi/anaconda3/lib/python3.7/site-packages/ipykernel_launcher.py:47: DataConversionWarning: A column-vector y was passed when a 1d array was expected. Please change the shape of y to (n_samples,), for example using ravel().\n",
      "/Users/MosheAbadi/anaconda3/lib/python3.7/site-packages/ipykernel_launcher.py:47: DataConversionWarning: A column-vector y was passed when a 1d array was expected. Please change the shape of y to (n_samples,), for example using ravel().\n"
     ]
    },
    {
     "name": "stdout",
     "output_type": "stream",
     "text": [
      "{'freq': 'month', 'day_part': 'one_part', 'train_acc': 0.5895765472312704, 'train_mse': 0.46905537459283386, 'test_acc': 0.5161290322580645, 'test_mse': 0.4838709677419355}\n",
      "\n",
      "\n",
      "10_noon\n",
      "{'freq': 'month', 'day_part': 'one_part', 'train_acc': 0.5811688311688312, 'train_mse': 0.525974025974026, 'test_acc': 0.41935483870967744, 'test_mse': 1.7419354838709677}\n",
      "\n",
      "\n",
      "10_evening\n"
     ]
    },
    {
     "name": "stderr",
     "output_type": "stream",
     "text": [
      "/Users/MosheAbadi/anaconda3/lib/python3.7/site-packages/ipykernel_launcher.py:47: DataConversionWarning: A column-vector y was passed when a 1d array was expected. Please change the shape of y to (n_samples,), for example using ravel().\n",
      "/Users/MosheAbadi/anaconda3/lib/python3.7/site-packages/ipykernel_launcher.py:47: DataConversionWarning: A column-vector y was passed when a 1d array was expected. Please change the shape of y to (n_samples,), for example using ravel().\n"
     ]
    },
    {
     "name": "stdout",
     "output_type": "stream",
     "text": [
      "{'freq': 'month', 'day_part': 'one_part', 'train_acc': 0.6568627450980392, 'train_mse': 0.43137254901960786, 'test_acc': 0.4482758620689655, 'test_mse': 0.8620689655172413}\n",
      "\n",
      "\n",
      "11_all\n"
     ]
    },
    {
     "name": "stderr",
     "output_type": "stream",
     "text": [
      "/Users/MosheAbadi/anaconda3/lib/python3.7/site-packages/ipykernel_launcher.py:47: DataConversionWarning: A column-vector y was passed when a 1d array was expected. Please change the shape of y to (n_samples,), for example using ravel().\n"
     ]
    },
    {
     "name": "stdout",
     "output_type": "stream",
     "text": [
      "{'freq': 'month', 'day_part': 'all_day', 'train_acc': 0.38083333333333336, 'train_mse': 1.0783333333333334, 'test_acc': 0.39166666666666666, 'test_mse': 1.2083333333333333}\n",
      "\n",
      "\n",
      "11_night\n",
      "{'freq': 'month', 'day_part': 'one_part', 'train_acc': 0.5833333333333334, 'train_mse': 0.5666666666666667, 'test_acc': 0.7, 'test_mse': 0.8}\n",
      "\n",
      "\n",
      "11_morning\n"
     ]
    },
    {
     "name": "stderr",
     "output_type": "stream",
     "text": [
      "/Users/MosheAbadi/anaconda3/lib/python3.7/site-packages/ipykernel_launcher.py:47: DataConversionWarning: A column-vector y was passed when a 1d array was expected. Please change the shape of y to (n_samples,), for example using ravel().\n",
      "/Users/MosheAbadi/anaconda3/lib/python3.7/site-packages/ipykernel_launcher.py:47: DataConversionWarning: A column-vector y was passed when a 1d array was expected. Please change the shape of y to (n_samples,), for example using ravel().\n"
     ]
    },
    {
     "name": "stdout",
     "output_type": "stream",
     "text": [
      "{'freq': 'month', 'day_part': 'one_part', 'train_acc': 0.5733333333333334, 'train_mse': 0.5166666666666667, 'test_acc': 0.5333333333333333, 'test_mse': 0.9333333333333333}\n",
      "\n",
      "\n",
      "11_noon\n",
      "{'freq': 'month', 'day_part': 'one_part', 'train_acc': 0.5133333333333333, 'train_mse': 0.8, 'test_acc': 0.3, 'test_mse': 1.4}\n",
      "\n",
      "\n",
      "11_evening\n"
     ]
    },
    {
     "name": "stderr",
     "output_type": "stream",
     "text": [
      "/Users/MosheAbadi/anaconda3/lib/python3.7/site-packages/ipykernel_launcher.py:47: DataConversionWarning: A column-vector y was passed when a 1d array was expected. Please change the shape of y to (n_samples,), for example using ravel().\n",
      "/Users/MosheAbadi/anaconda3/lib/python3.7/site-packages/ipykernel_launcher.py:47: DataConversionWarning: A column-vector y was passed when a 1d array was expected. Please change the shape of y to (n_samples,), for example using ravel().\n"
     ]
    },
    {
     "name": "stdout",
     "output_type": "stream",
     "text": [
      "{'freq': 'month', 'day_part': 'one_part', 'train_acc': 0.63, 'train_mse': 0.45, 'test_acc': 0.7333333333333333, 'test_mse': 0.36666666666666664}\n",
      "\n",
      "\n",
      "12_all\n",
      "{'freq': 'month', 'day_part': 'all_day', 'train_acc': 0.4168012924071082, 'train_mse': 0.9297253634894992, 'test_acc': 0.23577235772357724, 'test_mse': 4.154471544715447}\n",
      "\n",
      "\n",
      "12_night\n"
     ]
    },
    {
     "name": "stderr",
     "output_type": "stream",
     "text": [
      "/Users/MosheAbadi/anaconda3/lib/python3.7/site-packages/ipykernel_launcher.py:47: DataConversionWarning: A column-vector y was passed when a 1d array was expected. Please change the shape of y to (n_samples,), for example using ravel().\n",
      "/Users/MosheAbadi/anaconda3/lib/python3.7/site-packages/ipykernel_launcher.py:47: DataConversionWarning: A column-vector y was passed when a 1d array was expected. Please change the shape of y to (n_samples,), for example using ravel().\n",
      "/Users/MosheAbadi/anaconda3/lib/python3.7/site-packages/ipykernel_launcher.py:47: DataConversionWarning: A column-vector y was passed when a 1d array was expected. Please change the shape of y to (n_samples,), for example using ravel().\n"
     ]
    },
    {
     "name": "stdout",
     "output_type": "stream",
     "text": [
      "{'freq': 'month', 'day_part': 'one_part', 'train_acc': 0.5516129032258065, 'train_mse': 0.7419354838709677, 'test_acc': 0.4838709677419355, 'test_mse': 0.6129032258064516}\n",
      "\n",
      "\n",
      "12_morning\n",
      "{'freq': 'month', 'day_part': 'one_part', 'train_acc': 0.5580645161290323, 'train_mse': 0.7774193548387097, 'test_acc': 0.45161290322580644, 'test_mse': 1.032258064516129}\n",
      "\n",
      "\n",
      "12_noon\n"
     ]
    },
    {
     "name": "stderr",
     "output_type": "stream",
     "text": [
      "/Users/MosheAbadi/anaconda3/lib/python3.7/site-packages/ipykernel_launcher.py:47: DataConversionWarning: A column-vector y was passed when a 1d array was expected. Please change the shape of y to (n_samples,), for example using ravel().\n",
      "/Users/MosheAbadi/anaconda3/lib/python3.7/site-packages/ipykernel_launcher.py:47: DataConversionWarning: A column-vector y was passed when a 1d array was expected. Please change the shape of y to (n_samples,), for example using ravel().\n"
     ]
    },
    {
     "name": "stdout",
     "output_type": "stream",
     "text": [
      "{'freq': 'month', 'day_part': 'one_part', 'train_acc': 0.4967741935483871, 'train_mse': 0.7903225806451613, 'test_acc': 0.45161290322580644, 'test_mse': 2.193548387096774}\n",
      "\n",
      "\n",
      "12_evening\n",
      "{'freq': 'month', 'day_part': 'one_part', 'train_acc': 0.5616883116883117, 'train_mse': 0.5064935064935064, 'test_acc': 0.36666666666666664, 'test_mse': 0.7333333333333333}\n",
      "\n",
      "\n",
      "autumn_all\n"
     ]
    },
    {
     "name": "stderr",
     "output_type": "stream",
     "text": [
      "/Users/MosheAbadi/anaconda3/lib/python3.7/site-packages/ipykernel_launcher.py:47: DataConversionWarning: A column-vector y was passed when a 1d array was expected. Please change the shape of y to (n_samples,), for example using ravel().\n"
     ]
    },
    {
     "name": "stdout",
     "output_type": "stream",
     "text": [
      "{'freq': 'season', 'day_part': 'all_day', 'train_acc': 0.40785997357992076, 'train_mse': 0.9815059445178336, 'test_acc': 0.27906976744186046, 'test_mse': 3.159468438538206}\n",
      "\n",
      "\n",
      "autumn_night\n",
      "{'freq': 'season', 'day_part': 'one_part', 'train_acc': 0.5019762845849802, 'train_mse': 0.7957839262187089, 'test_acc': 0.5, 'test_mse': 0.6842105263157895}\n",
      "\n",
      "\n",
      "autumn_morning\n"
     ]
    },
    {
     "name": "stderr",
     "output_type": "stream",
     "text": [
      "/Users/MosheAbadi/anaconda3/lib/python3.7/site-packages/ipykernel_launcher.py:47: DataConversionWarning: A column-vector y was passed when a 1d array was expected. Please change the shape of y to (n_samples,), for example using ravel().\n",
      "/Users/MosheAbadi/anaconda3/lib/python3.7/site-packages/ipykernel_launcher.py:47: DataConversionWarning: A column-vector y was passed when a 1d array was expected. Please change the shape of y to (n_samples,), for example using ravel().\n"
     ]
    },
    {
     "name": "stdout",
     "output_type": "stream",
     "text": [
      "{'freq': 'season', 'day_part': 'one_part', 'train_acc': 0.5231788079470199, 'train_mse': 0.6291390728476821, 'test_acc': 0.618421052631579, 'test_mse': 0.7894736842105263}\n",
      "\n",
      "\n",
      "autumn_noon\n",
      "{'freq': 'season', 'day_part': 'one_part', 'train_acc': 0.39841688654353563, 'train_mse': 1.0303430079155673, 'test_acc': 0.34210526315789475, 'test_mse': 1.144736842105263}\n",
      "\n",
      "\n",
      "autumn_evening\n"
     ]
    },
    {
     "name": "stderr",
     "output_type": "stream",
     "text": [
      "/Users/MosheAbadi/anaconda3/lib/python3.7/site-packages/ipykernel_launcher.py:47: DataConversionWarning: A column-vector y was passed when a 1d array was expected. Please change the shape of y to (n_samples,), for example using ravel().\n",
      "/Users/MosheAbadi/anaconda3/lib/python3.7/site-packages/ipykernel_launcher.py:47: DataConversionWarning: A column-vector y was passed when a 1d array was expected. Please change the shape of y to (n_samples,), for example using ravel().\n"
     ]
    },
    {
     "name": "stdout",
     "output_type": "stream",
     "text": [
      "{'freq': 'season', 'day_part': 'one_part', 'train_acc': 0.5396825396825397, 'train_mse': 0.5317460317460317, 'test_acc': 0.5753424657534246, 'test_mse': 0.589041095890411}\n",
      "\n",
      "\n",
      "winter_all\n"
     ]
    },
    {
     "name": "stderr",
     "output_type": "stream",
     "text": [
      "/Users/MosheAbadi/anaconda3/lib/python3.7/site-packages/ipykernel_launcher.py:47: DataConversionWarning: A column-vector y was passed when a 1d array was expected. Please change the shape of y to (n_samples,), for example using ravel().\n"
     ]
    },
    {
     "name": "stdout",
     "output_type": "stream",
     "text": [
      "{'freq': 'season', 'day_part': 'all_day', 'train_acc': 0.49190283400809715, 'train_mse': 0.917004048582996, 'test_acc': 0.3076923076923077, 'test_mse': 3.3927125506072873}\n",
      "\n",
      "\n",
      "winter_night\n",
      "{'freq': 'season', 'day_part': 'one_part', 'train_acc': 0.617124394184168, 'train_mse': 0.7334410339256866, 'test_acc': 0.5161290322580645, 'test_mse': 0.6774193548387096}\n",
      "\n",
      "\n",
      "winter_morning\n"
     ]
    },
    {
     "name": "stderr",
     "output_type": "stream",
     "text": [
      "/Users/MosheAbadi/anaconda3/lib/python3.7/site-packages/ipykernel_launcher.py:47: DataConversionWarning: A column-vector y was passed when a 1d array was expected. Please change the shape of y to (n_samples,), for example using ravel().\n",
      "/Users/MosheAbadi/anaconda3/lib/python3.7/site-packages/ipykernel_launcher.py:47: DataConversionWarning: A column-vector y was passed when a 1d array was expected. Please change the shape of y to (n_samples,), for example using ravel().\n",
      "/Users/MosheAbadi/anaconda3/lib/python3.7/site-packages/ipykernel_launcher.py:47: DataConversionWarning: A column-vector y was passed when a 1d array was expected. Please change the shape of y to (n_samples,), for example using ravel().\n"
     ]
    },
    {
     "name": "stdout",
     "output_type": "stream",
     "text": [
      "{'freq': 'season', 'day_part': 'one_part', 'train_acc': 0.4449838187702265, 'train_mse': 1.0339805825242718, 'test_acc': 0.3064516129032258, 'test_mse': 2.274193548387097}\n",
      "\n",
      "\n",
      "winter_noon\n",
      "{'freq': 'season', 'day_part': 'one_part', 'train_acc': 0.5121555915721232, 'train_mse': 0.713128038897893, 'test_acc': 0.3870967741935484, 'test_mse': 1.7580645161290323}\n",
      "\n",
      "\n",
      "winter_evening\n"
     ]
    },
    {
     "name": "stderr",
     "output_type": "stream",
     "text": [
      "/Users/MosheAbadi/anaconda3/lib/python3.7/site-packages/ipykernel_launcher.py:47: DataConversionWarning: A column-vector y was passed when a 1d array was expected. Please change the shape of y to (n_samples,), for example using ravel().\n",
      "/Users/MosheAbadi/anaconda3/lib/python3.7/site-packages/ipykernel_launcher.py:47: DataConversionWarning: A column-vector y was passed when a 1d array was expected. Please change the shape of y to (n_samples,), for example using ravel().\n"
     ]
    },
    {
     "name": "stdout",
     "output_type": "stream",
     "text": [
      "{'freq': 'season', 'day_part': 'one_part', 'train_acc': 0.5292207792207793, 'train_mse': 0.5811688311688312, 'test_acc': 0.47540983606557374, 'test_mse': 0.6229508196721312}\n",
      "\n",
      "\n",
      "spring_all\n",
      "{'freq': 'season', 'day_part': 'all_day', 'train_acc': 0.3561705989110708, 'train_mse': 1.5040834845735027, 'test_acc': 0.2457627118644068, 'test_mse': 6.970338983050848}\n",
      "\n",
      "\n",
      "spring_night\n",
      "{'freq': 'season', 'day_part': 'one_part', 'train_acc': 0.4666666666666667, 'train_mse': 0.9837837837837838, 'test_acc': 0.2542372881355932, 'test_mse': 3.0847457627118646}\n",
      "\n",
      "\n",
      "spring_morning\n"
     ]
    },
    {
     "name": "stderr",
     "output_type": "stream",
     "text": [
      "/Users/MosheAbadi/anaconda3/lib/python3.7/site-packages/ipykernel_launcher.py:47: DataConversionWarning: A column-vector y was passed when a 1d array was expected. Please change the shape of y to (n_samples,), for example using ravel().\n",
      "/Users/MosheAbadi/anaconda3/lib/python3.7/site-packages/ipykernel_launcher.py:47: DataConversionWarning: A column-vector y was passed when a 1d array was expected. Please change the shape of y to (n_samples,), for example using ravel().\n"
     ]
    },
    {
     "name": "stdout",
     "output_type": "stream",
     "text": [
      "{'freq': 'season', 'day_part': 'one_part', 'train_acc': 0.4003623188405797, 'train_mse': 1.3315217391304348, 'test_acc': 0.1694915254237288, 'test_mse': 2.9152542372881354}\n",
      "\n",
      "\n",
      "spring_noon\n",
      "{'freq': 'season', 'day_part': 'one_part', 'train_acc': 0.4309090909090909, 'train_mse': 1.2381818181818183, 'test_acc': 0.2542372881355932, 'test_mse': 3.23728813559322}\n",
      "\n",
      "\n",
      "spring_evening\n"
     ]
    },
    {
     "name": "stderr",
     "output_type": "stream",
     "text": [
      "/Users/MosheAbadi/anaconda3/lib/python3.7/site-packages/ipykernel_launcher.py:47: DataConversionWarning: A column-vector y was passed when a 1d array was expected. Please change the shape of y to (n_samples,), for example using ravel().\n",
      "/Users/MosheAbadi/anaconda3/lib/python3.7/site-packages/ipykernel_launcher.py:47: DataConversionWarning: A column-vector y was passed when a 1d array was expected. Please change the shape of y to (n_samples,), for example using ravel().\n"
     ]
    },
    {
     "name": "stdout",
     "output_type": "stream",
     "text": [
      "{'freq': 'season', 'day_part': 'one_part', 'train_acc': 0.4625228519195612, 'train_mse': 0.9177330895795247, 'test_acc': 0.2033898305084746, 'test_mse': 3.0}\n",
      "\n",
      "\n",
      "monsoon_all\n"
     ]
    },
    {
     "name": "stderr",
     "output_type": "stream",
     "text": [
      "/Users/MosheAbadi/anaconda3/lib/python3.7/site-packages/ipykernel_launcher.py:47: DataConversionWarning: A column-vector y was passed when a 1d array was expected. Please change the shape of y to (n_samples,), for example using ravel().\n"
     ]
    },
    {
     "name": "stdout",
     "output_type": "stream",
     "text": [
      "{'freq': 'season', 'day_part': 'all_day', 'train_acc': 0.5781879194630872, 'train_mse': 0.5359060402684563, 'test_acc': 0.3210702341137124, 'test_mse': 1.5250836120401339}\n",
      "\n",
      "\n",
      "monsoon_night\n",
      "{'freq': 'season', 'day_part': 'one_part', 'train_acc': 0.6537433155080213, 'train_mse': 0.3622994652406417, 'test_acc': 0.44155844155844154, 'test_mse': 0.5584415584415584}\n",
      "\n",
      "\n",
      "monsoon_morning\n"
     ]
    },
    {
     "name": "stderr",
     "output_type": "stream",
     "text": [
      "/Users/MosheAbadi/anaconda3/lib/python3.7/site-packages/ipykernel_launcher.py:47: DataConversionWarning: A column-vector y was passed when a 1d array was expected. Please change the shape of y to (n_samples,), for example using ravel().\n",
      "/Users/MosheAbadi/anaconda3/lib/python3.7/site-packages/ipykernel_launcher.py:47: DataConversionWarning: A column-vector y was passed when a 1d array was expected. Please change the shape of y to (n_samples,), for example using ravel().\n"
     ]
    },
    {
     "name": "stdout",
     "output_type": "stream",
     "text": [
      "{'freq': 'season', 'day_part': 'one_part', 'train_acc': 0.6327077747989276, 'train_mse': 0.46648793565683644, 'test_acc': 0.39473684210526316, 'test_mse': 1.25}\n",
      "\n",
      "\n",
      "monsoon_noon\n",
      "{'freq': 'season', 'day_part': 'one_part', 'train_acc': 0.4839572192513369, 'train_mse': 0.7219251336898396, 'test_acc': 0.3287671232876712, 'test_mse': 1.273972602739726}\n",
      "\n",
      "\n",
      "monsoon_evening\n"
     ]
    },
    {
     "name": "stderr",
     "output_type": "stream",
     "text": [
      "/Users/MosheAbadi/anaconda3/lib/python3.7/site-packages/ipykernel_launcher.py:47: DataConversionWarning: A column-vector y was passed when a 1d array was expected. Please change the shape of y to (n_samples,), for example using ravel().\n",
      "/Users/MosheAbadi/anaconda3/lib/python3.7/site-packages/ipykernel_launcher.py:47: DataConversionWarning: A column-vector y was passed when a 1d array was expected. Please change the shape of y to (n_samples,), for example using ravel().\n"
     ]
    },
    {
     "name": "stdout",
     "output_type": "stream",
     "text": [
      "{'freq': 'season', 'day_part': 'one_part', 'train_acc': 0.5338753387533876, 'train_mse': 0.6531165311653117, 'test_acc': 0.4520547945205479, 'test_mse': 0.6301369863013698}\n",
      "\n",
      "\n",
      "summer_all\n"
     ]
    },
    {
     "name": "stderr",
     "output_type": "stream",
     "text": [
      "/Users/MosheAbadi/anaconda3/lib/python3.7/site-packages/ipykernel_launcher.py:47: DataConversionWarning: A column-vector y was passed when a 1d array was expected. Please change the shape of y to (n_samples,), for example using ravel().\n"
     ]
    },
    {
     "name": "stdout",
     "output_type": "stream",
     "text": [
      "{'freq': 'season', 'day_part': 'all_day', 'train_acc': 0.40915893445076323, 'train_mse': 1.5483388207123616, 'test_acc': 0.3557422969187675, 'test_mse': 2.719887955182073}\n",
      "\n",
      "\n",
      "summer_night\n",
      "{'freq': 'season', 'day_part': 'one_part', 'train_acc': 0.45530393325387364, 'train_mse': 0.9892729439809297, 'test_acc': 0.27472527472527475, 'test_mse': 1.7252747252747254}\n",
      "\n",
      "\n",
      "summer_morning\n"
     ]
    },
    {
     "name": "stderr",
     "output_type": "stream",
     "text": [
      "/Users/MosheAbadi/anaconda3/lib/python3.7/site-packages/ipykernel_launcher.py:47: DataConversionWarning: A column-vector y was passed when a 1d array was expected. Please change the shape of y to (n_samples,), for example using ravel().\n",
      "/Users/MosheAbadi/anaconda3/lib/python3.7/site-packages/ipykernel_launcher.py:47: DataConversionWarning: A column-vector y was passed when a 1d array was expected. Please change the shape of y to (n_samples,), for example using ravel().\n"
     ]
    },
    {
     "name": "stdout",
     "output_type": "stream",
     "text": [
      "{'freq': 'season', 'day_part': 'one_part', 'train_acc': 0.5473053892215569, 'train_mse': 1.4934131736526945, 'test_acc': 0.7888888888888889, 'test_mse': 0.4111111111111111}\n",
      "\n",
      "\n",
      "summer_noon\n",
      "{'freq': 'season', 'day_part': 'one_part', 'train_acc': 0.4820574162679426, 'train_mse': 1.388755980861244, 'test_acc': 0.4044943820224719, 'test_mse': 1.4606741573033708}\n",
      "\n",
      "\n",
      "summer_evening\n"
     ]
    },
    {
     "name": "stderr",
     "output_type": "stream",
     "text": [
      "/Users/MosheAbadi/anaconda3/lib/python3.7/site-packages/ipykernel_launcher.py:47: DataConversionWarning: A column-vector y was passed when a 1d array was expected. Please change the shape of y to (n_samples,), for example using ravel().\n",
      "/Users/MosheAbadi/anaconda3/lib/python3.7/site-packages/ipykernel_launcher.py:47: DataConversionWarning: A column-vector y was passed when a 1d array was expected. Please change the shape of y to (n_samples,), for example using ravel().\n"
     ]
    },
    {
     "name": "stdout",
     "output_type": "stream",
     "text": [
      "{'freq': 'season', 'day_part': 'one_part', 'train_acc': 0.4620938628158845, 'train_mse': 0.8796630565583634, 'test_acc': 0.28735632183908044, 'test_mse': 1.4482758620689655}\n",
      "\n",
      "\n",
      "full_all\n",
      "full_year\n"
     ]
    },
    {
     "name": "stderr",
     "output_type": "stream",
     "text": [
      "/Users/MosheAbadi/anaconda3/lib/python3.7/site-packages/ipykernel_launcher.py:47: DataConversionWarning: A column-vector y was passed when a 1d array was expected. Please change the shape of y to (n_samples,), for example using ravel().\n"
     ]
    },
    {
     "name": "stdout",
     "output_type": "stream",
     "text": [
      "{'freq': 'full_year', 'day_part': 'all_day', 'train_acc': 0.2950866433716038, 'train_mse': 2.1645154389217716, 'test_acc': 0.11666666666666667, 'test_mse': 11.74375}\n",
      "\n",
      "\n",
      "full_night\n",
      "full_year\n"
     ]
    },
    {
     "name": "stderr",
     "output_type": "stream",
     "text": [
      "/Users/MosheAbadi/anaconda3/lib/python3.7/site-packages/ipykernel_launcher.py:47: DataConversionWarning: A column-vector y was passed when a 1d array was expected. Please change the shape of y to (n_samples,), for example using ravel().\n"
     ]
    },
    {
     "name": "stdout",
     "output_type": "stream",
     "text": [
      "{'freq': 'full_year', 'day_part': 'one_part', 'train_acc': 0.43664772727272727, 'train_mse': 1.2167613636363637, 'test_acc': 0.15342465753424658, 'test_mse': 16.56986301369863}\n",
      "\n",
      "\n",
      "full_morning\n",
      "full_year\n"
     ]
    },
    {
     "name": "stderr",
     "output_type": "stream",
     "text": [
      "/Users/MosheAbadi/anaconda3/lib/python3.7/site-packages/ipykernel_launcher.py:47: DataConversionWarning: A column-vector y was passed when a 1d array was expected. Please change the shape of y to (n_samples,), for example using ravel().\n"
     ]
    },
    {
     "name": "stdout",
     "output_type": "stream",
     "text": [
      "{'freq': 'full_year', 'day_part': 'one_part', 'train_acc': 0.4560752994865944, 'train_mse': 1.4386765544780376, 'test_acc': 0.0881542699724518, 'test_mse': 8.96418732782369}\n",
      "\n",
      "\n",
      "full_noon\n",
      "full_year\n"
     ]
    },
    {
     "name": "stderr",
     "output_type": "stream",
     "text": [
      "/Users/MosheAbadi/anaconda3/lib/python3.7/site-packages/ipykernel_launcher.py:47: DataConversionWarning: A column-vector y was passed when a 1d array was expected. Please change the shape of y to (n_samples,), for example using ravel().\n"
     ]
    },
    {
     "name": "stdout",
     "output_type": "stream",
     "text": [
      "{'freq': 'full_year', 'day_part': 'one_part', 'train_acc': 0.33513821601595895, 'train_mse': 1.5531490453120547, 'test_acc': 0.08913649025069638, 'test_mse': 9.682451253481894}\n",
      "\n",
      "\n",
      "full_evening\n",
      "full_year\n"
     ]
    },
    {
     "name": "stderr",
     "output_type": "stream",
     "text": [
      "/Users/MosheAbadi/anaconda3/lib/python3.7/site-packages/ipykernel_launcher.py:47: DataConversionWarning: A column-vector y was passed when a 1d array was expected. Please change the shape of y to (n_samples,), for example using ravel().\n"
     ]
    },
    {
     "name": "stdout",
     "output_type": "stream",
     "text": [
      "{'freq': 'full_year', 'day_part': 'one_part', 'train_acc': 0.37155963302752293, 'train_mse': 1.3176605504587156, 'test_acc': 0.16147308781869688, 'test_mse': 12.070821529745043}\n"
     ]
    }
   ],
   "source": [
    "results = {}\n",
    "for freq_range in [[str(i) for i in range(1, 13)],  # month\n",
    "                   ['autumn', 'winter', 'spring', 'monsoon', 'summer'],  # season\n",
    "                   ['full']]:  # full year\n",
    "    for freq_part in freq_range:\n",
    "        for day_part in ['all', 'night', 'morning', 'noon', 'evening']:\n",
    "            print('\\n')\n",
    "            print('_'.join([freq_part, day_part]))\n",
    "            rundom_forest('_'.join([freq_part, day_part]), results)\n"
   ]
  },
  {
   "cell_type": "code",
   "execution_count": 44,
   "metadata": {},
   "outputs": [
    {
     "name": "stderr",
     "output_type": "stream",
     "text": [
      "/Users/MosheAbadi/anaconda3/lib/python3.7/site-packages/pandas/plotting/_tools.py:307: MatplotlibDeprecationWarning: \n",
      "The rowNum attribute was deprecated in Matplotlib 3.2 and will be removed two minor releases later. Use ax.get_subplotspec().rowspan.start instead.\n",
      "  layout[ax.rowNum, ax.colNum] = ax.get_visible()\n",
      "/Users/MosheAbadi/anaconda3/lib/python3.7/site-packages/pandas/plotting/_tools.py:307: MatplotlibDeprecationWarning: \n",
      "The colNum attribute was deprecated in Matplotlib 3.2 and will be removed two minor releases later. Use ax.get_subplotspec().colspan.start instead.\n",
      "  layout[ax.rowNum, ax.colNum] = ax.get_visible()\n",
      "/Users/MosheAbadi/anaconda3/lib/python3.7/site-packages/pandas/plotting/_tools.py:313: MatplotlibDeprecationWarning: \n",
      "The rowNum attribute was deprecated in Matplotlib 3.2 and will be removed two minor releases later. Use ax.get_subplotspec().rowspan.start instead.\n",
      "  if not layout[ax.rowNum + 1, ax.colNum]:\n",
      "/Users/MosheAbadi/anaconda3/lib/python3.7/site-packages/pandas/plotting/_tools.py:313: MatplotlibDeprecationWarning: \n",
      "The colNum attribute was deprecated in Matplotlib 3.2 and will be removed two minor releases later. Use ax.get_subplotspec().colspan.start instead.\n",
      "  if not layout[ax.rowNum + 1, ax.colNum]:\n"
     ]
    },
    {
     "data": {
      "text/html": [
       "<div>\n",
       "<style scoped>\n",
       "    .dataframe tbody tr th:only-of-type {\n",
       "        vertical-align: middle;\n",
       "    }\n",
       "\n",
       "    .dataframe tbody tr th {\n",
       "        vertical-align: top;\n",
       "    }\n",
       "\n",
       "    .dataframe thead th {\n",
       "        text-align: right;\n",
       "    }\n",
       "</style>\n",
       "<table border=\"1\" class=\"dataframe\">\n",
       "  <thead>\n",
       "    <tr style=\"text-align: right;\">\n",
       "      <th></th>\n",
       "      <th></th>\n",
       "      <th>test_mse</th>\n",
       "      <th>test_acc</th>\n",
       "      <th>train_mse</th>\n",
       "      <th>train_acc</th>\n",
       "    </tr>\n",
       "    <tr>\n",
       "      <th>freq</th>\n",
       "      <th>day_part</th>\n",
       "      <th></th>\n",
       "      <th></th>\n",
       "      <th></th>\n",
       "      <th></th>\n",
       "    </tr>\n",
       "  </thead>\n",
       "  <tbody>\n",
       "    <tr>\n",
       "      <th rowspan=\"2\" valign=\"top\">full_year</th>\n",
       "      <th>all_day</th>\n",
       "      <td>11.743750</td>\n",
       "      <td>0.116667</td>\n",
       "      <td>2.164515</td>\n",
       "      <td>0.295087</td>\n",
       "    </tr>\n",
       "    <tr>\n",
       "      <th>one_part</th>\n",
       "      <td>11.821831</td>\n",
       "      <td>0.123047</td>\n",
       "      <td>1.381562</td>\n",
       "      <td>0.399855</td>\n",
       "    </tr>\n",
       "    <tr>\n",
       "      <th rowspan=\"2\" valign=\"top\">month</th>\n",
       "      <th>all_day</th>\n",
       "      <td>3.110497</td>\n",
       "      <td>0.296391</td>\n",
       "      <td>0.910760</td>\n",
       "      <td>0.476454</td>\n",
       "    </tr>\n",
       "    <tr>\n",
       "      <th>one_part</th>\n",
       "      <td>1.204507</td>\n",
       "      <td>0.431243</td>\n",
       "      <td>0.695239</td>\n",
       "      <td>0.574859</td>\n",
       "    </tr>\n",
       "    <tr>\n",
       "      <th rowspan=\"2\" valign=\"top\">season</th>\n",
       "      <th>all_day</th>\n",
       "      <td>3.553498</td>\n",
       "      <td>0.301867</td>\n",
       "      <td>1.097368</td>\n",
       "      <td>0.448656</td>\n",
       "    </tr>\n",
       "    <tr>\n",
       "      <th>one_part</th>\n",
       "      <td>1.476763</td>\n",
       "      <td>0.398745</td>\n",
       "      <td>0.873744</td>\n",
       "      <td>0.503912</td>\n",
       "    </tr>\n",
       "  </tbody>\n",
       "</table>\n",
       "</div>"
      ],
      "text/plain": [
       "                     test_mse  test_acc  train_mse  train_acc\n",
       "freq      day_part                                           \n",
       "full_year all_day   11.743750  0.116667   2.164515   0.295087\n",
       "          one_part  11.821831  0.123047   1.381562   0.399855\n",
       "month     all_day    3.110497  0.296391   0.910760   0.476454\n",
       "          one_part   1.204507  0.431243   0.695239   0.574859\n",
       "season    all_day    3.553498  0.301867   1.097368   0.448656\n",
       "          one_part   1.476763  0.398745   0.873744   0.503912"
      ]
     },
     "metadata": {},
     "output_type": "display_data"
    },
    {
     "data": {
      "image/png": "[encoded data removed]",
      "text/plain": [
       "<Figure size 720x432 with 4 Axes>"
      ]
     },
     "metadata": {
      "needs_background": "light"
     },
     "output_type": "display_data"
    }
   ],
   "source": [
    "dfr = pd.DataFrame.from_dict(results, 'index')\n",
    "\n",
    "dfr.groupby(['freq', 'day_part'])[['test_mse', 'test_acc', 'train_mse', 'train_acc']].mean()\\\n",
    "   .sort_values('test_mse', ascending=False)\\\n",
    "   .plot.barh(y=['test_mse', 'test_acc', 'train_mse', 'train_acc'], \n",
    "              subplots=True, layout=(2, 2), sharey=True, sharex=False, figsize=(10, 6), xlim=(0, 4))\n",
    "display(dfr.groupby(['freq', 'day_part'])[['test_mse', 'test_acc', 'train_mse', 'train_acc']].mean())\n",
    "plt.tight_layout()\n",
    "plt.savefig(f'model_comp_rundom.png')\n",
    "plt.show()\n"
   ]
  }
 ],
 "metadata": {
  "kernelspec": {
   "display_name": "Python 3",
   "language": "python",
   "name": "python3"
  },
  "language_info": {
   "codemirror_mode": {
    "name": "ipython",
    "version": 3
   },
   "file_extension": ".py",
   "mimetype": "text/x-python",
   "name": "python",
   "nbconvert_exporter": "python",
   "pygments_lexer": "ipython3",
   "version": "3.7.3"
  }
 },
 "nbformat": 4,
 "nbformat_minor": 2
}
