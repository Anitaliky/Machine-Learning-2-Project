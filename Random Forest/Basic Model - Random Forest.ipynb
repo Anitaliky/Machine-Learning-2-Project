{
 "cells": [
  {
   "cell_type": "code",
   "execution_count": 85,
   "metadata": {},
   "outputs": [],
   "source": [
    "import pandas as pd\n",
    "import sklearn\n",
    "import numpy as np\n",
    "from sklearn.inspection import permutation_importance\n",
    "from sklearn.pipeline import make_pipeline\n",
    "from sklearn.preprocessing import StandardScaler\n",
    "import matplotlib.pyplot as plt\n",
    "from sklearn.ensemble import RandomForestClassifier\n",
    "from datetime import datetime\n",
    "from sklearn.metrics import recall_score, precision_score, f1_score\n",
    "from sklearn.preprocessing import MinMaxScaler\n",
    "import copy\n",
    "import time\n",
    "from sklearn.metrics import mean_absolute_error\n",
    "from sklearn.metrics import mean_squared_error\n",
    "from sklearn.tree import export_graphviz"
   ]
  },
  {
   "cell_type": "markdown",
   "metadata": {},
   "source": [
    "## Load train test from csv"
   ]
  },
  {
   "cell_type": "code",
   "execution_count": 86,
   "metadata": {},
   "outputs": [],
   "source": [
    "train = pd.read_csv(r'weather_data/df_full_train.csv')\n",
    "test = pd.read_csv(r'weather_data/df_full_test.csv')"
   ]
  },
  {
   "cell_type": "code",
   "execution_count": 87,
   "metadata": {},
   "outputs": [],
   "source": [
    "REL_FEATURES = [' _conds', ' _dewptm', ' _fog', ' _hail', ' _hum', ' _pressurem', ' _rain', ' _snow',\n",
    "                ' _thunder', ' _tornado', ' _vism', ' _wspdm', 'year', 'hour_cos', 'hour_sin', 'month_cos',\n",
    "                'month_sin', 'week_cos', 'week_sin', 'night', 'morning', 'noon', 'evening']\n",
    "LABEL = ['Temp']"
   ]
  },
  {
   "cell_type": "code",
   "execution_count": 88,
   "metadata": {},
   "outputs": [],
   "source": [
    "X_train = train[REL_FEATURES]\n",
    "y_train = train[LABEL]"
   ]
  },
  {
   "cell_type": "code",
   "execution_count": 89,
   "metadata": {},
   "outputs": [],
   "source": [
    "X_test = test[REL_FEATURES]\n",
    "y_test = test[LABEL]"
   ]
  },
  {
   "cell_type": "code",
   "execution_count": 90,
   "metadata": {},
   "outputs": [],
   "source": [
    "df = pd.get_dummies(pd.concat([X_train, X_test], ignore_index=True)).fillna(0)"
   ]
  },
  {
   "cell_type": "code",
   "execution_count": 91,
   "metadata": {},
   "outputs": [],
   "source": [
    "X_train = df.loc[X_train.index]\n",
    "X_test = df.loc[X_test.index]"
   ]
  },
  {
   "cell_type": "markdown",
   "metadata": {},
   "source": [
    "# Random Forest full data"
   ]
  },
  {
   "cell_type": "code",
   "execution_count": 92,
   "metadata": {
    "scrolled": true
   },
   "outputs": [
    {
     "name": "stderr",
     "output_type": "stream",
     "text": [
      "C:\\Users\\Fedia\\anaconda3\\lib\\site-packages\\ipykernel_launcher.py:2: DataConversionWarning: A column-vector y was passed when a 1d array was expected. Please change the shape of y to (n_samples,), for example using ravel().\n",
      "  \n"
     ]
    },
    {
     "data": {
      "text/plain": [
       "RandomForestClassifier(bootstrap=True, ccp_alpha=0.0, class_weight=None,\n",
       "                       criterion='gini', max_depth=2, max_features='auto',\n",
       "                       max_leaf_nodes=None, max_samples=None,\n",
       "                       min_impurity_decrease=0.0, min_impurity_split=None,\n",
       "                       min_samples_leaf=1, min_samples_split=2,\n",
       "                       min_weight_fraction_leaf=0.0, n_estimators=100,\n",
       "                       n_jobs=None, oob_score=False, random_state=1, verbose=0,\n",
       "                       warm_start=False)"
      ]
     },
     "execution_count": 92,
     "metadata": {},
     "output_type": "execute_result"
    }
   ],
   "source": [
    "clf = RandomForestClassifier(n_estimators=100, random_state=1, max_depth=2)\n",
    "clf.fit(X_train, y_train)"
   ]
  },
  {
   "cell_type": "markdown",
   "metadata": {},
   "source": [
    "## Random forest full train pred"
   ]
  },
  {
   "cell_type": "code",
   "execution_count": 53,
   "metadata": {},
   "outputs": [],
   "source": [
    "# pred on train\n",
    "y_pred_train = clf.predict(X_train)"
   ]
  },
  {
   "cell_type": "code",
   "execution_count": 54,
   "metadata": {},
   "outputs": [
    {
     "data": {
      "text/plain": [
       "0.2950866433716038"
      ]
     },
     "execution_count": 54,
     "metadata": {},
     "output_type": "execute_result"
    }
   ],
   "source": [
    "# accuracy on train\n",
    "clf.score(X_train, y_train)"
   ]
  },
  {
   "cell_type": "code",
   "execution_count": 55,
   "metadata": {},
   "outputs": [
    {
     "data": {
      "text/plain": [
       "1.1049704057619625"
      ]
     },
     "execution_count": 55,
     "metadata": {},
     "output_type": "execute_result"
    }
   ],
   "source": [
    "mean_absolute_error(y_train, y_pred_train)"
   ]
  },
  {
   "cell_type": "code",
   "execution_count": 56,
   "metadata": {},
   "outputs": [
    {
     "data": {
      "text/plain": [
       "2.1645154389217716"
      ]
     },
     "execution_count": 56,
     "metadata": {},
     "output_type": "execute_result"
    }
   ],
   "source": [
    "mean_squared_error(y_train, y_pred_train)"
   ]
  },
  {
   "cell_type": "markdown",
   "metadata": {},
   "source": [
    "## Random forest full test pred"
   ]
  },
  {
   "cell_type": "code",
   "execution_count": 57,
   "metadata": {},
   "outputs": [],
   "source": [
    "# pred on test\n",
    "y_pred_test = clf.predict(X_test)"
   ]
  },
  {
   "cell_type": "code",
   "execution_count": 58,
   "metadata": {},
   "outputs": [
    {
     "data": {
      "text/plain": [
       "0.11666666666666667"
      ]
     },
     "execution_count": 58,
     "metadata": {},
     "output_type": "execute_result"
    }
   ],
   "source": [
    "# accuracy on test\n",
    "clf.score(X_test, y_test)"
   ]
  },
  {
   "cell_type": "code",
   "execution_count": 59,
   "metadata": {},
   "outputs": [
    {
     "data": {
      "text/plain": [
       "11.74375"
      ]
     },
     "execution_count": 59,
     "metadata": {},
     "output_type": "execute_result"
    }
   ],
   "source": [
    "mean_squared_error(y_test, y_pred_test)"
   ]
  },
  {
   "cell_type": "markdown",
   "metadata": {},
   "source": [
    "# Random Forest day parts data"
   ]
  },
  {
   "cell_type": "code",
   "execution_count": 70,
   "metadata": {},
   "outputs": [
    {
     "name": "stdout",
     "output_type": "stream",
     "text": [
      "night data\n"
     ]
    },
    {
     "name": "stderr",
     "output_type": "stream",
     "text": [
      "C:\\Users\\Fedia\\anaconda3\\lib\\site-packages\\ipykernel_launcher.py:23: DataConversionWarning: A column-vector y was passed when a 1d array was expected. Please change the shape of y to (n_samples,), for example using ravel().\n"
     ]
    },
    {
     "name": "stdout",
     "output_type": "stream",
     "text": [
      "0.43664772727272727\n",
      "1.2167613636363637\n",
      "0.15342465753424658\n",
      "16.56986301369863\n",
      "morning data\n"
     ]
    },
    {
     "name": "stderr",
     "output_type": "stream",
     "text": [
      "C:\\Users\\Fedia\\anaconda3\\lib\\site-packages\\ipykernel_launcher.py:23: DataConversionWarning: A column-vector y was passed when a 1d array was expected. Please change the shape of y to (n_samples,), for example using ravel().\n"
     ]
    },
    {
     "name": "stdout",
     "output_type": "stream",
     "text": [
      "0.4560752994865944\n",
      "1.4386765544780376\n",
      "0.0881542699724518\n",
      "8.96418732782369\n",
      "noon data\n"
     ]
    },
    {
     "name": "stderr",
     "output_type": "stream",
     "text": [
      "C:\\Users\\Fedia\\anaconda3\\lib\\site-packages\\ipykernel_launcher.py:23: DataConversionWarning: A column-vector y was passed when a 1d array was expected. Please change the shape of y to (n_samples,), for example using ravel().\n"
     ]
    },
    {
     "name": "stdout",
     "output_type": "stream",
     "text": [
      "0.33513821601595895\n",
      "1.5531490453120547\n",
      "0.08913649025069638\n",
      "9.682451253481894\n",
      "evening data\n"
     ]
    },
    {
     "name": "stderr",
     "output_type": "stream",
     "text": [
      "C:\\Users\\Fedia\\anaconda3\\lib\\site-packages\\ipykernel_launcher.py:23: DataConversionWarning: A column-vector y was passed when a 1d array was expected. Please change the shape of y to (n_samples,), for example using ravel().\n"
     ]
    },
    {
     "name": "stdout",
     "output_type": "stream",
     "text": [
      "0.37155963302752293\n",
      "1.3176605504587156\n",
      "0.16147308781869688\n",
      "12.070821529745043\n"
     ]
    }
   ],
   "source": [
    "for part in ['night', 'morning', 'noon', 'evening']:\n",
    "    print(fr'{part} data')\n",
    "    \n",
    "    ## Load train test from csv\n",
    "\n",
    "    train_part = pd.read_csv(fr'weather_data/df_{part}_train.csv')\n",
    "    test_part = pd.read_csv(fr'weather_data/df_{part}_test.csv')\n",
    "\n",
    "    X_train_part = train_part[REL_FEATURES]\n",
    "    y_train_part = train_part[LABEL]\n",
    "\n",
    "    X_test_part = test_part[REL_FEATURES]\n",
    "    y_test_part = test_part[LABEL]\n",
    "\n",
    "    df = pd.get_dummies(pd.concat([X_train_part, X_test_part], ignore_index=True)).fillna(0)\n",
    "\n",
    "    X_train_part = df.loc[X_train_part.index]\n",
    "    X_test_part = df.loc[X_test_part.index]\n",
    "\n",
    "    clf = RandomForestClassifier(n_estimators=100, random_state=1, max_depth=2)\n",
    "    clf.fit(X_train_part, y_train_part)\n",
    "\n",
    "    ## Random forest train pred\n",
    "\n",
    "    # pred on train\n",
    "    y_pred_train_part = clf.predict(X_train_part)\n",
    "\n",
    "    # accuracy on train\n",
    "    print(clf.score(X_train_part, y_train_part))\n",
    "\n",
    "    print(mean_squared_error(y_train_part, y_pred_train_part))\n",
    "\n",
    "    ## Random forest test pred\n",
    "\n",
    "    # pred on test\n",
    "    y_pred_test_part = clf.predict(X_test_part)\n",
    "\n",
    "    # accuracy on test\n",
    "    print(clf.score(X_test_part, y_test_part))\n",
    "\n",
    "    print(mean_squared_error(y_test_part, y_pred_test_part))"
   ]
  },
  {
   "cell_type": "markdown",
   "metadata": {},
   "source": [
    "# Random Forest months data"
   ]
  },
  {
   "cell_type": "code",
   "execution_count": 74,
   "metadata": {},
   "outputs": [
    {
     "name": "stdout",
     "output_type": "stream",
     "text": [
      "month 1 data\n"
     ]
    },
    {
     "name": "stderr",
     "output_type": "stream",
     "text": [
      "C:\\Users\\Fedia\\anaconda3\\lib\\site-packages\\ipykernel_launcher.py:21: DataConversionWarning: A column-vector y was passed when a 1d array was expected. Please change the shape of y to (n_samples,), for example using ravel().\n"
     ]
    },
    {
     "name": "stdout",
     "output_type": "stream",
     "text": [
      "0.47483766233766234\n",
      "0.9943181818181818\n",
      "0.3629032258064516\n",
      "1.596774193548387\n",
      "month 2 data\n"
     ]
    },
    {
     "name": "stderr",
     "output_type": "stream",
     "text": [
      "C:\\Users\\Fedia\\anaconda3\\lib\\site-packages\\ipykernel_launcher.py:21: DataConversionWarning: A column-vector y was passed when a 1d array was expected. Please change the shape of y to (n_samples,), for example using ravel().\n"
     ]
    },
    {
     "name": "stdout",
     "output_type": "stream",
     "text": [
      "0.38447488584474887\n",
      "1.1433789954337898\n",
      "0.2857142857142857\n",
      "3.9642857142857144\n",
      "month 3 data\n"
     ]
    },
    {
     "name": "stderr",
     "output_type": "stream",
     "text": [
      "C:\\Users\\Fedia\\anaconda3\\lib\\site-packages\\ipykernel_launcher.py:21: DataConversionWarning: A column-vector y was passed when a 1d array was expected. Please change the shape of y to (n_samples,), for example using ravel().\n"
     ]
    },
    {
     "name": "stdout",
     "output_type": "stream",
     "text": [
      "0.35978358881875566\n",
      "1.3985572587917043\n",
      "0.25\n",
      "5.362903225806452\n",
      "month 4 data\n"
     ]
    },
    {
     "name": "stderr",
     "output_type": "stream",
     "text": [
      "C:\\Users\\Fedia\\anaconda3\\lib\\site-packages\\ipykernel_launcher.py:21: DataConversionWarning: A column-vector y was passed when a 1d array was expected. Please change the shape of y to (n_samples,), for example using ravel().\n"
     ]
    },
    {
     "name": "stdout",
     "output_type": "stream",
     "text": [
      "0.44609665427509293\n",
      "1.095724907063197\n",
      "0.15254237288135594\n",
      "6.203389830508475\n",
      "month 5 data\n"
     ]
    },
    {
     "name": "stderr",
     "output_type": "stream",
     "text": [
      "C:\\Users\\Fedia\\anaconda3\\lib\\site-packages\\ipykernel_launcher.py:21: DataConversionWarning: A column-vector y was passed when a 1d array was expected. Please change the shape of y to (n_samples,), for example using ravel().\n"
     ]
    },
    {
     "name": "stdout",
     "output_type": "stream",
     "text": [
      "0.4685251798561151\n",
      "1.29136690647482\n",
      "0.31092436974789917\n",
      "3.7815126050420167\n",
      "month 6 data\n"
     ]
    },
    {
     "name": "stderr",
     "output_type": "stream",
     "text": [
      "C:\\Users\\Fedia\\anaconda3\\lib\\site-packages\\ipykernel_launcher.py:21: DataConversionWarning: A column-vector y was passed when a 1d array was expected. Please change the shape of y to (n_samples,), for example using ravel().\n"
     ]
    },
    {
     "name": "stdout",
     "output_type": "stream",
     "text": [
      "0.590633130962706\n",
      "0.6513443191673894\n",
      "0.3\n",
      "2.941666666666667\n",
      "month 7 data\n"
     ]
    },
    {
     "name": "stderr",
     "output_type": "stream",
     "text": [
      "C:\\Users\\Fedia\\anaconda3\\lib\\site-packages\\ipykernel_launcher.py:21: DataConversionWarning: A column-vector y was passed when a 1d array was expected. Please change the shape of y to (n_samples,), for example using ravel().\n"
     ]
    },
    {
     "name": "stdout",
     "output_type": "stream",
     "text": [
      "0.5380875202593193\n",
      "0.6150729335494327\n",
      "0.2727272727272727\n",
      "1.5950413223140496\n",
      "month 8 data\n"
     ]
    },
    {
     "name": "stderr",
     "output_type": "stream",
     "text": [
      "C:\\Users\\Fedia\\anaconda3\\lib\\site-packages\\ipykernel_launcher.py:21: DataConversionWarning: A column-vector y was passed when a 1d array was expected. Please change the shape of y to (n_samples,), for example using ravel().\n"
     ]
    },
    {
     "name": "stdout",
     "output_type": "stream",
     "text": [
      "0.6504770164787511\n",
      "0.37294015611448394\n",
      "0.3220338983050847\n",
      "1.347457627118644\n",
      "month 9 data\n"
     ]
    },
    {
     "name": "stderr",
     "output_type": "stream",
     "text": [
      "C:\\Users\\Fedia\\anaconda3\\lib\\site-packages\\ipykernel_launcher.py:21: DataConversionWarning: A column-vector y was passed when a 1d array was expected. Please change the shape of y to (n_samples,), for example using ravel().\n"
     ]
    },
    {
     "name": "stdout",
     "output_type": "stream",
     "text": [
      "0.5507976490344249\n",
      "0.5583543240973972\n",
      "0.3445378151260504\n",
      "1.2521008403361344\n",
      "month 10 data\n"
     ]
    },
    {
     "name": "stderr",
     "output_type": "stream",
     "text": [
      "C:\\Users\\Fedia\\anaconda3\\lib\\site-packages\\ipykernel_launcher.py:21: DataConversionWarning: A column-vector y was passed when a 1d array was expected. Please change the shape of y to (n_samples,), for example using ravel().\n"
     ]
    },
    {
     "name": "stdout",
     "output_type": "stream",
     "text": [
      "0.4560975609756098\n",
      "0.8\n",
      "0.32786885245901637\n",
      "3.918032786885246\n",
      "month 11 data\n"
     ]
    },
    {
     "name": "stderr",
     "output_type": "stream",
     "text": [
      "C:\\Users\\Fedia\\anaconda3\\lib\\site-packages\\ipykernel_launcher.py:21: DataConversionWarning: A column-vector y was passed when a 1d array was expected. Please change the shape of y to (n_samples,), for example using ravel().\n"
     ]
    },
    {
     "name": "stdout",
     "output_type": "stream",
     "text": [
      "0.38083333333333336\n",
      "1.0783333333333334\n",
      "0.39166666666666666\n",
      "1.2083333333333333\n",
      "month 12 data\n"
     ]
    },
    {
     "name": "stderr",
     "output_type": "stream",
     "text": [
      "C:\\Users\\Fedia\\anaconda3\\lib\\site-packages\\ipykernel_launcher.py:21: DataConversionWarning: A column-vector y was passed when a 1d array was expected. Please change the shape of y to (n_samples,), for example using ravel().\n"
     ]
    },
    {
     "name": "stdout",
     "output_type": "stream",
     "text": [
      "0.4168012924071082\n",
      "0.9297253634894992\n",
      "0.23577235772357724\n",
      "4.154471544715447\n"
     ]
    }
   ],
   "source": [
    "for m in range(1, 13):\n",
    "    print(fr'month {m} data')\n",
    "    \n",
    "    ## Load train test from csv\n",
    "\n",
    "    train_part = pd.read_csv(fr'weather_data/df_month_{m}_train.csv')\n",
    "    test_part = pd.read_csv(fr'weather_data/df_month_{m}_test.csv')\n",
    "\n",
    "    X_train_part = train_part[REL_FEATURES]\n",
    "    y_train_part = train_part[LABEL]\n",
    "\n",
    "    X_test_part = test_part[REL_FEATURES]\n",
    "    y_test_part = test_part[LABEL]\n",
    "\n",
    "    df = pd.get_dummies(pd.concat([X_train_part, X_test_part], ignore_index=True)).fillna(0)\n",
    "\n",
    "    X_train_part = df.loc[X_train_part.index]\n",
    "    X_test_part = df.loc[X_test_part.index]\n",
    "\n",
    "    clf = RandomForestClassifier(n_estimators=100, random_state=1, max_depth=2)\n",
    "    clf.fit(X_train_part, y_train_part)\n",
    "\n",
    "    ## Random forest train pred\n",
    "\n",
    "    # pred on train\n",
    "    y_pred_train_part = clf.predict(X_train_part)\n",
    "\n",
    "    # accuracy on train\n",
    "    print(clf.score(X_train_part, y_train_part))\n",
    "\n",
    "    print(mean_squared_error(y_train_part, y_pred_train_part))\n",
    "\n",
    "    ## Random forest test pred\n",
    "\n",
    "    # pred on test\n",
    "    y_pred_test_part = clf.predict(X_test_part)\n",
    "\n",
    "    # accuracy on test\n",
    "    print(clf.score(X_test_part, y_test_part))\n",
    "\n",
    "    print(mean_squared_error(y_test_part, y_pred_test_part))"
   ]
  },
  {
   "cell_type": "markdown",
   "metadata": {},
   "source": [
    "# Random Forest seasons data"
   ]
  },
  {
   "cell_type": "code",
   "execution_count": 98,
   "metadata": {},
   "outputs": [
    {
     "name": "stdout",
     "output_type": "stream",
     "text": [
      "season winter data\n"
     ]
    },
    {
     "name": "stderr",
     "output_type": "stream",
     "text": [
      "C:\\Users\\Fedia\\anaconda3\\lib\\site-packages\\ipykernel_launcher.py:21: DataConversionWarning: A column-vector y was passed when a 1d array was expected. Please change the shape of y to (n_samples,), for example using ravel().\n"
     ]
    },
    {
     "name": "stdout",
     "output_type": "stream",
     "text": [
      "0.49190283400809715\n",
      "0.917004048582996\n",
      "0.3076923076923077\n",
      "3.3927125506072873\n",
      "season spring data\n"
     ]
    },
    {
     "name": "stderr",
     "output_type": "stream",
     "text": [
      "C:\\Users\\Fedia\\anaconda3\\lib\\site-packages\\ipykernel_launcher.py:21: DataConversionWarning: A column-vector y was passed when a 1d array was expected. Please change the shape of y to (n_samples,), for example using ravel().\n"
     ]
    },
    {
     "name": "stdout",
     "output_type": "stream",
     "text": [
      "0.3561705989110708\n",
      "1.5040834845735027\n",
      "0.2457627118644068\n",
      "6.970338983050848\n",
      "season summer data\n"
     ]
    },
    {
     "name": "stderr",
     "output_type": "stream",
     "text": [
      "C:\\Users\\Fedia\\anaconda3\\lib\\site-packages\\ipykernel_launcher.py:21: DataConversionWarning: A column-vector y was passed when a 1d array was expected. Please change the shape of y to (n_samples,), for example using ravel().\n"
     ]
    },
    {
     "name": "stdout",
     "output_type": "stream",
     "text": [
      "0.40915893445076323\n",
      "1.5483388207123616\n",
      "0.3557422969187675\n",
      "2.719887955182073\n",
      "season monsoon data\n"
     ]
    },
    {
     "name": "stderr",
     "output_type": "stream",
     "text": [
      "C:\\Users\\Fedia\\anaconda3\\lib\\site-packages\\ipykernel_launcher.py:21: DataConversionWarning: A column-vector y was passed when a 1d array was expected. Please change the shape of y to (n_samples,), for example using ravel().\n"
     ]
    },
    {
     "name": "stdout",
     "output_type": "stream",
     "text": [
      "0.5781879194630872\n",
      "0.5359060402684563\n",
      "0.3210702341137124\n",
      "1.5250836120401339\n",
      "season autumn data\n"
     ]
    },
    {
     "name": "stderr",
     "output_type": "stream",
     "text": [
      "C:\\Users\\Fedia\\anaconda3\\lib\\site-packages\\ipykernel_launcher.py:21: DataConversionWarning: A column-vector y was passed when a 1d array was expected. Please change the shape of y to (n_samples,), for example using ravel().\n"
     ]
    },
    {
     "name": "stdout",
     "output_type": "stream",
     "text": [
      "0.40785997357992076\n",
      "0.9815059445178336\n",
      "0.27906976744186046\n",
      "3.159468438538206\n"
     ]
    }
   ],
   "source": [
    "for s in ['winter', 'spring', 'summer', 'monsoon', 'autumn']:\n",
    "    print(fr'season {s} data')\n",
    "    \n",
    "    ## Load train test from csv\n",
    "\n",
    "    train_part = pd.read_csv(fr'weather_data/df_season_{s}_train.csv')\n",
    "    test_part = pd.read_csv(fr'weather_data/df_season_{s}_test.csv')\n",
    "\n",
    "    X_train_part = train_part[REL_FEATURES]\n",
    "    y_train_part = train_part[LABEL]\n",
    "\n",
    "    X_test_part = test_part[REL_FEATURES]\n",
    "    y_test_part = test_part[LABEL]\n",
    "\n",
    "    df = pd.get_dummies(pd.concat([X_train_part, X_test_part], ignore_index=True)).fillna(0)\n",
    "\n",
    "    X_train_part = df.loc[X_train_part.index]\n",
    "    X_test_part = df.loc[X_test_part.index]\n",
    "\n",
    "    clf = RandomForestClassifier(n_estimators=100, random_state=1, max_depth=2)\n",
    "    clf.fit(X_train_part, y_train_part)\n",
    "\n",
    "    ## Random forest train pred\n",
    "\n",
    "    # pred on train\n",
    "    y_pred_train_part = clf.predict(X_train_part)\n",
    "\n",
    "    # accuracy on train\n",
    "    print(clf.score(X_train_part, y_train_part))\n",
    "\n",
    "    print(mean_squared_error(y_train_part, y_pred_train_part))\n",
    "\n",
    "    ## Random forest test pred\n",
    "\n",
    "    # pred on test\n",
    "    y_pred_test_part = clf.predict(X_test_part)\n",
    "\n",
    "    # accuracy on test\n",
    "    print(clf.score(X_test_part, y_test_part))\n",
    "\n",
    "    print(mean_squared_error(y_test_part, y_pred_test_part))"
   ]
  },
  {
   "cell_type": "markdown",
   "metadata": {},
   "source": [
    "# Random Forest months + day part data"
   ]
  },
  {
   "cell_type": "code",
   "execution_count": 106,
   "metadata": {
    "scrolled": true
   },
   "outputs": [
    {
     "name": "stdout",
     "output_type": "stream",
     "text": [
      "month 1 day part night data\n"
     ]
    },
    {
     "name": "stderr",
     "output_type": "stream",
     "text": [
      "C:\\Users\\Fedia\\anaconda3\\lib\\site-packages\\ipykernel_launcher.py:25: DataConversionWarning: A column-vector y was passed when a 1d array was expected. Please change the shape of y to (n_samples,), for example using ravel().\n"
     ]
    },
    {
     "name": "stdout",
     "output_type": "stream",
     "text": [
      "0.6148867313915858\n",
      "0.8090614886731392\n",
      "0.5161290322580645\n",
      "0.6774193548387096\n",
      "month 1 day part morning data\n"
     ]
    },
    {
     "name": "stderr",
     "output_type": "stream",
     "text": [
      "C:\\Users\\Fedia\\anaconda3\\lib\\site-packages\\ipykernel_launcher.py:25: DataConversionWarning: A column-vector y was passed when a 1d array was expected. Please change the shape of y to (n_samples,), for example using ravel().\n"
     ]
    },
    {
     "name": "stdout",
     "output_type": "stream",
     "text": [
      "0.4642857142857143\n",
      "0.8766233766233766\n",
      "0.12903225806451613\n",
      "2.774193548387097\n",
      "month 1 day part noon data\n"
     ]
    },
    {
     "name": "stderr",
     "output_type": "stream",
     "text": [
      "C:\\Users\\Fedia\\anaconda3\\lib\\site-packages\\ipykernel_launcher.py:25: DataConversionWarning: A column-vector y was passed when a 1d array was expected. Please change the shape of y to (n_samples,), for example using ravel().\n"
     ]
    },
    {
     "name": "stdout",
     "output_type": "stream",
     "text": [
      "0.5439739413680782\n",
      "0.6840390879478827\n",
      "0.25806451612903225\n",
      "2.161290322580645\n",
      "month 1 day part evening data\n"
     ]
    },
    {
     "name": "stderr",
     "output_type": "stream",
     "text": [
      "C:\\Users\\Fedia\\anaconda3\\lib\\site-packages\\ipykernel_launcher.py:25: DataConversionWarning: A column-vector y was passed when a 1d array was expected. Please change the shape of y to (n_samples,), for example using ravel().\n"
     ]
    },
    {
     "name": "stdout",
     "output_type": "stream",
     "text": [
      "0.6623376623376623\n",
      "0.4448051948051948\n",
      "0.5806451612903226\n",
      "0.6129032258064516\n",
      "month 2 day part night data\n"
     ]
    },
    {
     "name": "stderr",
     "output_type": "stream",
     "text": [
      "C:\\Users\\Fedia\\anaconda3\\lib\\site-packages\\ipykernel_launcher.py:25: DataConversionWarning: A column-vector y was passed when a 1d array was expected. Please change the shape of y to (n_samples,), for example using ravel().\n"
     ]
    },
    {
     "name": "stdout",
     "output_type": "stream",
     "text": [
      "0.5543478260869565\n",
      "0.7536231884057971\n",
      "0.42857142857142855\n",
      "1.7857142857142858\n",
      "month 2 day part morning data\n"
     ]
    },
    {
     "name": "stderr",
     "output_type": "stream",
     "text": [
      "C:\\Users\\Fedia\\anaconda3\\lib\\site-packages\\ipykernel_launcher.py:25: DataConversionWarning: A column-vector y was passed when a 1d array was expected. Please change the shape of y to (n_samples,), for example using ravel().\n"
     ]
    },
    {
     "name": "stdout",
     "output_type": "stream",
     "text": [
      "0.48717948717948717\n",
      "0.9853479853479854\n",
      "0.2857142857142857\n",
      "3.0\n",
      "month 2 day part noon data\n"
     ]
    },
    {
     "name": "stderr",
     "output_type": "stream",
     "text": [
      "C:\\Users\\Fedia\\anaconda3\\lib\\site-packages\\ipykernel_launcher.py:25: DataConversionWarning: A column-vector y was passed when a 1d array was expected. Please change the shape of y to (n_samples,), for example using ravel().\n"
     ]
    },
    {
     "name": "stdout",
     "output_type": "stream",
     "text": [
      "0.47619047619047616\n",
      "0.7875457875457875\n",
      "0.2857142857142857\n",
      "1.8571428571428572\n",
      "month 2 day part evening data\n"
     ]
    },
    {
     "name": "stderr",
     "output_type": "stream",
     "text": [
      "C:\\Users\\Fedia\\anaconda3\\lib\\site-packages\\ipykernel_launcher.py:25: DataConversionWarning: A column-vector y was passed when a 1d array was expected. Please change the shape of y to (n_samples,), for example using ravel().\n"
     ]
    },
    {
     "name": "stdout",
     "output_type": "stream",
     "text": [
      "0.5421245421245421\n",
      "0.6556776556776557\n",
      "0.42857142857142855\n",
      "1.4285714285714286\n",
      "month 3 day part night data\n"
     ]
    },
    {
     "name": "stderr",
     "output_type": "stream",
     "text": [
      "C:\\Users\\Fedia\\anaconda3\\lib\\site-packages\\ipykernel_launcher.py:25: DataConversionWarning: A column-vector y was passed when a 1d array was expected. Please change the shape of y to (n_samples,), for example using ravel().\n"
     ]
    },
    {
     "name": "stdout",
     "output_type": "stream",
     "text": [
      "0.5519713261648745\n",
      "0.7741935483870968\n",
      "0.3225806451612903\n",
      "1.1612903225806452\n",
      "month 3 day part morning data\n"
     ]
    },
    {
     "name": "stderr",
     "output_type": "stream",
     "text": [
      "C:\\Users\\Fedia\\anaconda3\\lib\\site-packages\\ipykernel_launcher.py:25: DataConversionWarning: A column-vector y was passed when a 1d array was expected. Please change the shape of y to (n_samples,), for example using ravel().\n"
     ]
    },
    {
     "name": "stdout",
     "output_type": "stream",
     "text": [
      "0.4659498207885305\n",
      "1.093189964157706\n",
      "0.3225806451612903\n",
      "0.967741935483871\n",
      "month 3 day part noon data\n"
     ]
    },
    {
     "name": "stderr",
     "output_type": "stream",
     "text": [
      "C:\\Users\\Fedia\\anaconda3\\lib\\site-packages\\ipykernel_launcher.py:25: DataConversionWarning: A column-vector y was passed when a 1d array was expected. Please change the shape of y to (n_samples,), for example using ravel().\n"
     ]
    },
    {
     "name": "stdout",
     "output_type": "stream",
     "text": [
      "0.45126353790613716\n",
      "1.0902527075812274\n",
      "0.3870967741935484\n",
      "1.5161290322580645\n",
      "month 3 day part evening data\n"
     ]
    },
    {
     "name": "stderr",
     "output_type": "stream",
     "text": [
      "C:\\Users\\Fedia\\anaconda3\\lib\\site-packages\\ipykernel_launcher.py:25: DataConversionWarning: A column-vector y was passed when a 1d array was expected. Please change the shape of y to (n_samples,), for example using ravel().\n"
     ]
    },
    {
     "name": "stdout",
     "output_type": "stream",
     "text": [
      "0.5255474452554745\n",
      "0.6788321167883211\n",
      "0.45161290322580644\n",
      "0.8387096774193549\n",
      "month 4 day part night data\n"
     ]
    },
    {
     "name": "stderr",
     "output_type": "stream",
     "text": [
      "C:\\Users\\Fedia\\anaconda3\\lib\\site-packages\\ipykernel_launcher.py:25: DataConversionWarning: A column-vector y was passed when a 1d array was expected. Please change the shape of y to (n_samples,), for example using ravel().\n"
     ]
    },
    {
     "name": "stdout",
     "output_type": "stream",
     "text": [
      "0.5481481481481482\n",
      "0.7185185185185186\n",
      "0.3\n",
      "2.1666666666666665\n",
      "month 4 day part morning data\n"
     ]
    },
    {
     "name": "stderr",
     "output_type": "stream",
     "text": [
      "C:\\Users\\Fedia\\anaconda3\\lib\\site-packages\\ipykernel_launcher.py:25: DataConversionWarning: A column-vector y was passed when a 1d array was expected. Please change the shape of y to (n_samples,), for example using ravel().\n"
     ]
    },
    {
     "name": "stdout",
     "output_type": "stream",
     "text": [
      "0.5185185185185185\n",
      "1.3148148148148149\n",
      "0.5517241379310345\n",
      "1.3793103448275863\n",
      "month 4 day part noon data\n"
     ]
    },
    {
     "name": "stderr",
     "output_type": "stream",
     "text": [
      "C:\\Users\\Fedia\\anaconda3\\lib\\site-packages\\ipykernel_launcher.py:25: DataConversionWarning: A column-vector y was passed when a 1d array was expected. Please change the shape of y to (n_samples,), for example using ravel().\n"
     ]
    },
    {
     "name": "stdout",
     "output_type": "stream",
     "text": [
      "0.5259259259259259\n",
      "1.162962962962963\n",
      "0.3103448275862069\n",
      "1.3103448275862069\n",
      "month 4 day part evening data\n"
     ]
    },
    {
     "name": "stderr",
     "output_type": "stream",
     "text": [
      "C:\\Users\\Fedia\\anaconda3\\lib\\site-packages\\ipykernel_launcher.py:25: DataConversionWarning: A column-vector y was passed when a 1d array was expected. Please change the shape of y to (n_samples,), for example using ravel().\n"
     ]
    },
    {
     "name": "stdout",
     "output_type": "stream",
     "text": [
      "0.4849624060150376\n",
      "0.8909774436090225\n",
      "0.26666666666666666\n",
      "1.6\n",
      "month 5 day part night data\n"
     ]
    },
    {
     "name": "stderr",
     "output_type": "stream",
     "text": [
      "C:\\Users\\Fedia\\anaconda3\\lib\\site-packages\\ipykernel_launcher.py:25: DataConversionWarning: A column-vector y was passed when a 1d array was expected. Please change the shape of y to (n_samples,), for example using ravel().\n"
     ]
    },
    {
     "name": "stdout",
     "output_type": "stream",
     "text": [
      "0.5071942446043165\n",
      "0.6546762589928058\n",
      "0.5483870967741935\n",
      "0.9354838709677419\n",
      "month 5 day part morning data\n"
     ]
    },
    {
     "name": "stderr",
     "output_type": "stream",
     "text": [
      "C:\\Users\\Fedia\\anaconda3\\lib\\site-packages\\ipykernel_launcher.py:25: DataConversionWarning: A column-vector y was passed when a 1d array was expected. Please change the shape of y to (n_samples,), for example using ravel().\n"
     ]
    },
    {
     "name": "stdout",
     "output_type": "stream",
     "text": [
      "0.6402877697841727\n",
      "1.370503597122302\n",
      "0.8709677419354839\n",
      "0.12903225806451613\n",
      "month 5 day part noon data\n"
     ]
    },
    {
     "name": "stderr",
     "output_type": "stream",
     "text": [
      "C:\\Users\\Fedia\\anaconda3\\lib\\site-packages\\ipykernel_launcher.py:25: DataConversionWarning: A column-vector y was passed when a 1d array was expected. Please change the shape of y to (n_samples,), for example using ravel().\n"
     ]
    },
    {
     "name": "stdout",
     "output_type": "stream",
     "text": [
      "0.5627240143369175\n",
      "1.4516129032258065\n",
      "0.5666666666666667\n",
      "1.0\n",
      "month 5 day part evening data\n"
     ]
    },
    {
     "name": "stderr",
     "output_type": "stream",
     "text": [
      "C:\\Users\\Fedia\\anaconda3\\lib\\site-packages\\ipykernel_launcher.py:25: DataConversionWarning: A column-vector y was passed when a 1d array was expected. Please change the shape of y to (n_samples,), for example using ravel().\n"
     ]
    },
    {
     "name": "stdout",
     "output_type": "stream",
     "text": [
      "0.5054151624548736\n",
      "0.8050541516245487\n",
      "0.3333333333333333\n",
      "1.3333333333333333\n",
      "month 6 day part night data\n"
     ]
    },
    {
     "name": "stderr",
     "output_type": "stream",
     "text": [
      "C:\\Users\\Fedia\\anaconda3\\lib\\site-packages\\ipykernel_launcher.py:25: DataConversionWarning: A column-vector y was passed when a 1d array was expected. Please change the shape of y to (n_samples,), for example using ravel().\n"
     ]
    },
    {
     "name": "stdout",
     "output_type": "stream",
     "text": [
      "0.563573883161512\n",
      "0.5910652920962199\n",
      "0.36666666666666664\n",
      "1.4666666666666666\n",
      "month 6 day part morning data\n"
     ]
    },
    {
     "name": "stderr",
     "output_type": "stream",
     "text": [
      "C:\\Users\\Fedia\\anaconda3\\lib\\site-packages\\ipykernel_launcher.py:25: DataConversionWarning: A column-vector y was passed when a 1d array was expected. Please change the shape of y to (n_samples,), for example using ravel().\n"
     ]
    },
    {
     "name": "stdout",
     "output_type": "stream",
     "text": [
      "0.6236933797909407\n",
      "0.9512195121951219\n",
      "0.6333333333333333\n",
      "0.9666666666666667\n",
      "month 6 day part noon data\n"
     ]
    },
    {
     "name": "stderr",
     "output_type": "stream",
     "text": [
      "C:\\Users\\Fedia\\anaconda3\\lib\\site-packages\\ipykernel_launcher.py:25: DataConversionWarning: A column-vector y was passed when a 1d array was expected. Please change the shape of y to (n_samples,), for example using ravel().\n"
     ]
    },
    {
     "name": "stdout",
     "output_type": "stream",
     "text": [
      "0.5958188153310104\n",
      "0.759581881533101\n",
      "0.36666666666666664\n",
      "2.033333333333333\n",
      "month 6 day part evening data\n"
     ]
    },
    {
     "name": "stderr",
     "output_type": "stream",
     "text": [
      "C:\\Users\\Fedia\\anaconda3\\lib\\site-packages\\ipykernel_launcher.py:25: DataConversionWarning: A column-vector y was passed when a 1d array was expected. Please change the shape of y to (n_samples,), for example using ravel().\n"
     ]
    },
    {
     "name": "stdout",
     "output_type": "stream",
     "text": [
      "0.5520833333333334\n",
      "0.6840277777777778\n",
      "0.3\n",
      "1.3666666666666667\n",
      "month 7 day part night data\n"
     ]
    },
    {
     "name": "stderr",
     "output_type": "stream",
     "text": [
      "C:\\Users\\Fedia\\anaconda3\\lib\\site-packages\\ipykernel_launcher.py:25: DataConversionWarning: A column-vector y was passed when a 1d array was expected. Please change the shape of y to (n_samples,), for example using ravel().\n"
     ]
    },
    {
     "name": "stdout",
     "output_type": "stream",
     "text": [
      "0.6741935483870968\n",
      "0.33548387096774196\n",
      "0.4838709677419355\n",
      "0.5161290322580645\n",
      "month 7 day part morning data\n"
     ]
    },
    {
     "name": "stderr",
     "output_type": "stream",
     "text": [
      "C:\\Users\\Fedia\\anaconda3\\lib\\site-packages\\ipykernel_launcher.py:25: DataConversionWarning: A column-vector y was passed when a 1d array was expected. Please change the shape of y to (n_samples,), for example using ravel().\n"
     ]
    },
    {
     "name": "stdout",
     "output_type": "stream",
     "text": [
      "0.6310679611650486\n",
      "0.5275080906148867\n",
      "0.5\n",
      "1.2333333333333334\n",
      "month 7 day part noon data\n"
     ]
    },
    {
     "name": "stderr",
     "output_type": "stream",
     "text": [
      "C:\\Users\\Fedia\\anaconda3\\lib\\site-packages\\ipykernel_launcher.py:25: DataConversionWarning: A column-vector y was passed when a 1d array was expected. Please change the shape of y to (n_samples,), for example using ravel().\n"
     ]
    },
    {
     "name": "stdout",
     "output_type": "stream",
     "text": [
      "0.5612903225806452\n",
      "0.5258064516129032\n",
      "0.36666666666666664\n",
      "1.4\n",
      "month 7 day part evening data\n"
     ]
    },
    {
     "name": "stderr",
     "output_type": "stream",
     "text": [
      "C:\\Users\\Fedia\\anaconda3\\lib\\site-packages\\ipykernel_launcher.py:25: DataConversionWarning: A column-vector y was passed when a 1d array was expected. Please change the shape of y to (n_samples,), for example using ravel().\n"
     ]
    },
    {
     "name": "stdout",
     "output_type": "stream",
     "text": [
      "0.6131147540983607\n",
      "0.46557377049180326\n",
      "0.4\n",
      "1.0\n",
      "month 8 day part night data\n"
     ]
    },
    {
     "name": "stderr",
     "output_type": "stream",
     "text": [
      "C:\\Users\\Fedia\\anaconda3\\lib\\site-packages\\ipykernel_launcher.py:25: DataConversionWarning: A column-vector y was passed when a 1d array was expected. Please change the shape of y to (n_samples,), for example using ravel().\n"
     ]
    },
    {
     "name": "stdout",
     "output_type": "stream",
     "text": [
      "0.740484429065744\n",
      "0.2698961937716263\n",
      "0.4838709677419355\n",
      "0.5161290322580645\n",
      "month 8 day part morning data\n"
     ]
    },
    {
     "name": "stderr",
     "output_type": "stream",
     "text": [
      "C:\\Users\\Fedia\\anaconda3\\lib\\site-packages\\ipykernel_launcher.py:25: DataConversionWarning: A column-vector y was passed when a 1d array was expected. Please change the shape of y to (n_samples,), for example using ravel().\n"
     ]
    },
    {
     "name": "stdout",
     "output_type": "stream",
     "text": [
      "0.6816608996539792\n",
      "0.4429065743944637\n",
      "0.45161290322580644\n",
      "1.1290322580645162\n",
      "month 8 day part noon data\n"
     ]
    },
    {
     "name": "stderr",
     "output_type": "stream",
     "text": [
      "C:\\Users\\Fedia\\anaconda3\\lib\\site-packages\\ipykernel_launcher.py:25: DataConversionWarning: A column-vector y was passed when a 1d array was expected. Please change the shape of y to (n_samples,), for example using ravel().\n"
     ]
    },
    {
     "name": "stdout",
     "output_type": "stream",
     "text": [
      "0.6241379310344828\n",
      "0.4379310344827586\n",
      "0.42857142857142855\n",
      "0.8928571428571429\n",
      "month 8 day part evening data\n"
     ]
    },
    {
     "name": "stderr",
     "output_type": "stream",
     "text": [
      "C:\\Users\\Fedia\\anaconda3\\lib\\site-packages\\ipykernel_launcher.py:25: DataConversionWarning: A column-vector y was passed when a 1d array was expected. Please change the shape of y to (n_samples,), for example using ravel().\n"
     ]
    },
    {
     "name": "stdout",
     "output_type": "stream",
     "text": [
      "0.631578947368421\n",
      "0.37894736842105264\n",
      "0.5714285714285714\n",
      "0.42857142857142855\n",
      "month 9 day part night data\n"
     ]
    },
    {
     "name": "stderr",
     "output_type": "stream",
     "text": [
      "C:\\Users\\Fedia\\anaconda3\\lib\\site-packages\\ipykernel_launcher.py:25: DataConversionWarning: A column-vector y was passed when a 1d array was expected. Please change the shape of y to (n_samples,), for example using ravel().\n"
     ]
    },
    {
     "name": "stdout",
     "output_type": "stream",
     "text": [
      "0.6588628762541806\n",
      "0.41471571906354515\n",
      "0.6\n",
      "0.4\n",
      "month 9 day part morning data\n"
     ]
    },
    {
     "name": "stderr",
     "output_type": "stream",
     "text": [
      "C:\\Users\\Fedia\\anaconda3\\lib\\site-packages\\ipykernel_launcher.py:25: DataConversionWarning: A column-vector y was passed when a 1d array was expected. Please change the shape of y to (n_samples,), for example using ravel().\n"
     ]
    },
    {
     "name": "stdout",
     "output_type": "stream",
     "text": [
      "0.6148648648648649\n",
      "0.5878378378378378\n",
      "0.43333333333333335\n",
      "1.3666666666666667\n",
      "month 9 day part noon data\n"
     ]
    },
    {
     "name": "stderr",
     "output_type": "stream",
     "text": [
      "C:\\Users\\Fedia\\anaconda3\\lib\\site-packages\\ipykernel_launcher.py:25: DataConversionWarning: A column-vector y was passed when a 1d array was expected. Please change the shape of y to (n_samples,), for example using ravel().\n"
     ]
    },
    {
     "name": "stdout",
     "output_type": "stream",
     "text": [
      "0.587248322147651\n",
      "0.5033557046979866\n",
      "0.23333333333333334\n",
      "1.7333333333333334\n",
      "month 9 day part evening data\n"
     ]
    },
    {
     "name": "stderr",
     "output_type": "stream",
     "text": [
      "C:\\Users\\Fedia\\anaconda3\\lib\\site-packages\\ipykernel_launcher.py:25: DataConversionWarning: A column-vector y was passed when a 1d array was expected. Please change the shape of y to (n_samples,), for example using ravel().\n"
     ]
    },
    {
     "name": "stdout",
     "output_type": "stream",
     "text": [
      "0.7248322147651006\n",
      "0.31543624161073824\n",
      "0.2413793103448276\n",
      "0.8620689655172413\n",
      "month 10 day part night data\n"
     ]
    },
    {
     "name": "stderr",
     "output_type": "stream",
     "text": [
      "C:\\Users\\Fedia\\anaconda3\\lib\\site-packages\\ipykernel_launcher.py:25: DataConversionWarning: A column-vector y was passed when a 1d array was expected. Please change the shape of y to (n_samples,), for example using ravel().\n"
     ]
    },
    {
     "name": "stdout",
     "output_type": "stream",
     "text": [
      "0.5857605177993528\n",
      "0.6019417475728155\n",
      "0.2903225806451613\n",
      "0.7096774193548387\n",
      "month 10 day part morning data\n"
     ]
    },
    {
     "name": "stderr",
     "output_type": "stream",
     "text": [
      "C:\\Users\\Fedia\\anaconda3\\lib\\site-packages\\ipykernel_launcher.py:25: DataConversionWarning: A column-vector y was passed when a 1d array was expected. Please change the shape of y to (n_samples,), for example using ravel().\n"
     ]
    },
    {
     "name": "stdout",
     "output_type": "stream",
     "text": [
      "0.5895765472312704\n",
      "0.46905537459283386\n",
      "0.5161290322580645\n",
      "0.4838709677419355\n",
      "month 10 day part noon data\n"
     ]
    },
    {
     "name": "stderr",
     "output_type": "stream",
     "text": [
      "C:\\Users\\Fedia\\anaconda3\\lib\\site-packages\\ipykernel_launcher.py:25: DataConversionWarning: A column-vector y was passed when a 1d array was expected. Please change the shape of y to (n_samples,), for example using ravel().\n"
     ]
    },
    {
     "name": "stdout",
     "output_type": "stream",
     "text": [
      "0.5811688311688312\n",
      "0.525974025974026\n",
      "0.41935483870967744\n",
      "1.7419354838709677\n",
      "month 10 day part evening data\n"
     ]
    },
    {
     "name": "stderr",
     "output_type": "stream",
     "text": [
      "C:\\Users\\Fedia\\anaconda3\\lib\\site-packages\\ipykernel_launcher.py:25: DataConversionWarning: A column-vector y was passed when a 1d array was expected. Please change the shape of y to (n_samples,), for example using ravel().\n"
     ]
    },
    {
     "name": "stdout",
     "output_type": "stream",
     "text": [
      "0.6568627450980392\n",
      "0.43137254901960786\n",
      "0.4482758620689655\n",
      "0.8620689655172413\n",
      "month 11 day part night data\n"
     ]
    },
    {
     "name": "stderr",
     "output_type": "stream",
     "text": [
      "C:\\Users\\Fedia\\anaconda3\\lib\\site-packages\\ipykernel_launcher.py:25: DataConversionWarning: A column-vector y was passed when a 1d array was expected. Please change the shape of y to (n_samples,), for example using ravel().\n"
     ]
    },
    {
     "name": "stdout",
     "output_type": "stream",
     "text": [
      "0.5833333333333334\n",
      "0.5666666666666667\n",
      "0.7\n",
      "0.8\n",
      "month 11 day part morning data\n"
     ]
    },
    {
     "name": "stderr",
     "output_type": "stream",
     "text": [
      "C:\\Users\\Fedia\\anaconda3\\lib\\site-packages\\ipykernel_launcher.py:25: DataConversionWarning: A column-vector y was passed when a 1d array was expected. Please change the shape of y to (n_samples,), for example using ravel().\n"
     ]
    },
    {
     "name": "stdout",
     "output_type": "stream",
     "text": [
      "0.5733333333333334\n",
      "0.5166666666666667\n",
      "0.5333333333333333\n",
      "0.9333333333333333\n",
      "month 11 day part noon data\n"
     ]
    },
    {
     "name": "stderr",
     "output_type": "stream",
     "text": [
      "C:\\Users\\Fedia\\anaconda3\\lib\\site-packages\\ipykernel_launcher.py:25: DataConversionWarning: A column-vector y was passed when a 1d array was expected. Please change the shape of y to (n_samples,), for example using ravel().\n"
     ]
    },
    {
     "name": "stdout",
     "output_type": "stream",
     "text": [
      "0.5133333333333333\n",
      "0.8\n",
      "0.3\n",
      "1.4\n",
      "month 11 day part evening data\n"
     ]
    },
    {
     "name": "stderr",
     "output_type": "stream",
     "text": [
      "C:\\Users\\Fedia\\anaconda3\\lib\\site-packages\\ipykernel_launcher.py:25: DataConversionWarning: A column-vector y was passed when a 1d array was expected. Please change the shape of y to (n_samples,), for example using ravel().\n"
     ]
    },
    {
     "name": "stdout",
     "output_type": "stream",
     "text": [
      "0.63\n",
      "0.45\n",
      "0.7333333333333333\n",
      "0.36666666666666664\n",
      "month 12 day part night data\n"
     ]
    },
    {
     "name": "stderr",
     "output_type": "stream",
     "text": [
      "C:\\Users\\Fedia\\anaconda3\\lib\\site-packages\\ipykernel_launcher.py:25: DataConversionWarning: A column-vector y was passed when a 1d array was expected. Please change the shape of y to (n_samples,), for example using ravel().\n"
     ]
    },
    {
     "name": "stdout",
     "output_type": "stream",
     "text": [
      "0.5516129032258065\n",
      "0.7419354838709677\n",
      "0.4838709677419355\n",
      "0.6129032258064516\n",
      "month 12 day part morning data\n"
     ]
    },
    {
     "name": "stderr",
     "output_type": "stream",
     "text": [
      "C:\\Users\\Fedia\\anaconda3\\lib\\site-packages\\ipykernel_launcher.py:25: DataConversionWarning: A column-vector y was passed when a 1d array was expected. Please change the shape of y to (n_samples,), for example using ravel().\n"
     ]
    },
    {
     "name": "stdout",
     "output_type": "stream",
     "text": [
      "0.5580645161290323\n",
      "0.7774193548387097\n",
      "0.45161290322580644\n",
      "1.032258064516129\n",
      "month 12 day part noon data\n"
     ]
    },
    {
     "name": "stderr",
     "output_type": "stream",
     "text": [
      "C:\\Users\\Fedia\\anaconda3\\lib\\site-packages\\ipykernel_launcher.py:25: DataConversionWarning: A column-vector y was passed when a 1d array was expected. Please change the shape of y to (n_samples,), for example using ravel().\n"
     ]
    },
    {
     "name": "stdout",
     "output_type": "stream",
     "text": [
      "0.4967741935483871\n",
      "0.7903225806451613\n",
      "0.45161290322580644\n",
      "2.193548387096774\n",
      "month 12 day part evening data\n"
     ]
    },
    {
     "name": "stderr",
     "output_type": "stream",
     "text": [
      "C:\\Users\\Fedia\\anaconda3\\lib\\site-packages\\ipykernel_launcher.py:25: DataConversionWarning: A column-vector y was passed when a 1d array was expected. Please change the shape of y to (n_samples,), for example using ravel().\n"
     ]
    },
    {
     "name": "stdout",
     "output_type": "stream",
     "text": [
      "0.5616883116883117\n",
      "0.5064935064935064\n",
      "0.36666666666666664\n",
      "0.7333333333333333\n"
     ]
    }
   ],
   "source": [
    "for m in range(1, 13):\n",
    "    for p in ['night', 'morning', 'noon', 'evening']:\n",
    "        print(fr'month {m} day part {p} data')\n",
    "\n",
    "        ## Load train test from csv\n",
    "\n",
    "        train_part = pd.read_csv(fr'weather_data/df_month_{m}_train.csv')\n",
    "        test_part = pd.read_csv(fr'weather_data/df_month_{m}_test.csv')\n",
    "        \n",
    "        train_part = train_part[train_part[p] == 1].reset_index()\n",
    "        test_part = test_part[test_part[p] == 1].reset_index()\n",
    "\n",
    "        X_train_part = train_part[REL_FEATURES]\n",
    "        y_train_part = train_part[LABEL]\n",
    "\n",
    "        X_test_part = test_part[REL_FEATURES]\n",
    "        y_test_part = test_part[LABEL]\n",
    "\n",
    "        df = pd.get_dummies(pd.concat([X_train_part, X_test_part], ignore_index=True)).fillna(0)\n",
    "\n",
    "        X_train_part = df.loc[X_train_part.index]\n",
    "        X_test_part = df.loc[X_test_part.index]\n",
    "\n",
    "        clf = RandomForestClassifier(n_estimators=100, random_state=1, max_depth=2)\n",
    "        clf.fit(X_train_part, y_train_part)\n",
    "\n",
    "        ## Random forest train pred\n",
    "\n",
    "        # pred on train\n",
    "        y_pred_train_part = clf.predict(X_train_part)\n",
    "\n",
    "        # accuracy on train\n",
    "        print(clf.score(X_train_part, y_train_part))\n",
    "\n",
    "        print(mean_squared_error(y_train_part, y_pred_train_part))\n",
    "\n",
    "        ## Random forest test pred\n",
    "\n",
    "        # pred on test\n",
    "        y_pred_test_part = clf.predict(X_test_part)\n",
    "\n",
    "        # accuracy on test\n",
    "        print(clf.score(X_test_part, y_test_part))\n",
    "\n",
    "        print(mean_squared_error(y_test_part, y_pred_test_part))"
   ]
  },
  {
   "cell_type": "markdown",
   "metadata": {},
   "source": [
    "# Random Forest seasons + day part data"
   ]
  },
  {
   "cell_type": "code",
   "execution_count": 107,
   "metadata": {},
   "outputs": [
    {
     "name": "stdout",
     "output_type": "stream",
     "text": [
      "season winter day part night data\n"
     ]
    },
    {
     "name": "stderr",
     "output_type": "stream",
     "text": [
      "C:\\Users\\Fedia\\anaconda3\\lib\\site-packages\\ipykernel_launcher.py:25: DataConversionWarning: A column-vector y was passed when a 1d array was expected. Please change the shape of y to (n_samples,), for example using ravel().\n"
     ]
    },
    {
     "name": "stdout",
     "output_type": "stream",
     "text": [
      "0.617124394184168\n",
      "0.7334410339256866\n",
      "0.5161290322580645\n",
      "0.6774193548387096\n",
      "season winter day part morning data\n"
     ]
    },
    {
     "name": "stderr",
     "output_type": "stream",
     "text": [
      "C:\\Users\\Fedia\\anaconda3\\lib\\site-packages\\ipykernel_launcher.py:25: DataConversionWarning: A column-vector y was passed when a 1d array was expected. Please change the shape of y to (n_samples,), for example using ravel().\n"
     ]
    },
    {
     "name": "stdout",
     "output_type": "stream",
     "text": [
      "0.4449838187702265\n",
      "1.0339805825242718\n",
      "0.3064516129032258\n",
      "2.274193548387097\n",
      "season winter day part noon data\n"
     ]
    },
    {
     "name": "stderr",
     "output_type": "stream",
     "text": [
      "C:\\Users\\Fedia\\anaconda3\\lib\\site-packages\\ipykernel_launcher.py:25: DataConversionWarning: A column-vector y was passed when a 1d array was expected. Please change the shape of y to (n_samples,), for example using ravel().\n"
     ]
    },
    {
     "name": "stdout",
     "output_type": "stream",
     "text": [
      "0.5121555915721232\n",
      "0.713128038897893\n",
      "0.3870967741935484\n",
      "1.7580645161290323\n",
      "season winter day part evening data\n"
     ]
    },
    {
     "name": "stderr",
     "output_type": "stream",
     "text": [
      "C:\\Users\\Fedia\\anaconda3\\lib\\site-packages\\ipykernel_launcher.py:25: DataConversionWarning: A column-vector y was passed when a 1d array was expected. Please change the shape of y to (n_samples,), for example using ravel().\n"
     ]
    },
    {
     "name": "stdout",
     "output_type": "stream",
     "text": [
      "0.5292207792207793\n",
      "0.5811688311688312\n",
      "0.47540983606557374\n",
      "0.6229508196721312\n",
      "season spring day part night data\n"
     ]
    },
    {
     "name": "stderr",
     "output_type": "stream",
     "text": [
      "C:\\Users\\Fedia\\anaconda3\\lib\\site-packages\\ipykernel_launcher.py:25: DataConversionWarning: A column-vector y was passed when a 1d array was expected. Please change the shape of y to (n_samples,), for example using ravel().\n"
     ]
    },
    {
     "name": "stdout",
     "output_type": "stream",
     "text": [
      "0.4666666666666667\n",
      "0.9837837837837838\n",
      "0.2542372881355932\n",
      "3.0847457627118646\n",
      "season spring day part morning data\n"
     ]
    },
    {
     "name": "stderr",
     "output_type": "stream",
     "text": [
      "C:\\Users\\Fedia\\anaconda3\\lib\\site-packages\\ipykernel_launcher.py:25: DataConversionWarning: A column-vector y was passed when a 1d array was expected. Please change the shape of y to (n_samples,), for example using ravel().\n"
     ]
    },
    {
     "name": "stdout",
     "output_type": "stream",
     "text": [
      "0.4003623188405797\n",
      "1.3315217391304348\n",
      "0.1694915254237288\n",
      "2.9152542372881354\n",
      "season spring day part noon data\n"
     ]
    },
    {
     "name": "stderr",
     "output_type": "stream",
     "text": [
      "C:\\Users\\Fedia\\anaconda3\\lib\\site-packages\\ipykernel_launcher.py:25: DataConversionWarning: A column-vector y was passed when a 1d array was expected. Please change the shape of y to (n_samples,), for example using ravel().\n"
     ]
    },
    {
     "name": "stdout",
     "output_type": "stream",
     "text": [
      "0.4309090909090909\n",
      "1.2381818181818183\n",
      "0.2542372881355932\n",
      "3.23728813559322\n",
      "season spring day part evening data\n"
     ]
    },
    {
     "name": "stderr",
     "output_type": "stream",
     "text": [
      "C:\\Users\\Fedia\\anaconda3\\lib\\site-packages\\ipykernel_launcher.py:25: DataConversionWarning: A column-vector y was passed when a 1d array was expected. Please change the shape of y to (n_samples,), for example using ravel().\n"
     ]
    },
    {
     "name": "stdout",
     "output_type": "stream",
     "text": [
      "0.4625228519195612\n",
      "0.9177330895795247\n",
      "0.2033898305084746\n",
      "3.0\n",
      "season summer day part night data\n"
     ]
    },
    {
     "name": "stderr",
     "output_type": "stream",
     "text": [
      "C:\\Users\\Fedia\\anaconda3\\lib\\site-packages\\ipykernel_launcher.py:25: DataConversionWarning: A column-vector y was passed when a 1d array was expected. Please change the shape of y to (n_samples,), for example using ravel().\n"
     ]
    },
    {
     "name": "stdout",
     "output_type": "stream",
     "text": [
      "0.45530393325387364\n",
      "0.9892729439809297\n",
      "0.27472527472527475\n",
      "1.7252747252747254\n",
      "season summer day part morning data\n"
     ]
    },
    {
     "name": "stderr",
     "output_type": "stream",
     "text": [
      "C:\\Users\\Fedia\\anaconda3\\lib\\site-packages\\ipykernel_launcher.py:25: DataConversionWarning: A column-vector y was passed when a 1d array was expected. Please change the shape of y to (n_samples,), for example using ravel().\n"
     ]
    },
    {
     "name": "stdout",
     "output_type": "stream",
     "text": [
      "0.5473053892215569\n",
      "1.4934131736526945\n",
      "0.7888888888888889\n",
      "0.4111111111111111\n",
      "season summer day part noon data\n"
     ]
    },
    {
     "name": "stderr",
     "output_type": "stream",
     "text": [
      "C:\\Users\\Fedia\\anaconda3\\lib\\site-packages\\ipykernel_launcher.py:25: DataConversionWarning: A column-vector y was passed when a 1d array was expected. Please change the shape of y to (n_samples,), for example using ravel().\n"
     ]
    },
    {
     "name": "stdout",
     "output_type": "stream",
     "text": [
      "0.4820574162679426\n",
      "1.388755980861244\n",
      "0.4044943820224719\n",
      "1.4606741573033708\n",
      "season summer day part evening data\n"
     ]
    },
    {
     "name": "stderr",
     "output_type": "stream",
     "text": [
      "C:\\Users\\Fedia\\anaconda3\\lib\\site-packages\\ipykernel_launcher.py:25: DataConversionWarning: A column-vector y was passed when a 1d array was expected. Please change the shape of y to (n_samples,), for example using ravel().\n"
     ]
    },
    {
     "name": "stdout",
     "output_type": "stream",
     "text": [
      "0.4620938628158845\n",
      "0.8796630565583634\n",
      "0.28735632183908044\n",
      "1.4482758620689655\n",
      "season monsoon day part night data\n"
     ]
    },
    {
     "name": "stderr",
     "output_type": "stream",
     "text": [
      "C:\\Users\\Fedia\\anaconda3\\lib\\site-packages\\ipykernel_launcher.py:25: DataConversionWarning: A column-vector y was passed when a 1d array was expected. Please change the shape of y to (n_samples,), for example using ravel().\n"
     ]
    },
    {
     "name": "stdout",
     "output_type": "stream",
     "text": [
      "0.6537433155080213\n",
      "0.3622994652406417\n",
      "0.44155844155844154\n",
      "0.5584415584415584\n",
      "season monsoon day part morning data\n"
     ]
    },
    {
     "name": "stderr",
     "output_type": "stream",
     "text": [
      "C:\\Users\\Fedia\\anaconda3\\lib\\site-packages\\ipykernel_launcher.py:25: DataConversionWarning: A column-vector y was passed when a 1d array was expected. Please change the shape of y to (n_samples,), for example using ravel().\n"
     ]
    },
    {
     "name": "stdout",
     "output_type": "stream",
     "text": [
      "0.6327077747989276\n",
      "0.46648793565683644\n",
      "0.39473684210526316\n",
      "1.25\n",
      "season monsoon day part noon data\n"
     ]
    },
    {
     "name": "stderr",
     "output_type": "stream",
     "text": [
      "C:\\Users\\Fedia\\anaconda3\\lib\\site-packages\\ipykernel_launcher.py:25: DataConversionWarning: A column-vector y was passed when a 1d array was expected. Please change the shape of y to (n_samples,), for example using ravel().\n"
     ]
    },
    {
     "name": "stdout",
     "output_type": "stream",
     "text": [
      "0.4839572192513369\n",
      "0.7219251336898396\n",
      "0.3287671232876712\n",
      "1.273972602739726\n",
      "season monsoon day part evening data\n"
     ]
    },
    {
     "name": "stderr",
     "output_type": "stream",
     "text": [
      "C:\\Users\\Fedia\\anaconda3\\lib\\site-packages\\ipykernel_launcher.py:25: DataConversionWarning: A column-vector y was passed when a 1d array was expected. Please change the shape of y to (n_samples,), for example using ravel().\n"
     ]
    },
    {
     "name": "stdout",
     "output_type": "stream",
     "text": [
      "0.5338753387533876\n",
      "0.6531165311653117\n",
      "0.4520547945205479\n",
      "0.6301369863013698\n",
      "season autumn day part night data\n"
     ]
    },
    {
     "name": "stderr",
     "output_type": "stream",
     "text": [
      "C:\\Users\\Fedia\\anaconda3\\lib\\site-packages\\ipykernel_launcher.py:25: DataConversionWarning: A column-vector y was passed when a 1d array was expected. Please change the shape of y to (n_samples,), for example using ravel().\n"
     ]
    },
    {
     "name": "stdout",
     "output_type": "stream",
     "text": [
      "0.5019762845849802\n",
      "0.7957839262187089\n",
      "0.5\n",
      "0.6842105263157895\n",
      "season autumn day part morning data\n"
     ]
    },
    {
     "name": "stderr",
     "output_type": "stream",
     "text": [
      "C:\\Users\\Fedia\\anaconda3\\lib\\site-packages\\ipykernel_launcher.py:25: DataConversionWarning: A column-vector y was passed when a 1d array was expected. Please change the shape of y to (n_samples,), for example using ravel().\n"
     ]
    },
    {
     "name": "stdout",
     "output_type": "stream",
     "text": [
      "0.5231788079470199\n",
      "0.6291390728476821\n",
      "0.618421052631579\n",
      "0.7894736842105263\n",
      "season autumn day part noon data\n"
     ]
    },
    {
     "name": "stderr",
     "output_type": "stream",
     "text": [
      "C:\\Users\\Fedia\\anaconda3\\lib\\site-packages\\ipykernel_launcher.py:25: DataConversionWarning: A column-vector y was passed when a 1d array was expected. Please change the shape of y to (n_samples,), for example using ravel().\n"
     ]
    },
    {
     "name": "stdout",
     "output_type": "stream",
     "text": [
      "0.39841688654353563\n",
      "1.0303430079155673\n",
      "0.34210526315789475\n",
      "1.144736842105263\n",
      "season autumn day part evening data\n"
     ]
    },
    {
     "name": "stderr",
     "output_type": "stream",
     "text": [
      "C:\\Users\\Fedia\\anaconda3\\lib\\site-packages\\ipykernel_launcher.py:25: DataConversionWarning: A column-vector y was passed when a 1d array was expected. Please change the shape of y to (n_samples,), for example using ravel().\n"
     ]
    },
    {
     "name": "stdout",
     "output_type": "stream",
     "text": [
      "0.5396825396825397\n",
      "0.5317460317460317\n",
      "0.5753424657534246\n",
      "0.589041095890411\n"
     ]
    }
   ],
   "source": [
    "for s in ['winter', 'spring', 'summer', 'monsoon', 'autumn']:\n",
    "    for p in ['night', 'morning', 'noon', 'evening']:\n",
    "        print(fr'season {s} day part {p} data')\n",
    "\n",
    "        ## Load train test from csv\n",
    "\n",
    "        train_part = pd.read_csv(fr'weather_data/df_season_{s}_train.csv')\n",
    "        test_part = pd.read_csv(fr'weather_data/df_season_{s}_test.csv')\n",
    "        \n",
    "        train_part = train_part[train_part[p] == 1].reset_index()\n",
    "        test_part = test_part[test_part[p] == 1].reset_index()\n",
    "\n",
    "        X_train_part = train_part[REL_FEATURES]\n",
    "        y_train_part = train_part[LABEL]\n",
    "\n",
    "        X_test_part = test_part[REL_FEATURES]\n",
    "        y_test_part = test_part[LABEL]\n",
    "\n",
    "        df = pd.get_dummies(pd.concat([X_train_part, X_test_part], ignore_index=True)).fillna(0)\n",
    "\n",
    "        X_train_part = df.loc[X_train_part.index]\n",
    "        X_test_part = df.loc[X_test_part.index]\n",
    "\n",
    "        clf = RandomForestClassifier(n_estimators=100, random_state=1, max_depth=2)\n",
    "        clf.fit(X_train_part, y_train_part)\n",
    "\n",
    "        ## Random forest train pred\n",
    "\n",
    "        # pred on train\n",
    "        y_pred_train_part = clf.predict(X_train_part)\n",
    "\n",
    "        # accuracy on train\n",
    "        print(clf.score(X_train_part, y_train_part))\n",
    "\n",
    "        print(mean_squared_error(y_train_part, y_pred_train_part))\n",
    "\n",
    "        ## Random forest test pred\n",
    "\n",
    "        # pred on test\n",
    "        y_pred_test_part = clf.predict(X_test_part)\n",
    "\n",
    "        # accuracy on test\n",
    "        print(clf.score(X_test_part, y_test_part))\n",
    "\n",
    "        print(mean_squared_error(y_test_part, y_pred_test_part))"
   ]
  },
  {
   "cell_type": "code",
   "execution_count": null,
   "metadata": {},
   "outputs": [],
   "source": []
  }
 ],
 "metadata": {
  "kernelspec": {
   "display_name": "Python 3",
   "language": "python",
   "name": "python3"
  },
  "language_info": {
   "codemirror_mode": {
    "name": "ipython",
    "version": 3
   },
   "file_extension": ".py",
   "mimetype": "text/x-python",
   "name": "python",
   "nbconvert_exporter": "python",
   "pygments_lexer": "ipython3",
   "version": "3.7.6"
  }
 },
 "nbformat": 4,
 "nbformat_minor": 2
}
