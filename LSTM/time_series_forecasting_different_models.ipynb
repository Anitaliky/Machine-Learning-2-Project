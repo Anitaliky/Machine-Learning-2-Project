{
  "nbformat": 4,
  "nbformat_minor": 0,
  "metadata": {
    "kernelspec": {
      "display_name": "Python 3",
      "language": "python",
      "name": "python3"
    },
    "language_info": {
      "codemirror_mode": {
        "name": "ipython",
        "version": 3
      },
      "file_extension": ".py",
      "mimetype": "text/x-python",
      "name": "python",
      "nbconvert_exporter": "python",
      "pygments_lexer": "ipython3",
      "version": "3.6.6"
    },
    "colab": {
      "name": "time-series-forecasting-different_models.ipynb",
      "provenance": [],
      "collapsed_sections": []
    }
  },
  "cells": [
    {
      "cell_type": "code",
      "metadata": {
        "_cell_guid": "b1076dfc-b9ad-4769-8c92-a6c4dae69d19",
        "_uuid": "8f2839f25d086af736a60e9eeb907d3b93b6e0e5",
        "id": "Shfsg-FxbFbB",
        "colab_type": "code",
        "colab": {}
      },
      "source": [
        "import numpy as np # linear algebra\n",
        "import pandas as pd # data processing, CSV file I/O (e.g. pd.read_csv)\n",
        "import matplotlib.pyplot as plt\n",
        "\"\"\"from keras.models import Sequential\n",
        "from keras.layers import Dense\"\"\"\n",
        "\n",
        "from tensorflow.python.keras.layers import Input, Dense\n",
        "from tensorflow.python.keras.models import Sequential\n",
        "\n",
        "import matplotlib.patches as mpatches\n",
        "from keras.layers import Dropout\n",
        "from keras.layers import LSTM\n",
        "from sklearn.preprocessing import MinMaxScaler\n",
        "from sklearn.metrics import mean_squared_error, accuracy_score\n",
        "import tensorflow as tf\n",
        "from tensorflow.keras.metrics import Accuracy\n",
        "import keras as K\n",
        "from keras.layers import Dense,RepeatVector\n",
        "from keras.layers import Flatten\n",
        "from keras.layers import TimeDistributed\n",
        "from keras.layers.convolutional import Conv1D\n",
        "from keras.layers.convolutional import MaxPooling1D\n",
        "from keras.utils.vis_utils import plot_model\n",
        "import os"
      ],
      "execution_count": 72,
      "outputs": []
    },
    {
      "cell_type": "code",
      "metadata": {
        "id": "sJfaxEpqmMPR",
        "colab_type": "code",
        "colab": {}
      },
      "source": [
        "REL_FEATURES = [' _dewptm', ' _fog', ' _hail', ' _hum', ' _pressurem', ' _rain', ' _snow',\n",
        "                ' _thunder', ' _tornado', ' _vism', ' _wspdm', 'night', 'morning',\n",
        "                'noon', 'evening', 'month_cos', 'month_sin', 'hour_cos', 'hour_sin', 'week_cos', 'week_sin']\n",
        "LABEL = ['Temp']"
      ],
      "execution_count": 66,
      "outputs": []
    },
    {
      "cell_type": "markdown",
      "metadata": {
        "_uuid": "c16e438cf9e0db3f5e0f5138402be12cef4b898b",
        "id": "Puxjh5wkbFec",
        "colab_type": "text"
      },
      "source": [
        "# Time Series Forecast using LSTM"
      ]
    },
    {
      "cell_type": "code",
      "metadata": {
        "id": "Bh6Um0OFEPSL",
        "colab_type": "code",
        "colab": {}
      },
      "source": [
        "def df_train_test(model_name):\n",
        "    df_train = pd.read_csv(f'df_{model_name}_train.csv')\n",
        "    df_test = pd.read_csv(f'df_{model_name}_test.csv')\n",
        "    return df_train, df_test"
      ],
      "execution_count": 67,
      "outputs": []
    },
    {
      "cell_type": "code",
      "metadata": {
        "id": "phDMl04P7aKJ",
        "colab_type": "code",
        "colab": {}
      },
      "source": [
        "def main_func(model_name, rel_features=REL_FEATURES, label=LABEL, timestep=28):\n",
        "    df_train, df_test = df_train_test(model_name)\n",
        "\n",
        "    df_train.set_index('datetime', inplace= True)\n",
        "    df_test.set_index('datetime', inplace= True)\n",
        "\n",
        "    X_train = df_train[rel_features].values.astype('float32')\n",
        "    X_test = df_test[rel_features].values.astype('float32')\n",
        "\n",
        "    Y_train = df_train[label].values.astype('float32')\n",
        "    Y_test = df_test[label].values.astype('float32')\n",
        "\n",
        "    for j, df in enumerate([[X_train, Y_train], [X_test, Y_test]]):\n",
        "        x, y = df\n",
        "        X = []\n",
        "        Y = []\n",
        "\n",
        "        for i in range(len(x)- (timestep)):\n",
        "            X.append(x[i:i+timestep])\n",
        "            Y.append(y[i:i+timestep])\n",
        "\n",
        "        X = np.asanyarray(X)\n",
        "        Y = np.asanyarray(Y)\n",
        "\n",
        "        if j == 0:\n",
        "            X_train = X\n",
        "            Y_train = Y\n",
        "        else:\n",
        "            X_test = X\n",
        "            Y_test = Y\n",
        "\n",
        "    #the model\n",
        "    model = Sequential()\n",
        "    model.add(LSTM(128, return_sequences=True, activation='relu', input_shape=(timestep, len(REL_FEATURES))))\n",
        "    model.add(Dense(1))\n",
        "    model.compile(loss='mse', optimizer='adam', metrics=['accuracy'])\n",
        "    #model.compile(loss='mse', optimizer='adam', metrics=[accuracy_per_obs])\n",
        "    history = model.fit(X_train,Y_train, epochs=100, verbose=0, validation_data=(X_test, Y_test) )\n",
        "\n",
        "    preds_train = model.predict(X_train)\n",
        "    preds_test = model.predict(X_test)\n",
        "\n",
        "    preds_train = np.round(preds_train)\n",
        "    preds_test = np.round(preds_test)\n",
        "\n",
        "    mse_train = mean_squared_error(Y_train.ravel(), preds_train.ravel())\n",
        "    mse_test = mean_squared_error(Y_test.ravel(), preds_test.ravel())\n",
        "\n",
        "    acc_train = accuracy_score(Y_train.ravel(), preds_train.ravel())\n",
        "    acc_test = accuracy_score(Y_test.ravel(), preds_test.ravel())\n",
        "\n",
        "    print(f'MSE train: {mse_train}')\n",
        "    print(f'MSE test: {mse_test}')\n",
        "\n",
        "    print(f'Accuracy train: {acc_train}')\n",
        "    print(f'Accuracy test: {acc_test}')\n",
        "\n",
        "    \"\"\"plt.figure(figsize=(25,10))\n",
        "    plt.plot(Y_test.ravel(), 'blue', linewidth=0.1)\n",
        "    plt.plot(preds_test.ravel(),'r' , linewidth=0.1)\n",
        "    plt.legend(('Test','Predicted'))\n",
        "    plt.show()\"\"\"\n",
        "\n",
        "    try:\n",
        "        # summarize history for loss\n",
        "        plt.plot(history.history['loss'])\n",
        "        plt.plot(history.history['val_loss'])\n",
        "        plt.title(f'model {model_name} loss')\n",
        "        plt.ylabel('loss')\n",
        "        plt.xlabel('epoch')\n",
        "        plt.legend(['train', 'test'], loc='upper left')\n",
        "        plt.savefig(f'{model_name}_loss.png')\n",
        "        plt.close()\n",
        "    except:\n",
        "        pass\n",
        "\n",
        "    return mse_train, mse_test, acc_train, acc_test\n",
        "\n",
        "    \"\"\"# summarize history for accuracy\n",
        "    plt.plot(history.history['accuracy'])\n",
        "    plt.plot(history.history['val_accuracy'])\n",
        "    plt.title('model accuracy')\n",
        "    plt.ylabel('accuracy')\n",
        "    plt.xlabel('epoch')\n",
        "    plt.legend(['train', 'test'], loc='upper left')\n",
        "    plt.show()\"\"\""
      ],
      "execution_count": 68,
      "outputs": []
    },
    {
      "cell_type": "markdown",
      "metadata": {
        "_uuid": "cc6efdd208a04dd7f9dc51c8ea79dd12cad4c500",
        "id": "djWMPNtEbFfP",
        "colab_type": "text"
      },
      "source": [
        "<a id=\"1\"></a> <br>\n",
        "# **CNN-LSTM Model**"
      ]
    },
    {
      "cell_type": "code",
      "metadata": {
        "id": "jA6HBw1IOoOq",
        "colab_type": "code",
        "colab": {}
      },
      "source": [
        "data = {}\n",
        "\n",
        "for freq_range in [[str(i) for i in range(1, 13)],  # month\n",
        "                    ['autumn', 'winter', 'spring', 'monsoon', 'summer'],  # season\n",
        "                    ['full']]:  # full year\n",
        "    # all day\n",
        "    for freq_part in freq_range:\n",
        "        for day_part in ['all', 'night', 'morning', 'noon', 'evening']:\n",
        "            model_name = '_'.join([freq_part, day_part])\n",
        "            print(model_name)\n",
        "            if day_part != 'all':\n",
        "                mse_train, mse_test, acc_train, acc_test = main_func(model_name, timestep=7)\n",
        "            else:\n",
        "                mse_train, mse_test, acc_train, acc_test = main_func(model_name)\n",
        "            data[model_name] = [mse_train, mse_test, acc_train, acc_test]\n",
        "\n",
        "df = pd.DataFrame.from_dict(data, orient='index', columns=['mse_train', 'mse_test', 'acc_train', 'acc_test'])\n",
        "df.to_csv(r'results.csv', index = True)"
      ],
      "execution_count": null,
      "outputs": []
    },
    {
      "cell_type": "markdown",
      "metadata": {
        "id": "_Ox2owenpLyx",
        "colab_type": "text"
      },
      "source": [
        "#Analyze results"
      ]
    },
    {
      "cell_type": "code",
      "metadata": {
        "id": "NMBFfMIioygs",
        "colab_type": "code",
        "colab": {
          "base_uri": "https://localhost:8080/",
          "height": 424
        },
        "outputId": "dd1f74c6-cf53-4391-a0f3-824a8004352d"
      },
      "source": [
        "df"
      ],
      "execution_count": 74,
      "outputs": [
        {
          "output_type": "execute_result",
          "data": {
            "text/html": [
              "<div>\n",
              "<style scoped>\n",
              "    .dataframe tbody tr th:only-of-type {\n",
              "        vertical-align: middle;\n",
              "    }\n",
              "\n",
              "    .dataframe tbody tr th {\n",
              "        vertical-align: top;\n",
              "    }\n",
              "\n",
              "    .dataframe thead th {\n",
              "        text-align: right;\n",
              "    }\n",
              "</style>\n",
              "<table border=\"1\" class=\"dataframe\">\n",
              "  <thead>\n",
              "    <tr style=\"text-align: right;\">\n",
              "      <th></th>\n",
              "      <th>mse_train</th>\n",
              "      <th>mse_test</th>\n",
              "      <th>acc_train</th>\n",
              "      <th>acc_test</th>\n",
              "    </tr>\n",
              "  </thead>\n",
              "  <tbody>\n",
              "    <tr>\n",
              "      <th>1_all</th>\n",
              "      <td>0.083531</td>\n",
              "      <td>0.242560</td>\n",
              "      <td>0.917181</td>\n",
              "      <td>0.757440</td>\n",
              "    </tr>\n",
              "    <tr>\n",
              "      <th>1_night</th>\n",
              "      <td>0.202460</td>\n",
              "      <td>0.226190</td>\n",
              "      <td>0.804636</td>\n",
              "      <td>0.773810</td>\n",
              "    </tr>\n",
              "    <tr>\n",
              "      <th>1_morning</th>\n",
              "      <td>0.451827</td>\n",
              "      <td>0.613095</td>\n",
              "      <td>0.600854</td>\n",
              "      <td>0.529762</td>\n",
              "    </tr>\n",
              "    <tr>\n",
              "      <th>1_noon</th>\n",
              "      <td>0.480476</td>\n",
              "      <td>0.392857</td>\n",
              "      <td>0.575714</td>\n",
              "      <td>0.678571</td>\n",
              "    </tr>\n",
              "    <tr>\n",
              "      <th>1_evening</th>\n",
              "      <td>0.261509</td>\n",
              "      <td>0.273810</td>\n",
              "      <td>0.745610</td>\n",
              "      <td>0.726190</td>\n",
              "    </tr>\n",
              "    <tr>\n",
              "      <th>...</th>\n",
              "      <td>...</td>\n",
              "      <td>...</td>\n",
              "      <td>...</td>\n",
              "      <td>...</td>\n",
              "    </tr>\n",
              "    <tr>\n",
              "      <th>full_all</th>\n",
              "      <td>0.033941</td>\n",
              "      <td>0.269527</td>\n",
              "      <td>0.966838</td>\n",
              "      <td>0.745346</td>\n",
              "    </tr>\n",
              "    <tr>\n",
              "      <th>full_night</th>\n",
              "      <td>0.204343</td>\n",
              "      <td>0.241421</td>\n",
              "      <td>0.799317</td>\n",
              "      <td>0.762171</td>\n",
              "    </tr>\n",
              "    <tr>\n",
              "      <th>full_morning</th>\n",
              "      <td>0.284979</td>\n",
              "      <td>0.314205</td>\n",
              "      <td>0.728494</td>\n",
              "      <td>0.699037</td>\n",
              "    </tr>\n",
              "    <tr>\n",
              "      <th>full_noon</th>\n",
              "      <td>0.201110</td>\n",
              "      <td>0.246753</td>\n",
              "      <td>0.801460</td>\n",
              "      <td>0.760552</td>\n",
              "    </tr>\n",
              "    <tr>\n",
              "      <th>full_evening</th>\n",
              "      <td>0.094595</td>\n",
              "      <td>0.133361</td>\n",
              "      <td>0.905528</td>\n",
              "      <td>0.866639</td>\n",
              "    </tr>\n",
              "  </tbody>\n",
              "</table>\n",
              "<p>90 rows × 4 columns</p>\n",
              "</div>"
            ],
            "text/plain": [
              "              mse_train  mse_test  acc_train  acc_test\n",
              "1_all          0.083531  0.242560   0.917181  0.757440\n",
              "1_night        0.202460  0.226190   0.804636  0.773810\n",
              "1_morning      0.451827  0.613095   0.600854  0.529762\n",
              "1_noon         0.480476  0.392857   0.575714  0.678571\n",
              "1_evening      0.261509  0.273810   0.745610  0.726190\n",
              "...                 ...       ...        ...       ...\n",
              "full_all       0.033941  0.269527   0.966838  0.745346\n",
              "full_night     0.204343  0.241421   0.799317  0.762171\n",
              "full_morning   0.284979  0.314205   0.728494  0.699037\n",
              "full_noon      0.201110  0.246753   0.801460  0.760552\n",
              "full_evening   0.094595  0.133361   0.905528  0.866639\n",
              "\n",
              "[90 rows x 4 columns]"
            ]
          },
          "metadata": {
            "tags": []
          },
          "execution_count": 74
        }
      ]
    },
    {
      "cell_type": "code",
      "metadata": {
        "id": "wsuVTqAZpa4Q",
        "colab_type": "code",
        "colab": {}
      },
      "source": [
        ""
      ],
      "execution_count": null,
      "outputs": []
    },
    {
      "cell_type": "code",
      "metadata": {
        "id": "mGq6dxEpGkU3",
        "colab_type": "code",
        "colab": {}
      },
      "source": [
        "def accuracy_per_obs(y_true, y_pred):\n",
        "    print(np.add(y_true, 0))\n",
        "    y_true = y_true.flatten()\n",
        "    y_pred = y_pred.flatten()\n",
        "    \"\"\"y_true = tf.reshape(y_true, [len(y_true)])\n",
        "    y_pred = tf.reshape(y_pred, [len(y_true)])\n",
        "    return Accuracy().update_state(y_true, y_pred)\"\"\"\n",
        "    #return accuracy_score(y_true, y_pred)\n",
        "    return Accuracy(y_true, y_pred)"
      ],
      "execution_count": 70,
      "outputs": []
    },
    {
      "cell_type": "code",
      "metadata": {
        "id": "TdzA842QuuAl",
        "colab_type": "code",
        "colab": {
          "base_uri": "https://localhost:8080/",
          "height": 90
        },
        "outputId": "23bfafb7-f6d4-4157-8a09-a007e548393e"
      },
      "source": [
        "\"\"\"#too complicated\n",
        "model = Sequential()\n",
        "model.add(Conv1D(filters=256, kernel_size=2, activation='relu', input_shape=(len(REL_FEATURES),1)))\n",
        "model.add(Conv1D(filters=128, kernel_size=2, activation='relu'))\n",
        "model.add(MaxPooling1D(pool_size=2))\n",
        "model.add(Flatten())\n",
        "model.add(RepeatVector(30))\n",
        "model.add(LSTM(128, activation='relu'))\n",
        "model.add(Dense(100, activation='relu'))\n",
        "model.add(Dense(1))\n",
        "model.compile(loss='mse', optimizer='adam')\n",
        "model.fit(X_train,Y_train,epochs=50, verbose=0 )\"\"\""
      ],
      "execution_count": 71,
      "outputs": [
        {
          "output_type": "execute_result",
          "data": {
            "application/vnd.google.colaboratory.intrinsic+json": {
              "type": "string"
            },
            "text/plain": [
              "\"#too complicated\\nmodel = Sequential()\\nmodel.add(Conv1D(filters=256, kernel_size=2, activation='relu', input_shape=(len(REL_FEATURES),1)))\\nmodel.add(Conv1D(filters=128, kernel_size=2, activation='relu'))\\nmodel.add(MaxPooling1D(pool_size=2))\\nmodel.add(Flatten())\\nmodel.add(RepeatVector(30))\\nmodel.add(LSTM(128, activation='relu'))\\nmodel.add(Dense(100, activation='relu'))\\nmodel.add(Dense(1))\\nmodel.compile(loss='mse', optimizer='adam')\\nmodel.fit(X_train,Y_train,epochs=50, verbose=0 )\""
            ]
          },
          "metadata": {
            "tags": []
          },
          "execution_count": 71
        }
      ]
    },
    {
      "cell_type": "code",
      "metadata": {
        "id": "8enWF94VmNGx",
        "colab_type": "code",
        "colab": {}
      },
      "source": [
        "\"\"\"from google.colab import files\n",
        "for freq_range in [[str(i) for i in range(1, 13)],  # month\n",
        "                    ['autumn', 'winter', 'spring', 'monsoon', 'summer'],  # season\n",
        "                    ['full']]:  # full year\n",
        "    # all day\n",
        "    for freq_part in freq_range:\n",
        "        for day_part in ['all', 'night', 'morning', 'noon', 'evening']:\n",
        "            model_name = '_'.join([freq_part, day_part])\n",
        "            print(model_name)\n",
        "            f = f'{model_name}_loss.png'\n",
        "            files.download(f)\n",
        "files.download('results.csv')\"\"\""
      ],
      "execution_count": null,
      "outputs": []
    }
  ]
}