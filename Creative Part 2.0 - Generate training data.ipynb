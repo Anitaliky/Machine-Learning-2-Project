{
 "cells": [
  {
   "cell_type": "code",
   "execution_count": 32,
   "metadata": {},
   "outputs": [],
   "source": [
    "import pandas as pd\n",
    "import sklearn\n",
    "import numpy as np\n",
    "import matplotlib.pyplot as plt\n",
    "from datetime import datetime\n",
    "from sklearn.metrics import recall_score, precision_score, f1_score\n",
    "from sklearn.preprocessing import MinMaxScaler\n",
    "from hmmlearn import hmm\n",
    "import copy\n",
    "import time\n",
    "import math"
   ]
  },
  {
   "cell_type": "code",
   "execution_count": 33,
   "metadata": {},
   "outputs": [],
   "source": [
    "def Generate_train(path, real_years):\n",
    "    df_train = pd.read_csv(\"Weather_Data/\"+path.format('train'))\n",
    "    \n",
    "    #df_test = pd.read_csv(\"Weather_Data/\"+path.format('test'))\n",
    "    columns_to_hmm = [' _dewptm_bars', ' _fog', ' _hail', ' _hum_bars', ' _pressurem_bars',' _rain', ' _snow', ' _thunder', ' _tornado', ' _vism_bars', ' _wspdm_bars', 'Temp']\n",
    "    other_columns = ['datetime','year','month','week','day','night','morning','noon','evening', 'season_summer', 'season_winter', 'season_spring', 'season_monsoon', 'season_autumn', 'month_cos', 'month_sin', 'week_cos', 'week_sin']\n",
    "    #results = pd.DataFrame(df_train['Temp'].tolist(), columns = ['Temp'])\n",
    "    results = pd.DataFrame()\n",
    "    \n",
    "    for c in other_columns:\n",
    "        c_list = df_train.loc[df_train['year'] >= (2010 - real_years)][c]\n",
    "        c_list = c_list.tolist()\n",
    "        c_list = np.array(c_list)\n",
    "        results[c] = c_list\n",
    "        columns = df_train.columns\n",
    "    for c in columns_to_hmm:\n",
    "#         if c == ' _pressurem_bars':\n",
    "#             continue\n",
    "        print('column',c)        \n",
    "        #values_list = df_train[c].tolist()\n",
    "        #len_all_column = len(values_list)\n",
    "        data_to_hmm = df_train.loc[df_train['year'] >= (2010 - real_years)][c]\n",
    "        #print(data_to_hmm)\n",
    "        data_to_hmm = data_to_hmm.tolist()\n",
    "        len_data_to_hmm = len(data_to_hmm)\n",
    "        last_value = data_to_hmm[-1]\n",
    "        if last_value not in (data_to_hmm[:-1]):\n",
    "            print('basa but not too bad')\n",
    "            data_to_hmm = data_to_hmm[:-1]\n",
    "        #print(values_list)\n",
    "        num_of_unique_states = len(set(data_to_hmm))\n",
    "        #print('unique',num_of_uinque_states)\n",
    "        #last_value = values_list[-1]\n",
    "        #print(values_list)\n",
    "        values_list = [[v] for v in data_to_hmm]\n",
    "        #print(values_list)\n",
    "        model = hmm.GaussianHMM(n_components=num_of_unique_states, covariance_type=\"full\")\n",
    "        model.fit(values_list)\n",
    "        #print (model.startprob_)\n",
    "        #print(data_to_hmm[0])\n",
    "        #model.startprob_ = find_start_state(model,last_value,num_of_uinque_states)\n",
    "        #print(df_test[c].size)\n",
    "        X, Z = model.sample(len_data_to_hmm)\n",
    "        X = [item for sublist in X for item in sublist]\n",
    "        X = np.round(X)\n",
    "        #if X[0] != data_to_hmm[0]:\n",
    "        #    print('X',X[0])\n",
    "        #    print(data_to_hmm[0])\n",
    "        #print(len(X))\n",
    "        #print(type(X))\n",
    "        #print(type(data_to_hmm))\n",
    "        results[c] = list(X)\n",
    "    results.to_csv('CP_2.0_training_generated/CP_'+str(real_years)+path.format('train'))\n",
    "    #results.to_csv('CP_2.0_try.csv')\n",
    "    print('saved to', 'CP__2.0_training_generated/CP_'+str(real_years)+path.format('train'))"
   ]
  },
  {
   "cell_type": "code",
   "execution_count": 35,
   "metadata": {},
   "outputs": [
    {
     "name": "stderr",
     "output_type": "stream",
     "text": [
      "Fitting a model with 322 free scalar parameters with only 152 data points will result in a degenerate solution.\n"
     ]
    },
    {
     "name": "stdout",
     "output_type": "stream",
     "text": [
      "\n",
      "df_autumn_night_{}.csv\n",
      "column  _dewptm_bars\n",
      "column  _fog\n"
     ]
    },
    {
     "name": "stderr",
     "output_type": "stream",
     "text": [
      "Fitting a model with 194 free scalar parameters with only 152 data points will result in a degenerate solution.\n",
      "Fitting a model with 223 free scalar parameters with only 152 data points will result in a degenerate solution.\n"
     ]
    },
    {
     "name": "stdout",
     "output_type": "stream",
     "text": [
      "column  _hail\n",
      "column  _hum_bars\n",
      "column  _pressurem_bars\n",
      "column  _rain\n",
      "column  _snow\n",
      "column  _thunder\n",
      "column  _tornado\n",
      "column  _vism_bars\n",
      "column  _wspdm_bars\n"
     ]
    },
    {
     "name": "stderr",
     "output_type": "stream",
     "text": [
      "Fitting a model with 322 free scalar parameters with only 303 data points will result in a degenerate solution.\n"
     ]
    },
    {
     "name": "stdout",
     "output_type": "stream",
     "text": [
      "column Temp\n",
      "saved to CP__2.0_training_generated/CP_2df_autumn_night_train.csv\n",
      "\n",
      "df_autumn_night_{}.csv\n",
      "column  _dewptm_bars\n",
      "column  _fog\n",
      "column  _hail\n",
      "column  _hum_bars\n",
      "column  _pressurem_bars\n",
      "column  _rain\n",
      "column  _snow\n",
      "column  _thunder\n",
      "column  _tornado\n",
      "column  _vism_bars\n",
      "column  _wspdm_bars\n",
      "column Temp\n",
      "saved to CP__2.0_training_generated/CP_4df_autumn_night_train.csv\n",
      "\n",
      "df_autumn_night_{}.csv\n",
      "column  _dewptm_bars\n",
      "column  _fog\n",
      "column  _hail\n",
      "column  _hum_bars\n",
      "column  _pressurem_bars\n",
      "column  _rain\n",
      "column  _snow\n",
      "column  _thunder\n",
      "column  _tornado\n",
      "column  _vism_bars\n",
      "column  _wspdm_bars\n",
      "column Temp\n",
      "saved to CP__2.0_training_generated/CP_6df_autumn_night_train.csv\n",
      "\n",
      "df_autumn_night_{}.csv\n",
      "column  _dewptm_bars\n",
      "column  _fog\n",
      "column  _hail\n",
      "column  _hum_bars\n",
      "column  _pressurem_bars\n",
      "column  _rain\n",
      "column  _snow\n",
      "column  _thunder\n",
      "column  _tornado\n",
      "column  _vism_bars\n",
      "column  _wspdm_bars\n",
      "column Temp\n",
      "saved to CP__2.0_training_generated/CP_8df_autumn_night_train.csv\n",
      "\n",
      "df_autumn_night_{}.csv\n",
      "column  _dewptm_bars\n",
      "column  _fog\n",
      "column  _hail\n",
      "column  _hum_bars\n",
      "column  _pressurem_bars\n",
      "column  _rain\n",
      "column  _snow\n",
      "column  _thunder\n",
      "column  _tornado\n",
      "column  _vism_bars\n",
      "column  _wspdm_bars\n",
      "column Temp\n"
     ]
    },
    {
     "name": "stderr",
     "output_type": "stream",
     "text": [
      "Fitting a model with 398 free scalar parameters with only 151 data points will result in a degenerate solution.\n"
     ]
    },
    {
     "name": "stdout",
     "output_type": "stream",
     "text": [
      "saved to CP__2.0_training_generated/CP_10df_autumn_night_train.csv\n",
      "\n",
      "df_autumn_morning_{}.csv\n",
      "column  _dewptm_bars\n"
     ]
    },
    {
     "name": "stderr",
     "output_type": "stream",
     "text": [
      "Fitting a model with 322 free scalar parameters with only 151 data points will result in a degenerate solution.\n"
     ]
    },
    {
     "name": "stdout",
     "output_type": "stream",
     "text": [
      "column  _fog\n",
      "column  _hail\n",
      "column  _hum_bars\n"
     ]
    },
    {
     "name": "stderr",
     "output_type": "stream",
     "text": [
      "Fitting a model with 254 free scalar parameters with only 151 data points will result in a degenerate solution.\n"
     ]
    },
    {
     "name": "stdout",
     "output_type": "stream",
     "text": [
      "column  _pressurem_bars\n",
      "column  _rain\n",
      "column  _snow\n"
     ]
    },
    {
     "name": "stderr",
     "output_type": "stream",
     "text": [
      "Fitting a model with 398 free scalar parameters with only 151 data points will result in a degenerate solution.\n"
     ]
    },
    {
     "name": "stdout",
     "output_type": "stream",
     "text": [
      "column  _thunder\n",
      "column  _tornado\n",
      "column  _vism_bars\n",
      "column  _wspdm_bars\n"
     ]
    },
    {
     "name": "stderr",
     "output_type": "stream",
     "text": [
      "Fitting a model with 398 free scalar parameters with only 302 data points will result in a degenerate solution.\n"
     ]
    },
    {
     "name": "stdout",
     "output_type": "stream",
     "text": [
      "column Temp\n",
      "saved to CP__2.0_training_generated/CP_2df_autumn_morning_train.csv\n",
      "\n",
      "df_autumn_morning_{}.csv\n",
      "column  _dewptm_bars\n"
     ]
    },
    {
     "name": "stderr",
     "output_type": "stream",
     "text": [
      "Fitting a model with 398 free scalar parameters with only 302 data points will result in a degenerate solution.\n"
     ]
    },
    {
     "name": "stdout",
     "output_type": "stream",
     "text": [
      "column  _fog\n",
      "column  _hail\n",
      "column  _hum_bars\n",
      "column  _pressurem_bars\n",
      "column  _rain\n",
      "column  _snow\n",
      "column  _thunder\n",
      "column  _tornado\n",
      "column  _vism_bars\n"
     ]
    },
    {
     "name": "stderr",
     "output_type": "stream",
     "text": [
      "Fitting a model with 398 free scalar parameters with only 302 data points will result in a degenerate solution.\n"
     ]
    },
    {
     "name": "stdout",
     "output_type": "stream",
     "text": [
      "column  _wspdm_bars\n",
      "column Temp\n",
      "saved to CP__2.0_training_generated/CP_4df_autumn_morning_train.csv\n",
      "\n",
      "df_autumn_morning_{}.csv\n",
      "column  _dewptm_bars\n",
      "column  _fog\n",
      "column  _hail\n",
      "column  _hum_bars\n",
      "column  _pressurem_bars\n",
      "column  _rain\n",
      "column  _snow\n",
      "column  _thunder\n",
      "column  _tornado\n",
      "column  _vism_bars\n",
      "column  _wspdm_bars\n",
      "column Temp\n",
      "saved to CP__2.0_training_generated/CP_6df_autumn_morning_train.csv\n",
      "\n",
      "df_autumn_morning_{}.csv\n",
      "column  _dewptm_bars\n",
      "column  _fog\n",
      "column  _hail\n",
      "column  _hum_bars\n",
      "column  _pressurem_bars\n",
      "column  _rain\n",
      "column  _snow\n",
      "column  _thunder\n",
      "column  _tornado\n",
      "column  _vism_bars\n",
      "column  _wspdm_bars\n",
      "column Temp\n",
      "saved to CP__2.0_training_generated/CP_8df_autumn_morning_train.csv\n",
      "\n",
      "df_autumn_morning_{}.csv\n",
      "column  _dewptm_bars\n",
      "column  _fog\n",
      "column  _hail\n",
      "column  _hum_bars\n",
      "column  _pressurem_bars\n",
      "column  _rain\n",
      "column  _snow\n",
      "column  _thunder\n",
      "column  _tornado\n",
      "column  _vism_bars\n",
      "column  _wspdm_bars\n",
      "column Temp\n",
      "saved to CP__2.0_training_generated/CP_10df_autumn_morning_train.csv\n",
      "\n",
      "df_autumn_noon_{}.csv\n"
     ]
    },
    {
     "name": "stderr",
     "output_type": "stream",
     "text": [
      "Fitting a model with 322 free scalar parameters with only 152 data points will result in a degenerate solution.\n"
     ]
    },
    {
     "name": "stdout",
     "output_type": "stream",
     "text": [
      "column  _dewptm_bars\n",
      "column  _fog\n",
      "column  _hail\n",
      "column  _hum_bars\n"
     ]
    },
    {
     "name": "stderr",
     "output_type": "stream",
     "text": [
      "Fitting a model with 287 free scalar parameters with only 152 data points will result in a degenerate solution.\n",
      "Fitting a model with 322 free scalar parameters with only 152 data points will result in a degenerate solution.\n"
     ]
    },
    {
     "name": "stdout",
     "output_type": "stream",
     "text": [
      "column  _pressurem_bars\n",
      "column  _rain\n",
      "column  _snow\n",
      "column  _thunder\n",
      "column  _tornado\n",
      "column  _vism_bars\n",
      "column  _wspdm_bars\n",
      "column Temp\n",
      "saved to CP__2.0_training_generated/CP_2df_autumn_noon_train.csv\n",
      "\n",
      "df_autumn_noon_{}.csv\n"
     ]
    },
    {
     "name": "stderr",
     "output_type": "stream",
     "text": [
      "Fitting a model with 359 free scalar parameters with only 303 data points will result in a degenerate solution.\n"
     ]
    },
    {
     "name": "stdout",
     "output_type": "stream",
     "text": [
      "column  _dewptm_bars\n",
      "column  _fog\n"
     ]
    },
    {
     "name": "stderr",
     "output_type": "stream",
     "text": [
      "Fitting a model with 322 free scalar parameters with only 303 data points will result in a degenerate solution.\n"
     ]
    },
    {
     "name": "stdout",
     "output_type": "stream",
     "text": [
      "column  _hail\n",
      "column  _hum_bars\n"
     ]
    },
    {
     "name": "stderr",
     "output_type": "stream",
     "text": [
      "Fitting a model with 322 free scalar parameters with only 303 data points will result in a degenerate solution.\n"
     ]
    },
    {
     "name": "stdout",
     "output_type": "stream",
     "text": [
      "column  _pressurem_bars\n",
      "column  _rain\n",
      "column  _snow\n",
      "column  _thunder\n",
      "column  _tornado\n",
      "column  _vism_bars\n",
      "column  _wspdm_bars\n",
      "column Temp\n",
      "saved to CP__2.0_training_generated/CP_4df_autumn_noon_train.csv\n",
      "\n",
      "df_autumn_noon_{}.csv\n",
      "column  _dewptm_bars\n",
      "column  _fog\n",
      "column  _hail\n",
      "column  _hum_bars\n",
      "column  _pressurem_bars\n",
      "column  _rain\n",
      "column  _snow\n",
      "column  _thunder\n",
      "column  _tornado\n",
      "column  _vism_bars\n",
      "column  _wspdm_bars\n",
      "column Temp\n",
      "saved to CP__2.0_training_generated/CP_6df_autumn_noon_train.csv\n",
      "\n",
      "df_autumn_noon_{}.csv\n",
      "column  _dewptm_bars\n",
      "column  _fog\n",
      "column  _hail\n",
      "column  _hum_bars\n",
      "column  _pressurem_bars\n",
      "column  _rain\n",
      "column  _snow\n",
      "column  _thunder\n",
      "column  _tornado\n",
      "column  _vism_bars\n",
      "column  _wspdm_bars\n",
      "column Temp\n",
      "saved to CP__2.0_training_generated/CP_8df_autumn_noon_train.csv\n",
      "\n",
      "df_autumn_noon_{}.csv\n",
      "column  _dewptm_bars\n",
      "column  _fog\n",
      "column  _hail\n",
      "column  _hum_bars\n",
      "column  _pressurem_bars\n",
      "column  _rain\n",
      "column  _snow\n",
      "column  _thunder\n",
      "column  _tornado\n",
      "column  _vism_bars\n",
      "column  _wspdm_bars\n",
      "column Temp\n"
     ]
    },
    {
     "name": "stderr",
     "output_type": "stream",
     "text": [
      "Fitting a model with 322 free scalar parameters with only 152 data points will result in a degenerate solution.\n"
     ]
    },
    {
     "name": "stdout",
     "output_type": "stream",
     "text": [
      "saved to CP__2.0_training_generated/CP_10df_autumn_noon_train.csv\n",
      "\n",
      "df_autumn_evening_{}.csv\n",
      "column  _dewptm_bars\n",
      "column  _fog\n",
      "column  _hail\n"
     ]
    },
    {
     "name": "stderr",
     "output_type": "stream",
     "text": [
      "Fitting a model with 194 free scalar parameters with only 152 data points will result in a degenerate solution.\n",
      "Fitting a model with 254 free scalar parameters with only 152 data points will result in a degenerate solution.\n"
     ]
    },
    {
     "name": "stdout",
     "output_type": "stream",
     "text": [
      "column  _hum_bars\n",
      "column  _pressurem_bars\n",
      "column  _rain\n",
      "column  _snow\n",
      "column  _thunder\n",
      "column  _tornado\n",
      "column  _vism_bars\n",
      "column  _wspdm_bars\n"
     ]
    },
    {
     "name": "stderr",
     "output_type": "stream",
     "text": [
      "Fitting a model with 322 free scalar parameters with only 301 data points will result in a degenerate solution.\n"
     ]
    },
    {
     "name": "stdout",
     "output_type": "stream",
     "text": [
      "column Temp\n",
      "saved to CP__2.0_training_generated/CP_2df_autumn_evening_train.csv\n",
      "\n",
      "df_autumn_evening_{}.csv\n",
      "column  _dewptm_bars\n",
      "column  _fog\n",
      "column  _hail\n",
      "column  _hum_bars\n",
      "column  _pressurem_bars\n",
      "column  _rain\n",
      "column  _snow\n",
      "column  _thunder\n",
      "column  _tornado\n",
      "column  _vism_bars\n",
      "column  _wspdm_bars\n",
      "column Temp\n",
      "saved to CP__2.0_training_generated/CP_4df_autumn_evening_train.csv\n",
      "\n",
      "df_autumn_evening_{}.csv\n",
      "column  _dewptm_bars\n",
      "column  _fog\n",
      "column  _hail\n",
      "column  _hum_bars\n",
      "column  _pressurem_bars\n",
      "column  _rain\n",
      "column  _snow\n",
      "column  _thunder\n",
      "column  _tornado\n",
      "column  _vism_bars\n",
      "column  _wspdm_bars\n",
      "column Temp\n",
      "saved to CP__2.0_training_generated/CP_6df_autumn_evening_train.csv\n",
      "\n",
      "df_autumn_evening_{}.csv\n",
      "column  _dewptm_bars\n",
      "column  _fog\n",
      "column  _hail\n",
      "column  _hum_bars\n",
      "column  _pressurem_bars\n",
      "column  _rain\n",
      "column  _snow\n",
      "column  _thunder\n",
      "column  _tornado\n",
      "column  _vism_bars\n",
      "column  _wspdm_bars\n",
      "column Temp\n",
      "saved to CP__2.0_training_generated/CP_8df_autumn_evening_train.csv\n",
      "\n",
      "df_autumn_evening_{}.csv\n",
      "column  _dewptm_bars\n",
      "column  _fog\n",
      "column  _hail\n",
      "column  _hum_bars\n",
      "column  _pressurem_bars\n",
      "column  _rain\n",
      "column  _snow\n",
      "column  _thunder\n",
      "column  _tornado\n",
      "column  _vism_bars\n",
      "column  _wspdm_bars\n",
      "column Temp\n",
      "saved to CP__2.0_training_generated/CP_10df_autumn_evening_train.csv\n",
      "\n",
      "df_winter_night_{}.csv\n"
     ]
    },
    {
     "name": "stderr",
     "output_type": "stream",
     "text": [
      "Fitting a model with 167 free scalar parameters with only 124 data points will result in a degenerate solution.\n"
     ]
    },
    {
     "name": "stdout",
     "output_type": "stream",
     "text": [
      "column  _dewptm_bars\n",
      "column  _fog\n",
      "column  _hail\n",
      "column  _hum_bars\n",
      "column  _pressurem_bars\n",
      "column  _rain\n",
      "column  _snow\n",
      "column  _thunder\n",
      "column  _tornado\n",
      "column  _vism_bars\n",
      "column  _wspdm_bars\n",
      "column Temp\n",
      "saved to CP__2.0_training_generated/CP_2df_winter_night_train.csv\n",
      "\n",
      "df_winter_night_{}.csv\n",
      "column  _dewptm_bars\n",
      "column  _fog\n",
      "column  _hail\n",
      "column  _hum_bars\n",
      "column  _pressurem_bars\n",
      "column  _rain\n",
      "column  _snow\n",
      "column  _thunder\n",
      "column  _tornado\n",
      "column  _vism_bars\n",
      "column  _wspdm_bars\n",
      "column Temp\n",
      "saved to CP__2.0_training_generated/CP_4df_winter_night_train.csv\n",
      "\n",
      "df_winter_night_{}.csv\n",
      "column  _dewptm_bars\n",
      "column  _fog\n",
      "column  _hail\n",
      "column  _hum_bars\n",
      "column  _pressurem_bars\n",
      "column  _rain\n",
      "column  _snow\n",
      "column  _thunder\n",
      "column  _tornado\n",
      "column  _vism_bars\n",
      "column  _wspdm_bars\n",
      "column Temp\n",
      "saved to CP__2.0_training_generated/CP_6df_winter_night_train.csv\n",
      "\n",
      "df_winter_night_{}.csv\n",
      "column  _dewptm_bars\n",
      "column  _fog\n",
      "column  _hail\n",
      "column  _hum_bars\n",
      "column  _pressurem_bars\n",
      "column  _rain\n",
      "column  _snow\n",
      "column  _thunder\n",
      "column  _tornado\n",
      "column  _vism_bars\n",
      "column  _wspdm_bars\n",
      "column Temp\n",
      "saved to CP__2.0_training_generated/CP_8df_winter_night_train.csv\n",
      "\n",
      "df_winter_night_{}.csv\n",
      "column  _dewptm_bars\n",
      "column  _fog\n",
      "column  _hail\n",
      "column  _hum_bars\n",
      "column  _pressurem_bars\n",
      "column  _rain\n",
      "column  _snow\n",
      "column  _thunder\n",
      "column  _tornado\n",
      "column  _vism_bars\n",
      "column  _wspdm_bars\n",
      "column Temp\n",
      "saved to CP__2.0_training_generated/CP_10df_winter_night_train.csv\n",
      "\n",
      "df_winter_morning_{}.csv\n"
     ]
    },
    {
     "name": "stderr",
     "output_type": "stream",
     "text": [
      "Fitting a model with 223 free scalar parameters with only 124 data points will result in a degenerate solution.\n",
      "Fitting a model with 439 free scalar parameters with only 124 data points will result in a degenerate solution.\n"
     ]
    },
    {
     "name": "stdout",
     "output_type": "stream",
     "text": [
      "column  _dewptm_bars\n",
      "column  _fog\n",
      "column  _hail\n",
      "column  _hum_bars\n",
      "column  _pressurem_bars\n",
      "column  _rain\n",
      "column  _snow\n",
      "column  _thunder\n",
      "column  _tornado\n",
      "column  _vism_bars\n"
     ]
    },
    {
     "name": "stderr",
     "output_type": "stream",
     "text": [
      "Fitting a model with 398 free scalar parameters with only 124 data points will result in a degenerate solution.\n"
     ]
    },
    {
     "name": "stdout",
     "output_type": "stream",
     "text": [
      "column  _wspdm_bars\n",
      "column Temp\n",
      "saved to CP__2.0_training_generated/CP_2df_winter_morning_train.csv\n",
      "\n",
      "df_winter_morning_{}.csv\n",
      "column  _dewptm_bars\n",
      "column  _fog\n",
      "column  _hail\n"
     ]
    },
    {
     "name": "stderr",
     "output_type": "stream",
     "text": [
      "Fitting a model with 439 free scalar parameters with only 248 data points will result in a degenerate solution.\n"
     ]
    },
    {
     "name": "stdout",
     "output_type": "stream",
     "text": [
      "column  _hum_bars\n",
      "column  _pressurem_bars\n",
      "column  _rain\n",
      "column  _snow\n",
      "column  _thunder\n"
     ]
    },
    {
     "name": "stderr",
     "output_type": "stream",
     "text": [
      "Fitting a model with 398 free scalar parameters with only 248 data points will result in a degenerate solution.\n"
     ]
    },
    {
     "name": "stdout",
     "output_type": "stream",
     "text": [
      "column  _tornado\n",
      "column  _vism_bars\n",
      "column  _wspdm_bars\n",
      "column Temp\n",
      "saved to CP__2.0_training_generated/CP_4df_winter_morning_train.csv\n",
      "\n",
      "df_winter_morning_{}.csv\n",
      "column  _dewptm_bars\n"
     ]
    },
    {
     "name": "stderr",
     "output_type": "stream",
     "text": [
      "Fitting a model with 439 free scalar parameters with only 372 data points will result in a degenerate solution.\n"
     ]
    },
    {
     "name": "stdout",
     "output_type": "stream",
     "text": [
      "column  _fog\n",
      "column  _hail\n",
      "column  _hum_bars\n",
      "column  _pressurem_bars\n",
      "column  _rain\n",
      "column  _snow\n",
      "column  _thunder\n",
      "column  _tornado\n",
      "column  _vism_bars\n"
     ]
    },
    {
     "name": "stderr",
     "output_type": "stream",
     "text": [
      "Fitting a model with 398 free scalar parameters with only 372 data points will result in a degenerate solution.\n"
     ]
    },
    {
     "name": "stdout",
     "output_type": "stream",
     "text": [
      "column  _wspdm_bars\n",
      "column Temp\n",
      "saved to CP__2.0_training_generated/CP_6df_winter_morning_train.csv\n",
      "\n",
      "df_winter_morning_{}.csv\n",
      "column  _dewptm_bars\n",
      "column  _fog\n",
      "column  _hail\n",
      "column  _hum_bars\n",
      "column  _pressurem_bars\n",
      "column  _rain\n",
      "column  _snow\n",
      "column  _thunder\n",
      "column  _tornado\n",
      "column  _vism_bars\n",
      "column  _wspdm_bars\n",
      "column Temp\n",
      "saved to CP__2.0_training_generated/CP_8df_winter_morning_train.csv\n",
      "\n",
      "df_winter_morning_{}.csv\n",
      "column  _dewptm_bars\n",
      "column  _fog\n",
      "column  _hail\n",
      "column  _hum_bars\n",
      "column  _pressurem_bars\n",
      "column  _rain\n",
      "column  _snow\n",
      "column  _thunder\n",
      "column  _tornado\n",
      "column  _vism_bars\n",
      "column  _wspdm_bars\n",
      "column Temp\n",
      "saved to CP__2.0_training_generated/CP_10df_winter_morning_train.csv\n",
      "\n",
      "df_winter_noon_{}.csv\n"
     ]
    },
    {
     "name": "stderr",
     "output_type": "stream",
     "text": [
      "Fitting a model with 194 free scalar parameters with only 124 data points will result in a degenerate solution.\n",
      "Fitting a model with 287 free scalar parameters with only 124 data points will result in a degenerate solution.\n"
     ]
    },
    {
     "name": "stdout",
     "output_type": "stream",
     "text": [
      "column  _dewptm_bars\n",
      "column  _fog\n",
      "column  _hail\n",
      "column  _hum_bars\n"
     ]
    },
    {
     "name": "stderr",
     "output_type": "stream",
     "text": [
      "Fitting a model with 254 free scalar parameters with only 124 data points will result in a degenerate solution.\n"
     ]
    },
    {
     "name": "stdout",
     "output_type": "stream",
     "text": [
      "column  _pressurem_bars\n",
      "column  _rain\n",
      "column  _snow\n",
      "column  _thunder\n",
      "column  _tornado\n",
      "column  _vism_bars\n",
      "column  _wspdm_bars\n",
      "column Temp\n",
      "saved to CP__2.0_training_generated/CP_2df_winter_noon_train.csv\n",
      "\n",
      "df_winter_noon_{}.csv\n",
      "column  _dewptm_bars\n"
     ]
    },
    {
     "name": "stderr",
     "output_type": "stream",
     "text": [
      "Fitting a model with 359 free scalar parameters with only 247 data points will result in a degenerate solution.\n"
     ]
    },
    {
     "name": "stdout",
     "output_type": "stream",
     "text": [
      "column  _fog\n",
      "column  _hail\n",
      "column  _hum_bars\n",
      "column  _pressurem_bars\n",
      "column  _rain\n",
      "column  _snow\n",
      "column  _thunder\n"
     ]
    },
    {
     "name": "stderr",
     "output_type": "stream",
     "text": [
      "Fitting a model with 287 free scalar parameters with only 247 data points will result in a degenerate solution.\n"
     ]
    },
    {
     "name": "stdout",
     "output_type": "stream",
     "text": [
      "column  _tornado\n",
      "column  _vism_bars\n",
      "column  _wspdm_bars\n",
      "column Temp\n",
      "saved to CP__2.0_training_generated/CP_4df_winter_noon_train.csv\n",
      "\n",
      "df_winter_noon_{}.csv\n",
      "column  _dewptm_bars\n"
     ]
    },
    {
     "name": "stderr",
     "output_type": "stream",
     "text": [
      "Fitting a model with 398 free scalar parameters with only 371 data points will result in a degenerate solution.\n"
     ]
    },
    {
     "name": "stdout",
     "output_type": "stream",
     "text": [
      "column  _fog\n",
      "column  _hail\n",
      "column  _hum_bars\n",
      "column  _pressurem_bars\n",
      "column  _rain\n",
      "column  _snow\n"
     ]
    },
    {
     "name": "stderr",
     "output_type": "stream",
     "text": [
      "Fitting a model with 398 free scalar parameters with only 371 data points will result in a degenerate solution.\n"
     ]
    },
    {
     "name": "stdout",
     "output_type": "stream",
     "text": [
      "column  _thunder\n",
      "column  _tornado\n",
      "column  _vism_bars\n",
      "column  _wspdm_bars\n",
      "column Temp\n",
      "saved to CP__2.0_training_generated/CP_6df_winter_noon_train.csv\n",
      "\n",
      "df_winter_noon_{}.csv\n",
      "column  _dewptm_bars\n",
      "column  _fog\n",
      "column  _hail\n",
      "column  _hum_bars\n",
      "column  _pressurem_bars\n",
      "column  _rain\n",
      "column  _snow\n",
      "column  _thunder\n",
      "column  _tornado\n",
      "column  _vism_bars\n",
      "column  _wspdm_bars\n",
      "column Temp\n",
      "saved to CP__2.0_training_generated/CP_8df_winter_noon_train.csv\n",
      "\n",
      "df_winter_noon_{}.csv\n",
      "column  _dewptm_bars\n",
      "column  _fog\n",
      "column  _hail\n",
      "column  _hum_bars\n",
      "column  _pressurem_bars\n",
      "column  _rain\n",
      "column  _snow\n",
      "column  _thunder\n",
      "column  _tornado\n",
      "column  _vism_bars\n",
      "column  _wspdm_bars\n",
      "column Temp\n",
      "saved to CP__2.0_training_generated/CP_10df_winter_noon_train.csv\n",
      "\n",
      "df_winter_evening_{}.csv\n"
     ]
    },
    {
     "name": "stderr",
     "output_type": "stream",
     "text": [
      "Fitting a model with 167 free scalar parameters with only 123 data points will result in a degenerate solution.\n",
      "Fitting a model with 142 free scalar parameters with only 123 data points will result in a degenerate solution.\n"
     ]
    },
    {
     "name": "stdout",
     "output_type": "stream",
     "text": [
      "column  _dewptm_bars\n",
      "column  _fog\n",
      "column  _hail\n",
      "column  _hum_bars\n",
      "column  _pressurem_bars\n",
      "column  _rain\n",
      "column  _snow\n",
      "column  _thunder\n",
      "column  _tornado\n",
      "column  _vism_bars\n",
      "column  _wspdm_bars\n",
      "column Temp\n",
      "saved to CP__2.0_training_generated/CP_2df_winter_evening_train.csv\n",
      "\n",
      "df_winter_evening_{}.csv\n",
      "column  _dewptm_bars\n",
      "column  _fog\n",
      "column  _hail\n",
      "column  _hum_bars\n",
      "column  _pressurem_bars\n",
      "column  _rain\n",
      "column  _snow\n",
      "column  _thunder\n",
      "column  _tornado\n",
      "column  _vism_bars\n",
      "column  _wspdm_bars\n",
      "column Temp\n",
      "saved to CP__2.0_training_generated/CP_4df_winter_evening_train.csv\n",
      "\n",
      "df_winter_evening_{}.csv\n",
      "column  _dewptm_bars\n",
      "column  _fog\n",
      "column  _hail\n",
      "column  _hum_bars\n",
      "column  _pressurem_bars\n",
      "column  _rain\n",
      "column  _snow\n",
      "column  _thunder\n",
      "column  _tornado\n",
      "column  _vism_bars\n",
      "column  _wspdm_bars\n",
      "column Temp\n",
      "saved to CP__2.0_training_generated/CP_6df_winter_evening_train.csv\n",
      "\n",
      "df_winter_evening_{}.csv\n",
      "column  _dewptm_bars\n",
      "column  _fog\n",
      "column  _hail\n",
      "column  _hum_bars\n",
      "column  _pressurem_bars\n",
      "column  _rain\n",
      "column  _snow\n",
      "column  _thunder\n",
      "column  _tornado\n",
      "column  _vism_bars\n",
      "column  _wspdm_bars\n",
      "column Temp\n",
      "saved to CP__2.0_training_generated/CP_8df_winter_evening_train.csv\n",
      "\n",
      "df_winter_evening_{}.csv\n",
      "column  _dewptm_bars\n",
      "column  _fog\n",
      "column  _hail\n",
      "column  _hum_bars\n",
      "column  _pressurem_bars\n",
      "column  _rain\n",
      "column  _snow\n",
      "column  _thunder\n",
      "column  _tornado\n",
      "column  _vism_bars\n",
      "column  _wspdm_bars\n",
      "column Temp\n",
      "saved to CP__2.0_training_generated/CP_10df_winter_evening_train.csv\n",
      "\n",
      "df_spring_night_{}.csv\n"
     ]
    },
    {
     "name": "stderr",
     "output_type": "stream",
     "text": [
      "Fitting a model with 223 free scalar parameters with only 119 data points will result in a degenerate solution.\n",
      "Fitting a model with 223 free scalar parameters with only 119 data points will result in a degenerate solution.\n"
     ]
    },
    {
     "name": "stdout",
     "output_type": "stream",
     "text": [
      "column  _dewptm_bars\n",
      "column  _fog\n",
      "column  _hail\n",
      "column  _hum_bars\n"
     ]
    },
    {
     "name": "stderr",
     "output_type": "stream",
     "text": [
      "Fitting a model with 167 free scalar parameters with only 119 data points will result in a degenerate solution.\n"
     ]
    },
    {
     "name": "stdout",
     "output_type": "stream",
     "text": [
      "column  _pressurem_bars\n",
      "column  _rain\n",
      "column  _snow\n",
      "column  _thunder\n",
      "column  _tornado\n",
      "column  _vism_bars\n"
     ]
    },
    {
     "name": "stderr",
     "output_type": "stream",
     "text": [
      "Fitting a model with 142 free scalar parameters with only 118 data points will result in a degenerate solution.\n",
      "Fitting a model with 254 free scalar parameters with only 237 data points will result in a degenerate solution.\n"
     ]
    },
    {
     "name": "stdout",
     "output_type": "stream",
     "text": [
      "column  _wspdm_bars\n",
      "basa but not too bad\n",
      "column Temp\n",
      "saved to CP__2.0_training_generated/CP_2df_spring_night_train.csv\n",
      "\n",
      "df_spring_night_{}.csv\n",
      "column  _dewptm_bars\n",
      "column  _fog\n",
      "column  _hail\n",
      "column  _hum_bars\n",
      "column  _pressurem_bars\n",
      "column  _rain\n",
      "column  _snow\n",
      "column  _thunder\n",
      "column  _tornado\n",
      "column  _vism_bars\n"
     ]
    },
    {
     "name": "stderr",
     "output_type": "stream",
     "text": [
      "Fitting a model with 254 free scalar parameters with only 236 data points will result in a degenerate solution.\n"
     ]
    },
    {
     "name": "stdout",
     "output_type": "stream",
     "text": [
      "column  _wspdm_bars\n",
      "basa but not too bad\n",
      "column Temp\n",
      "saved to CP__2.0_training_generated/CP_4df_spring_night_train.csv\n",
      "\n",
      "df_spring_night_{}.csv\n",
      "column  _dewptm_bars\n",
      "column  _fog\n",
      "column  _hail\n",
      "column  _hum_bars\n",
      "column  _pressurem_bars\n",
      "column  _rain\n",
      "column  _snow\n",
      "column  _thunder\n",
      "column  _tornado\n",
      "column  _vism_bars\n",
      "column  _wspdm_bars\n",
      "column Temp\n",
      "saved to CP__2.0_training_generated/CP_6df_spring_night_train.csv\n",
      "\n",
      "df_spring_night_{}.csv\n",
      "column  _dewptm_bars\n",
      "column  _fog\n",
      "column  _hail\n",
      "column  _hum_bars\n",
      "column  _pressurem_bars\n",
      "column  _rain\n",
      "column  _snow\n",
      "column  _thunder\n",
      "column  _tornado\n",
      "column  _vism_bars\n",
      "column  _wspdm_bars\n",
      "column Temp\n",
      "saved to CP__2.0_training_generated/CP_8df_spring_night_train.csv\n",
      "\n",
      "df_spring_night_{}.csv\n",
      "column  _dewptm_bars\n",
      "column  _fog\n",
      "column  _hail\n",
      "column  _hum_bars\n",
      "column  _pressurem_bars\n",
      "column  _rain\n",
      "column  _snow\n",
      "column  _thunder\n",
      "column  _tornado\n",
      "column  _vism_bars\n",
      "column  _wspdm_bars\n",
      "column Temp\n",
      "saved to CP__2.0_training_generated/CP_10df_spring_night_train.csv\n",
      "\n",
      "df_spring_morning_{}.csv\n"
     ]
    },
    {
     "name": "stderr",
     "output_type": "stream",
     "text": [
      "Fitting a model with 223 free scalar parameters with only 119 data points will result in a degenerate solution.\n",
      "Fitting a model with 194 free scalar parameters with only 119 data points will result in a degenerate solution.\n"
     ]
    },
    {
     "name": "stdout",
     "output_type": "stream",
     "text": [
      "column  _dewptm_bars\n",
      "column  _fog\n",
      "column  _hail\n",
      "column  _hum_bars\n"
     ]
    },
    {
     "name": "stderr",
     "output_type": "stream",
     "text": [
      "Fitting a model with 194 free scalar parameters with only 119 data points will result in a degenerate solution.\n"
     ]
    },
    {
     "name": "stdout",
     "output_type": "stream",
     "text": [
      "column  _pressurem_bars\n",
      "column  _rain\n",
      "column  _snow\n",
      "column  _thunder\n",
      "column  _tornado\n",
      "column  _vism_bars\n"
     ]
    },
    {
     "name": "stderr",
     "output_type": "stream",
     "text": [
      "Fitting a model with 398 free scalar parameters with only 119 data points will result in a degenerate solution.\n"
     ]
    },
    {
     "name": "stdout",
     "output_type": "stream",
     "text": [
      "column  _wspdm_bars\n",
      "column Temp\n",
      "saved to "
     ]
    },
    {
     "name": "stderr",
     "output_type": "stream",
     "text": [
      "Fitting a model with 254 free scalar parameters with only 237 data points will result in a degenerate solution.\n"
     ]
    },
    {
     "name": "stdout",
     "output_type": "stream",
     "text": [
      "CP__2.0_training_generated/CP_2df_spring_morning_train.csv\n",
      "\n",
      "df_spring_morning_{}.csv\n",
      "column  _dewptm_bars\n",
      "column  _fog\n",
      "column  _hail\n"
     ]
    },
    {
     "name": "stderr",
     "output_type": "stream",
     "text": [
      "Fitting a model with 439 free scalar parameters with only 237 data points will result in a degenerate solution.\n"
     ]
    },
    {
     "name": "stdout",
     "output_type": "stream",
     "text": [
      "column  _hum_bars\n",
      "column  _pressurem_bars\n",
      "column  _rain\n",
      "column  _snow\n",
      "column  _thunder\n",
      "column  _tornado\n",
      "column  _vism_bars\n"
     ]
    },
    {
     "name": "stderr",
     "output_type": "stream",
     "text": [
      "Fitting a model with 398 free scalar parameters with only 237 data points will result in a degenerate solution.\n"
     ]
    },
    {
     "name": "stdout",
     "output_type": "stream",
     "text": [
      "column  _wspdm_bars\n",
      "column Temp\n",
      "saved to CP__2.0_training_generated/CP_4df_spring_morning_train.csv\n",
      "\n",
      "df_spring_morning_{}.csv\n",
      "column  _dewptm_bars\n"
     ]
    },
    {
     "name": "stderr",
     "output_type": "stream",
     "text": [
      "Fitting a model with 439 free scalar parameters with only 355 data points will result in a degenerate solution.\n"
     ]
    },
    {
     "name": "stdout",
     "output_type": "stream",
     "text": [
      "column  _fog\n",
      "column  _hail\n",
      "column  _hum_bars\n",
      "column  _pressurem_bars\n",
      "column  _rain\n",
      "column  _snow\n",
      "column  _thunder\n",
      "column  _tornado\n",
      "column  _vism_bars\n"
     ]
    },
    {
     "name": "stderr",
     "output_type": "stream",
     "text": [
      "Fitting a model with 398 free scalar parameters with only 355 data points will result in a degenerate solution.\n"
     ]
    },
    {
     "name": "stdout",
     "output_type": "stream",
     "text": [
      "column  _wspdm_bars\n",
      "column Temp\n",
      "saved to CP__2.0_training_generated/CP_6df_spring_morning_train.csv\n",
      "\n",
      "df_spring_morning_{}.csv\n",
      "column  _dewptm_bars\n",
      "column  _fog\n",
      "column  _hail\n",
      "column  _hum_bars\n",
      "column  _pressurem_bars\n",
      "column  _rain\n",
      "column  _snow\n",
      "column  _thunder\n",
      "column  _tornado\n",
      "column  _vism_bars\n",
      "column  _wspdm_bars\n",
      "column Temp\n",
      "saved to CP__2.0_training_generated/CP_8df_spring_morning_train.csv\n",
      "\n",
      "df_spring_morning_{}.csv\n",
      "column  _dewptm_bars\n",
      "column  _fog\n",
      "column  _hail\n",
      "column  _hum_bars\n",
      "column  _pressurem_bars\n",
      "column  _rain\n",
      "column  _snow\n",
      "column  _thunder\n",
      "column  _tornado\n",
      "column  _vism_bars\n",
      "column  _wspdm_bars\n",
      "column Temp\n",
      "saved to CP__2.0_training_generated/CP_10df_spring_morning_train.csv\n",
      "\n",
      "df_spring_noon_{}.csv\n"
     ]
    },
    {
     "name": "stderr",
     "output_type": "stream",
     "text": [
      "Fitting a model with 322 free scalar parameters with only 119 data points will result in a degenerate solution.\n",
      "Fitting a model with 287 free scalar parameters with only 118 data points will result in a degenerate solution.\n"
     ]
    },
    {
     "name": "stdout",
     "output_type": "stream",
     "text": [
      "column  _dewptm_bars\n",
      "column  _fog\n",
      "column  _hail\n",
      "column  _hum_bars\n",
      "basa but not too bad\n"
     ]
    },
    {
     "name": "stderr",
     "output_type": "stream",
     "text": [
      "Fitting a model with 194 free scalar parameters with only 119 data points will result in a degenerate solution.\n"
     ]
    },
    {
     "name": "stdout",
     "output_type": "stream",
     "text": [
      "column  _pressurem_bars\n",
      "column  _rain\n",
      "column  _snow\n",
      "column  _thunder\n",
      "column  _tornado\n",
      "column  _vism_bars\n",
      "basa but not too bad\n"
     ]
    },
    {
     "name": "stderr",
     "output_type": "stream",
     "text": [
      "Fitting a model with 322 free scalar parameters with only 119 data points will result in a degenerate solution.\n"
     ]
    },
    {
     "name": "stdout",
     "output_type": "stream",
     "text": [
      "column  _wspdm_bars\n",
      "column Temp\n",
      "saved to CP__2.0_training_generated/CP_2df_spring_noon_train.csv\n",
      "\n",
      "df_spring_noon_{}.csv\n"
     ]
    },
    {
     "name": "stderr",
     "output_type": "stream",
     "text": [
      "Fitting a model with 322 free scalar parameters with only 236 data points will result in a degenerate solution.\n"
     ]
    },
    {
     "name": "stdout",
     "output_type": "stream",
     "text": [
      "column  _dewptm_bars\n",
      "column  _fog\n"
     ]
    },
    {
     "name": "stderr",
     "output_type": "stream",
     "text": [
      "Fitting a model with 398 free scalar parameters with only 236 data points will result in a degenerate solution.\n"
     ]
    },
    {
     "name": "stdout",
     "output_type": "stream",
     "text": [
      "column  _hail\n",
      "column  _hum_bars\n",
      "column  _pressurem_bars\n",
      "column  _rain\n",
      "column  _snow\n"
     ]
    },
    {
     "name": "stderr",
     "output_type": "stream",
     "text": [
      "Fitting a model with 359 free scalar parameters with only 236 data points will result in a degenerate solution.\n"
     ]
    },
    {
     "name": "stdout",
     "output_type": "stream",
     "text": [
      "column  _thunder\n",
      "column  _tornado\n",
      "column  _vism_bars\n",
      "column  _wspdm_bars\n",
      "column Temp\n",
      "saved to CP__2.0_training_generated/CP_4df_spring_noon_train.csv\n",
      "\n",
      "df_spring_noon_{}.csv\n",
      "column  _dewptm_bars\n"
     ]
    },
    {
     "name": "stderr",
     "output_type": "stream",
     "text": [
      "Fitting a model with 439 free scalar parameters with only 354 data points will result in a degenerate solution.\n"
     ]
    },
    {
     "name": "stdout",
     "output_type": "stream",
     "text": [
      "column  _fog\n",
      "column  _hail\n",
      "column  _hum_bars\n",
      "column  _pressurem_bars\n",
      "column  _rain\n",
      "column  _snow\n",
      "column  _thunder\n",
      "column  _tornado\n",
      "column  _vism_bars\n"
     ]
    },
    {
     "name": "stderr",
     "output_type": "stream",
     "text": [
      "Fitting a model with 398 free scalar parameters with only 354 data points will result in a degenerate solution.\n"
     ]
    },
    {
     "name": "stdout",
     "output_type": "stream",
     "text": [
      "column  _wspdm_bars\n",
      "column Temp\n",
      "saved to CP__2.0_training_generated/CP_6df_spring_noon_train.csv\n",
      "\n",
      "df_spring_noon_{}.csv\n",
      "column  _dewptm_bars\n",
      "column  _fog\n",
      "column  _hail\n",
      "column  _hum_bars\n",
      "column  _pressurem_bars\n",
      "column  _rain\n",
      "column  _snow\n",
      "column  _thunder\n",
      "column  _tornado\n",
      "column  _vism_bars\n",
      "column  _wspdm_bars\n",
      "column Temp\n",
      "saved to CP__2.0_training_generated/CP_8df_spring_noon_train.csv\n",
      "\n",
      "df_spring_noon_{}.csv\n",
      "column  _dewptm_bars\n",
      "column  _fog\n",
      "column  _hail\n",
      "column  _hum_bars\n",
      "column  _pressurem_bars\n",
      "column  _rain\n",
      "column  _snow\n",
      "column  _thunder\n",
      "column  _tornado\n",
      "column  _vism_bars\n",
      "column  _wspdm_bars\n",
      "column Temp\n",
      "saved to CP__2.0_training_generated/CP_10df_spring_noon_train.csv\n",
      "\n",
      "df_spring_evening_{}.csv\n"
     ]
    },
    {
     "name": "stderr",
     "output_type": "stream",
     "text": [
      "Fitting a model with 223 free scalar parameters with only 118 data points will result in a degenerate solution.\n",
      "Fitting a model with 287 free scalar parameters with only 118 data points will result in a degenerate solution.\n"
     ]
    },
    {
     "name": "stdout",
     "output_type": "stream",
     "text": [
      "column  _dewptm_bars\n",
      "column  _fog\n",
      "column  _hail\n",
      "column  _hum_bars\n"
     ]
    },
    {
     "name": "stderr",
     "output_type": "stream",
     "text": [
      "Fitting a model with 194 free scalar parameters with only 118 data points will result in a degenerate solution.\n"
     ]
    },
    {
     "name": "stdout",
     "output_type": "stream",
     "text": [
      "column  _pressurem_bars\n",
      "column  _rain\n",
      "column  _snow\n",
      "column  _thunder\n",
      "column  _tornado\n",
      "column  _vism_bars\n"
     ]
    },
    {
     "name": "stderr",
     "output_type": "stream",
     "text": [
      "Fitting a model with 119 free scalar parameters with only 118 data points will result in a degenerate solution.\n",
      "Fitting a model with 287 free scalar parameters with only 233 data points will result in a degenerate solution.\n"
     ]
    },
    {
     "name": "stdout",
     "output_type": "stream",
     "text": [
      "column  _wspdm_bars\n",
      "column Temp\n",
      "saved to CP__2.0_training_generated/CP_2df_spring_evening_train.csv\n",
      "\n",
      "df_spring_evening_{}.csv\n",
      "column  _dewptm_bars\n"
     ]
    },
    {
     "name": "stderr",
     "output_type": "stream",
     "text": [
      "Fitting a model with 287 free scalar parameters with only 233 data points will result in a degenerate solution.\n"
     ]
    },
    {
     "name": "stdout",
     "output_type": "stream",
     "text": [
      "column  _fog\n",
      "column  _hail\n",
      "column  _hum_bars\n",
      "column  _pressurem_bars\n",
      "column  _rain\n",
      "column  _snow\n",
      "column  _thunder\n",
      "column  _tornado\n",
      "column  _vism_bars\n",
      "column  _wspdm_bars\n",
      "column Temp\n",
      "saved to CP__2.0_training_generated/CP_4df_spring_evening_train.csv\n",
      "\n",
      "df_spring_evening_{}.csv\n",
      "column  _dewptm_bars\n"
     ]
    },
    {
     "name": "stderr",
     "output_type": "stream",
     "text": [
      "Fitting a model with 359 free scalar parameters with only 349 data points will result in a degenerate solution.\n"
     ]
    },
    {
     "name": "stdout",
     "output_type": "stream",
     "text": [
      "column  _fog\n",
      "column  _hail\n",
      "column  _hum_bars\n",
      "column  _pressurem_bars\n",
      "column  _rain\n",
      "column  _snow\n",
      "column  _thunder\n",
      "column  _tornado\n",
      "column  _vism_bars\n"
     ]
    },
    {
     "name": "stderr",
     "output_type": "stream",
     "text": [
      "Fitting a model with 359 free scalar parameters with only 349 data points will result in a degenerate solution.\n"
     ]
    },
    {
     "name": "stdout",
     "output_type": "stream",
     "text": [
      "column  _wspdm_bars\n",
      "column Temp\n",
      "saved to CP__2.0_training_generated/CP_6df_spring_evening_train.csv\n",
      "\n",
      "df_spring_evening_{}.csv\n",
      "column  _dewptm_bars\n",
      "column  _fog\n",
      "column  _hail\n",
      "column  _hum_bars\n",
      "column  _pressurem_bars\n",
      "column  _rain\n",
      "column  _snow\n",
      "column  _thunder\n",
      "column  _tornado\n",
      "column  _vism_bars\n",
      "column  _wspdm_bars\n",
      "column Temp\n",
      "saved to CP__2.0_training_generated/CP_8df_spring_evening_train.csv\n",
      "\n",
      "df_spring_evening_{}.csv\n",
      "column  _dewptm_bars\n",
      "column  _fog\n",
      "column  _hail\n",
      "column  _hum_bars\n",
      "column  _pressurem_bars\n",
      "column  _rain\n",
      "column  _snow\n",
      "column  _thunder\n",
      "column  _tornado\n",
      "column  _vism_bars\n",
      "column  _wspdm_bars\n",
      "column Temp\n",
      "saved to CP__2.0_training_generated/CP_10df_spring_evening_train.csv\n",
      "\n",
      "df_monsoon_night_{}.csv\n",
      "column  _dewptm_bars\n",
      "basa but not too bad\n",
      "column  _fog\n",
      "column  _hail\n",
      "column  _hum_bars\n",
      "basa but not too bad\n",
      "column  _pressurem_bars\n",
      "column  _rain\n",
      "column  _snow\n",
      "column  _thunder\n",
      "column  _tornado\n",
      "column  _vism_bars\n",
      "column  _wspdm_bars\n"
     ]
    },
    {
     "name": "stderr",
     "output_type": "stream",
     "text": [
      "Fitting a model with 287 free scalar parameters with only 154 data points will result in a degenerate solution.\n"
     ]
    },
    {
     "name": "stdout",
     "output_type": "stream",
     "text": [
      "column Temp\n",
      "saved to CP__2.0_training_generated/CP_2df_monsoon_night_train.csv\n",
      "\n",
      "df_monsoon_night_{}.csv\n",
      "column  _dewptm_bars\n",
      "column  _fog\n",
      "column  _hail\n",
      "column  _hum_bars\n",
      "column  _pressurem_bars\n",
      "column  _rain\n",
      "column  _snow\n",
      "column  _thunder\n",
      "column  _tornado\n",
      "column  _vism_bars\n"
     ]
    },
    {
     "name": "stderr",
     "output_type": "stream",
     "text": [
      "Fitting a model with 398 free scalar parameters with only 308 data points will result in a degenerate solution.\n"
     ]
    },
    {
     "name": "stdout",
     "output_type": "stream",
     "text": [
      "column  _wspdm_bars\n",
      "column Temp\n",
      "saved to CP__2.0_training_generated/CP_4df_monsoon_night_train.csv\n",
      "\n",
      "df_monsoon_night_{}.csv\n",
      "column  _dewptm_bars\n",
      "column  _fog\n",
      "column  _hail\n",
      "column  _hum_bars\n",
      "column  _pressurem_bars\n",
      "column  _rain\n",
      "column  _snow\n",
      "column  _thunder\n",
      "column  _tornado\n",
      "column  _vism_bars\n",
      "column  _wspdm_bars\n",
      "column Temp\n",
      "saved to CP__2.0_training_generated/CP_6df_monsoon_night_train.csv\n",
      "\n",
      "df_monsoon_night_{}.csv\n",
      "column  _dewptm_bars\n",
      "column  _fog\n",
      "column  _hail\n",
      "column  _hum_bars\n",
      "column  _pressurem_bars\n",
      "column  _rain\n",
      "column  _snow\n",
      "column  _thunder\n",
      "column  _tornado\n",
      "column  _vism_bars\n",
      "column  _wspdm_bars\n",
      "column Temp\n",
      "saved to CP__2.0_training_generated/CP_8df_monsoon_night_train.csv\n",
      "\n",
      "df_monsoon_night_{}.csv\n",
      "column  _dewptm_bars\n",
      "column  _fog\n",
      "column  _hail\n",
      "column  _hum_bars\n",
      "column  _pressurem_bars\n",
      "column  _rain\n",
      "column  _snow\n",
      "column  _thunder\n",
      "column  _tornado\n",
      "column  _vism_bars\n",
      "column  _wspdm_bars\n",
      "column Temp\n",
      "saved to CP__2.0_training_generated/CP_10df_monsoon_night_train.csv\n",
      "\n",
      "df_monsoon_morning_{}.csv\n"
     ]
    },
    {
     "name": "stderr",
     "output_type": "stream",
     "text": [
      "Fitting a model with 287 free scalar parameters with only 154 data points will result in a degenerate solution.\n"
     ]
    },
    {
     "name": "stdout",
     "output_type": "stream",
     "text": [
      "column  _dewptm_bars\n",
      "column  _fog\n",
      "column  _hail\n",
      "column  _hum_bars\n",
      "column  _pressurem_bars\n",
      "column  _rain\n",
      "column  _snow\n",
      "column  _thunder\n"
     ]
    },
    {
     "name": "stderr",
     "output_type": "stream",
     "text": [
      "Fitting a model with 398 free scalar parameters with only 154 data points will result in a degenerate solution.\n"
     ]
    },
    {
     "name": "stdout",
     "output_type": "stream",
     "text": [
      "column  _tornado\n",
      "column  _vism_bars\n",
      "column  _wspdm_bars\n",
      "column Temp\n",
      "saved to CP__2.0_training_generated/CP_2df_monsoon_morning_train.csv\n",
      "\n",
      "df_monsoon_morning_{}.csv\n",
      "column  _dewptm_bars\n",
      "column  _fog\n",
      "column  _hail\n",
      "column  _hum_bars\n",
      "column  _pressurem_bars\n",
      "column  _rain\n",
      "column  _snow\n",
      "column  _thunder\n",
      "column  _tornado\n",
      "column  _vism_bars\n"
     ]
    },
    {
     "name": "stderr",
     "output_type": "stream",
     "text": [
      "Fitting a model with 398 free scalar parameters with only 307 data points will result in a degenerate solution.\n"
     ]
    },
    {
     "name": "stdout",
     "output_type": "stream",
     "text": [
      "column  _wspdm_bars\n",
      "column Temp\n",
      "saved to CP__2.0_training_generated/CP_4df_monsoon_morning_train.csv\n",
      "\n",
      "df_monsoon_morning_{}.csv\n",
      "column  _dewptm_bars\n",
      "column  _fog\n",
      "column  _hail\n",
      "column  _hum_bars\n",
      "column  _pressurem_bars\n",
      "column  _rain\n",
      "column  _snow\n",
      "column  _thunder\n",
      "column  _tornado\n",
      "column  _vism_bars\n",
      "column  _wspdm_bars\n",
      "column Temp\n",
      "saved to CP__2.0_training_generated/CP_6df_monsoon_morning_train.csv\n",
      "\n",
      "df_monsoon_morning_{}.csv\n",
      "column  _dewptm_bars\n",
      "column  _fog\n",
      "column  _hail\n",
      "column  _hum_bars\n",
      "column  _pressurem_bars\n",
      "column  _rain\n",
      "column  _snow\n",
      "column  _thunder\n",
      "column  _tornado\n",
      "column  _vism_bars\n",
      "column  _wspdm_bars\n",
      "column Temp\n",
      "saved to CP__2.0_training_generated/CP_8df_monsoon_morning_train.csv\n",
      "\n",
      "df_monsoon_morning_{}.csv\n",
      "column  _dewptm_bars\n",
      "column  _fog\n",
      "column  _hail\n",
      "column  _hum_bars\n",
      "column  _pressurem_bars\n",
      "column  _rain\n",
      "column  _snow\n",
      "column  _thunder\n",
      "column  _tornado\n",
      "column  _vism_bars\n",
      "column  _wspdm_bars\n",
      "column Temp\n",
      "saved to CP__2.0_training_generated/CP_10df_monsoon_morning_train.csv\n",
      "\n"
     ]
    },
    {
     "name": "stderr",
     "output_type": "stream",
     "text": [
      "Fitting a model with 254 free scalar parameters with only 154 data points will result in a degenerate solution.\n"
     ]
    },
    {
     "name": "stdout",
     "output_type": "stream",
     "text": [
      "df_monsoon_noon_{}.csv\n",
      "column  _dewptm_bars\n",
      "column  _fog\n",
      "column  _hail\n",
      "column  _hum_bars\n",
      "column  _pressurem_bars\n",
      "column  _rain\n",
      "column  _snow\n"
     ]
    },
    {
     "name": "stderr",
     "output_type": "stream",
     "text": [
      "Fitting a model with 223 free scalar parameters with only 154 data points will result in a degenerate solution.\n"
     ]
    },
    {
     "name": "stdout",
     "output_type": "stream",
     "text": [
      "column  _thunder\n",
      "column  _tornado\n",
      "column  _vism_bars\n",
      "column  _wspdm_bars\n",
      "column Temp\n",
      "saved to CP__2.0_training_generated/CP_2df_monsoon_noon_train.csv\n",
      "\n",
      "df_monsoon_noon_{}.csv\n",
      "column  _dewptm_bars\n",
      "column  _fog\n",
      "column  _hail\n",
      "column  _hum_bars\n",
      "column  _pressurem_bars\n",
      "column  _rain\n",
      "column  _snow\n",
      "column  _thunder\n",
      "column  _tornado\n",
      "column  _vism_bars\n",
      "column  _wspdm_bars\n",
      "column Temp\n",
      "saved to CP__2.0_training_generated/CP_4df_monsoon_noon_train.csv\n",
      "\n",
      "df_monsoon_noon_{}.csv\n",
      "column  _dewptm_bars\n",
      "column  _fog\n",
      "column  _hail\n",
      "column  _hum_bars\n",
      "column  _pressurem_bars\n",
      "column  _rain\n",
      "column  _snow\n",
      "column  _thunder\n",
      "column  _tornado\n",
      "column  _vism_bars\n",
      "column  _wspdm_bars\n",
      "column Temp\n",
      "saved to CP__2.0_training_generated/CP_6df_monsoon_noon_train.csv\n",
      "\n",
      "df_monsoon_noon_{}.csv\n",
      "column  _dewptm_bars\n",
      "column  _fog\n",
      "column  _hail\n",
      "column  _hum_bars\n",
      "column  _pressurem_bars\n",
      "column  _rain\n",
      "column  _snow\n",
      "column  _thunder\n",
      "column  _tornado\n",
      "column  _vism_bars\n",
      "column  _wspdm_bars\n",
      "column Temp\n",
      "saved to CP__2.0_training_generated/CP_8df_monsoon_noon_train.csv\n",
      "\n",
      "df_monsoon_noon_{}.csv\n",
      "column  _dewptm_bars\n",
      "column  _fog\n",
      "column  _hail\n",
      "column  _hum_bars\n",
      "column  _pressurem_bars\n",
      "column  _rain\n",
      "column  _snow\n",
      "column  _thunder\n",
      "column  _tornado\n",
      "column  _vism_bars\n",
      "column  _wspdm_bars\n",
      "column Temp\n",
      "saved to CP__2.0_training_generated/CP_10df_monsoon_noon_train.csv\n",
      "\n",
      "df_monsoon_evening_{}.csv\n",
      "column  _dewptm_bars\n",
      "column  _fog\n",
      "column  _hail\n",
      "column  _hum_bars\n",
      "column  _pressurem_bars\n"
     ]
    },
    {
     "name": "stderr",
     "output_type": "stream",
     "text": [
      "Fitting a model with 167 free scalar parameters with only 151 data points will result in a degenerate solution.\n"
     ]
    },
    {
     "name": "stdout",
     "output_type": "stream",
     "text": [
      "column  _rain\n",
      "column  _snow\n",
      "column  _thunder\n",
      "column  _tornado\n",
      "column  _vism_bars\n",
      "column  _wspdm_bars\n",
      "column Temp\n",
      "saved to CP__2.0_training_generated/CP_2df_monsoon_evening_train.csv\n",
      "\n",
      "df_monsoon_evening_{}.csv\n",
      "column  _dewptm_bars\n",
      "column  _fog\n",
      "column  _hail\n",
      "column  _hum_bars\n",
      "column  _pressurem_bars\n",
      "column  _rain\n",
      "column  _snow\n",
      "column  _thunder\n",
      "column  _tornado\n",
      "column  _vism_bars\n",
      "column  _wspdm_bars\n",
      "column Temp\n",
      "saved to CP__2.0_training_generated/CP_4df_monsoon_evening_train.csv\n",
      "\n",
      "df_monsoon_evening_{}.csv\n",
      "column  _dewptm_bars\n",
      "column  _fog\n",
      "column  _hail\n",
      "column  _hum_bars\n",
      "column  _pressurem_bars\n",
      "column  _rain\n",
      "column  _snow\n",
      "column  _thunder\n",
      "column  _tornado\n",
      "column  _vism_bars\n",
      "column  _wspdm_bars\n",
      "column Temp\n",
      "saved to CP__2.0_training_generated/CP_6df_monsoon_evening_train.csv\n",
      "\n",
      "df_monsoon_evening_{}.csv\n",
      "column  _dewptm_bars\n",
      "column  _fog\n",
      "column  _hail\n",
      "column  _hum_bars\n",
      "column  _pressurem_bars\n",
      "column  _rain\n",
      "column  _snow\n",
      "column  _thunder\n",
      "column  _tornado\n",
      "column  _vism_bars\n",
      "column  _wspdm_bars\n",
      "column Temp\n",
      "saved to CP__2.0_training_generated/CP_8df_monsoon_evening_train.csv\n",
      "\n",
      "df_monsoon_evening_{}.csv\n",
      "column  _dewptm_bars\n",
      "column  _fog\n",
      "column  _hail\n",
      "column  _hum_bars\n",
      "column  _pressurem_bars\n",
      "column  _rain\n",
      "column  _snow\n",
      "column  _thunder\n",
      "column  _tornado\n",
      "column  _vism_bars\n",
      "column  _wspdm_bars\n",
      "column Temp\n",
      "saved to CP__2.0_training_generated/CP_10df_monsoon_evening_train.csv\n",
      "\n",
      "df_summer_night_{}.csv\n"
     ]
    },
    {
     "name": "stderr",
     "output_type": "stream",
     "text": [
      "Fitting a model with 322 free scalar parameters with only 182 data points will result in a degenerate solution.\n"
     ]
    },
    {
     "name": "stdout",
     "output_type": "stream",
     "text": [
      "column  _dewptm_bars\n",
      "column  _fog\n",
      "column  _hail\n"
     ]
    },
    {
     "name": "stderr",
     "output_type": "stream",
     "text": [
      "Fitting a model with 398 free scalar parameters with only 182 data points will result in a degenerate solution.\n",
      "Fitting a model with 322 free scalar parameters with only 182 data points will result in a degenerate solution.\n"
     ]
    },
    {
     "name": "stdout",
     "output_type": "stream",
     "text": [
      "column  _hum_bars\n",
      "column  _pressurem_bars\n",
      "column  _rain\n",
      "column  _snow\n",
      "column  _thunder\n",
      "column  _tornado\n",
      "column  _vism_bars\n"
     ]
    },
    {
     "name": "stderr",
     "output_type": "stream",
     "text": [
      "Fitting a model with 254 free scalar parameters with only 182 data points will result in a degenerate solution.\n"
     ]
    },
    {
     "name": "stdout",
     "output_type": "stream",
     "text": [
      "column  _wspdm_bars\n",
      "column Temp\n",
      "saved to CP__2.0_training_generated/CP_2df_summer_night_train.csv\n",
      "\n",
      "df_summer_night_{}.csv\n",
      "column  _dewptm_bars\n"
     ]
    },
    {
     "name": "stderr",
     "output_type": "stream",
     "text": [
      "Fitting a model with 398 free scalar parameters with only 363 data points will result in a degenerate solution.\n"
     ]
    },
    {
     "name": "stdout",
     "output_type": "stream",
     "text": [
      "column  _fog\n",
      "column  _hail\n",
      "column  _hum_bars\n",
      "column  _pressurem_bars\n",
      "column  _rain\n",
      "column  _snow\n",
      "column  _thunder\n",
      "column  _tornado\n",
      "column  _vism_bars\n",
      "column  _wspdm_bars\n",
      "column Temp\n",
      "saved to CP__2.0_training_generated/CP_4df_summer_night_train.csv\n",
      "\n",
      "df_summer_night_{}.csv\n",
      "column  _dewptm_bars\n",
      "column  _fog\n",
      "column  _hail\n",
      "column  _hum_bars\n",
      "column  _pressurem_bars\n",
      "column  _rain\n",
      "column  _snow\n",
      "column  _thunder\n",
      "column  _tornado\n",
      "column  _vism_bars\n",
      "column  _wspdm_bars\n",
      "column Temp\n",
      "saved to CP__2.0_training_generated/CP_6df_summer_night_train.csv\n",
      "\n",
      "df_summer_night_{}.csv\n",
      "column  _dewptm_bars\n",
      "column  _fog\n",
      "column  _hail\n",
      "column  _hum_bars\n",
      "column  _pressurem_bars\n",
      "column  _rain\n",
      "column  _snow\n",
      "column  _thunder\n",
      "column  _tornado\n",
      "column  _vism_bars\n",
      "column  _wspdm_bars\n",
      "column Temp\n",
      "saved to CP__2.0_training_generated/CP_8df_summer_night_train.csv\n",
      "\n",
      "df_summer_night_{}.csv\n",
      "column  _dewptm_bars\n",
      "column  _fog\n",
      "column  _hail\n",
      "column  _hum_bars\n",
      "column  _pressurem_bars\n",
      "column  _rain\n",
      "column  _snow\n",
      "column  _thunder\n",
      "column  _tornado\n",
      "column  _vism_bars\n",
      "column  _wspdm_bars\n",
      "column Temp\n"
     ]
    },
    {
     "name": "stderr",
     "output_type": "stream",
     "text": [
      "Fitting a model with 439 free scalar parameters with only 181 data points will result in a degenerate solution.\n"
     ]
    },
    {
     "name": "stdout",
     "output_type": "stream",
     "text": [
      "saved to CP__2.0_training_generated/CP_10df_summer_night_train.csv\n",
      "\n",
      "df_summer_morning_{}.csv\n",
      "column  _dewptm_bars\n"
     ]
    },
    {
     "name": "stderr",
     "output_type": "stream",
     "text": [
      "Fitting a model with 322 free scalar parameters with only 181 data points will result in a degenerate solution.\n"
     ]
    },
    {
     "name": "stdout",
     "output_type": "stream",
     "text": [
      "column  _fog\n",
      "column  _hail\n",
      "column  _hum_bars\n"
     ]
    },
    {
     "name": "stderr",
     "output_type": "stream",
     "text": [
      "Fitting a model with 359 free scalar parameters with only 181 data points will result in a degenerate solution.\n"
     ]
    },
    {
     "name": "stdout",
     "output_type": "stream",
     "text": [
      "column  _pressurem_bars\n",
      "column  _rain\n",
      "column  _snow\n"
     ]
    },
    {
     "name": "stderr",
     "output_type": "stream",
     "text": [
      "Fitting a model with 359 free scalar parameters with only 181 data points will result in a degenerate solution.\n"
     ]
    },
    {
     "name": "stdout",
     "output_type": "stream",
     "text": [
      "column  _thunder\n",
      "column  _tornado\n",
      "column  _vism_bars\n",
      "column  _wspdm_bars\n"
     ]
    },
    {
     "name": "stderr",
     "output_type": "stream",
     "text": [
      "Fitting a model with 439 free scalar parameters with only 362 data points will result in a degenerate solution.\n"
     ]
    },
    {
     "name": "stdout",
     "output_type": "stream",
     "text": [
      "column Temp\n",
      "saved to CP__2.0_training_generated/CP_2df_summer_morning_train.csv\n",
      "\n",
      "df_summer_morning_{}.csv\n",
      "column  _dewptm_bars\n"
     ]
    },
    {
     "name": "stderr",
     "output_type": "stream",
     "text": [
      "Fitting a model with 398 free scalar parameters with only 362 data points will result in a degenerate solution.\n"
     ]
    },
    {
     "name": "stdout",
     "output_type": "stream",
     "text": [
      "column  _fog\n",
      "column  _hail\n",
      "column  _hum_bars\n",
      "column  _pressurem_bars\n",
      "column  _rain\n",
      "column  _snow\n",
      "column  _thunder\n",
      "column  _tornado\n"
     ]
    },
    {
     "name": "stderr",
     "output_type": "stream",
     "text": [
      "Fitting a model with 398 free scalar parameters with only 362 data points will result in a degenerate solution.\n"
     ]
    },
    {
     "name": "stdout",
     "output_type": "stream",
     "text": [
      "column  _vism_bars\n",
      "column  _wspdm_bars\n",
      "column Temp\n",
      "saved to CP__2.0_training_generated/CP_4df_summer_morning_train.csv\n",
      "\n",
      "df_summer_morning_{}.csv\n",
      "column  _dewptm_bars\n",
      "column  _fog\n",
      "column  _hail\n",
      "column  _hum_bars\n",
      "column  _pressurem_bars\n",
      "column  _rain\n",
      "column  _snow\n",
      "column  _thunder\n",
      "column  _tornado\n",
      "column  _vism_bars\n",
      "column  _wspdm_bars\n",
      "column Temp\n",
      "saved to CP__2.0_training_generated/CP_6df_summer_morning_train.csv\n",
      "\n",
      "df_summer_morning_{}.csv\n",
      "column  _dewptm_bars\n",
      "column  _fog\n",
      "column  _hail\n",
      "column  _hum_bars\n",
      "column  _pressurem_bars\n",
      "column  _rain\n",
      "column  _snow\n",
      "column  _thunder\n",
      "column  _tornado\n",
      "column  _vism_bars\n",
      "column  _wspdm_bars\n",
      "column Temp\n",
      "saved to CP__2.0_training_generated/CP_8df_summer_morning_train.csv\n",
      "\n",
      "df_summer_morning_{}.csv\n",
      "column  _dewptm_bars\n",
      "column  _fog\n",
      "column  _hail\n",
      "column  _hum_bars\n",
      "column  _pressurem_bars\n",
      "column  _rain\n",
      "column  _snow\n",
      "column  _thunder\n",
      "column  _tornado\n",
      "column  _vism_bars\n",
      "column  _wspdm_bars\n",
      "column Temp\n"
     ]
    },
    {
     "name": "stderr",
     "output_type": "stream",
     "text": [
      "Fitting a model with 359 free scalar parameters with only 180 data points will result in a degenerate solution.\n"
     ]
    },
    {
     "name": "stdout",
     "output_type": "stream",
     "text": [
      "saved to CP__2.0_training_generated/CP_10df_summer_morning_train.csv\n",
      "\n",
      "df_summer_noon_{}.csv\n",
      "column  _dewptm_bars\n",
      "column  _fog\n"
     ]
    },
    {
     "name": "stderr",
     "output_type": "stream",
     "text": [
      "Fitting a model with 439 free scalar parameters with only 180 data points will result in a degenerate solution.\n"
     ]
    },
    {
     "name": "stdout",
     "output_type": "stream",
     "text": [
      "column  _hail\n",
      "column  _hum_bars\n"
     ]
    },
    {
     "name": "stderr",
     "output_type": "stream",
     "text": [
      "Fitting a model with 287 free scalar parameters with only 180 data points will result in a degenerate solution.\n"
     ]
    },
    {
     "name": "stdout",
     "output_type": "stream",
     "text": [
      "column  _pressurem_bars\n",
      "column  _rain\n",
      "column  _snow\n"
     ]
    },
    {
     "name": "stderr",
     "output_type": "stream",
     "text": [
      "Fitting a model with 322 free scalar parameters with only 180 data points will result in a degenerate solution.\n"
     ]
    },
    {
     "name": "stdout",
     "output_type": "stream",
     "text": [
      "column  _thunder\n",
      "column  _tornado\n",
      "column  _vism_bars\n",
      "column  _wspdm_bars\n"
     ]
    },
    {
     "name": "stderr",
     "output_type": "stream",
     "text": [
      "Fitting a model with 398 free scalar parameters with only 362 data points will result in a degenerate solution.\n"
     ]
    },
    {
     "name": "stdout",
     "output_type": "stream",
     "text": [
      "column Temp\n",
      "saved to CP__2.0_training_generated/CP_2df_summer_noon_train.csv\n",
      "\n",
      "df_summer_noon_{}.csv\n",
      "column  _dewptm_bars\n"
     ]
    },
    {
     "name": "stderr",
     "output_type": "stream",
     "text": [
      "Fitting a model with 439 free scalar parameters with only 362 data points will result in a degenerate solution.\n"
     ]
    },
    {
     "name": "stdout",
     "output_type": "stream",
     "text": [
      "column  _fog\n",
      "column  _hail\n",
      "column  _hum_bars\n",
      "column  _pressurem_bars\n",
      "column  _rain\n",
      "column  _snow\n",
      "column  _thunder\n",
      "column  _tornado\n",
      "column  _vism_bars\n",
      "column  _wspdm_bars\n",
      "column Temp\n",
      "saved to CP__2.0_training_generated/CP_4df_summer_noon_train.csv\n",
      "\n",
      "df_summer_noon_{}.csv\n",
      "column  _dewptm_bars\n",
      "column  _fog\n",
      "column  _hail\n",
      "column  _hum_bars\n",
      "column  _pressurem_bars\n",
      "column  _rain\n",
      "column  _snow\n",
      "column  _thunder\n",
      "column  _tornado\n",
      "column  _vism_bars\n",
      "column  _wspdm_bars\n",
      "column Temp\n",
      "saved to CP__2.0_training_generated/CP_6df_summer_noon_train.csv\n",
      "\n",
      "df_summer_noon_{}.csv\n",
      "column  _dewptm_bars\n",
      "column  _fog\n",
      "column  _hail\n",
      "column  _hum_bars\n",
      "column  _pressurem_bars\n",
      "column  _rain\n",
      "column  _snow\n",
      "column  _thunder\n",
      "column  _tornado\n",
      "column  _vism_bars\n",
      "column  _wspdm_bars\n",
      "column Temp\n",
      "saved to CP__2.0_training_generated/CP_8df_summer_noon_train.csv\n",
      "\n",
      "df_summer_noon_{}.csv\n",
      "column  _dewptm_bars\n",
      "column  _fog\n",
      "column  _hail\n",
      "column  _hum_bars\n",
      "column  _pressurem_bars\n",
      "column  _rain\n",
      "column  _snow\n",
      "column  _thunder\n",
      "column  _tornado\n",
      "column  _vism_bars\n",
      "column  _wspdm_bars\n",
      "column Temp\n"
     ]
    },
    {
     "name": "stderr",
     "output_type": "stream",
     "text": [
      "Fitting a model with 359 free scalar parameters with only 176 data points will result in a degenerate solution.\n"
     ]
    },
    {
     "name": "stdout",
     "output_type": "stream",
     "text": [
      "saved to CP__2.0_training_generated/CP_10df_summer_noon_train.csv\n",
      "\n",
      "df_summer_evening_{}.csv\n",
      "column  _dewptm_bars\n"
     ]
    },
    {
     "name": "stderr",
     "output_type": "stream",
     "text": [
      "Fitting a model with 439 free scalar parameters with only 176 data points will result in a degenerate solution.\n"
     ]
    },
    {
     "name": "stdout",
     "output_type": "stream",
     "text": [
      "column  _fog\n",
      "column  _hail\n",
      "column  _hum_bars\n"
     ]
    },
    {
     "name": "stderr",
     "output_type": "stream",
     "text": [
      "Fitting a model with 254 free scalar parameters with only 176 data points will result in a degenerate solution.\n"
     ]
    },
    {
     "name": "stdout",
     "output_type": "stream",
     "text": [
      "column  _pressurem_bars\n",
      "column  _rain\n",
      "column  _snow\n",
      "column  _thunder\n",
      "column  _tornado\n",
      "column  _vism_bars\n",
      "column  _wspdm_bars\n"
     ]
    },
    {
     "name": "stderr",
     "output_type": "stream",
     "text": [
      "Fitting a model with 398 free scalar parameters with only 356 data points will result in a degenerate solution.\n"
     ]
    },
    {
     "name": "stdout",
     "output_type": "stream",
     "text": [
      "column Temp\n",
      "saved to CP__2.0_training_generated/CP_2df_summer_evening_train.csv\n",
      "\n",
      "df_summer_evening_{}.csv\n",
      "column  _dewptm_bars\n"
     ]
    },
    {
     "name": "stderr",
     "output_type": "stream",
     "text": [
      "Fitting a model with 439 free scalar parameters with only 356 data points will result in a degenerate solution.\n"
     ]
    },
    {
     "name": "stdout",
     "output_type": "stream",
     "text": [
      "column  _fog\n",
      "column  _hail\n",
      "column  _hum_bars\n",
      "column  _pressurem_bars\n",
      "column  _rain\n",
      "column  _snow\n",
      "column  _thunder\n",
      "column  _tornado\n",
      "column  _vism_bars\n",
      "column  _wspdm_bars\n",
      "column Temp\n",
      "saved to CP__2.0_training_generated/CP_4df_summer_evening_train.csv\n",
      "\n",
      "df_summer_evening_{}.csv\n",
      "column  _dewptm_bars\n",
      "column  _fog\n",
      "column  _hail\n",
      "column  _hum_bars\n",
      "column  _pressurem_bars\n",
      "column  _rain\n",
      "column  _snow\n",
      "column  _thunder\n",
      "column  _tornado\n",
      "column  _vism_bars\n",
      "column  _wspdm_bars\n",
      "column Temp\n",
      "saved to CP__2.0_training_generated/CP_6df_summer_evening_train.csv\n",
      "\n",
      "df_summer_evening_{}.csv\n",
      "column  _dewptm_bars\n",
      "column  _fog\n",
      "column  _hail\n",
      "column  _hum_bars\n",
      "column  _pressurem_bars\n",
      "column  _rain\n",
      "column  _snow\n",
      "column  _thunder\n",
      "column  _tornado\n",
      "column  _vism_bars\n",
      "column  _wspdm_bars\n",
      "column Temp\n",
      "saved to CP__2.0_training_generated/CP_8df_summer_evening_train.csv\n",
      "\n",
      "df_summer_evening_{}.csv\n",
      "column  _dewptm_bars\n",
      "column  _fog\n",
      "column  _hail\n",
      "column  _hum_bars\n",
      "column  _pressurem_bars\n",
      "column  _rain\n",
      "column  _snow\n",
      "column  _thunder\n",
      "column  _tornado\n",
      "column  _vism_bars\n",
      "column  _wspdm_bars\n",
      "column Temp\n",
      "saved to CP__2.0_training_generated/CP_10df_summer_evening_train.csv\n"
     ]
    }
   ],
   "source": [
    "for freq_range in [['autumn', 'winter', 'spring', 'monsoon', 'summer']]: #[[str(i) for i in range(1, 13)]]:  # month                               \n",
    "    for freq_part in freq_range:\n",
    "        for day_part in ['night', 'morning', 'noon', 'evening']:\n",
    "            for n_years in [2,4,6,8,10]:\n",
    "                print() \n",
    "                print('_'.join(['df',freq_part, day_part,'{}.csv']))\n",
    "                #print('CP_training_generated/CP_'+str(n_years)+'_'.join(['df',freq_part, day_part,'train.csv']))\n",
    "                Generate_train('_'.join(['df',freq_part, day_part,'{}.csv']),n_years) "
   ]
  },
  {
   "cell_type": "code",
   "execution_count": 26,
   "metadata": {},
   "outputs": [
    {
     "name": "stdout",
     "output_type": "stream",
     "text": [
      "     Unnamed: 0    datetime  _conds   _dewptm   _fog   _hail      _hum  \\\n",
      "217       11354  2008-03-01    Mist  0.451220    0.0     0.0  0.885417   \n",
      "218       11358  2008-03-02    Mist  0.487805    0.0     0.0  0.828125   \n",
      "219       11362  2008-03-03    Mist  0.536585    0.0     0.0  0.802083   \n",
      "220       11366  2008-03-04    Haze  0.487805    0.0     0.0  0.708333   \n",
      "221       11369  2008-03-05    Mist  0.487805    0.0     0.0  0.815972   \n",
      "\n",
      "      _pressurem   _rain   _snow  ...   month_cos  month_sin  week_cos  \\\n",
      "217     0.268657     0.0     0.0  ...         0.5        1.0  0.741169   \n",
      "218     0.272388     0.0     0.0  ...         0.5        1.0  0.741169   \n",
      "219     0.278607     0.0     0.0  ...         0.5        1.0  0.687639   \n",
      "220     0.261194     0.0     0.0  ...         0.5        1.0  0.687639   \n",
      "221     0.271144     0.0     0.0  ...         0.5        1.0  0.687639   \n",
      "\n",
      "     week_sin   _dewptm_bars   _hum_bars   _pressurem_bars   _vism_bars  \\\n",
      "217  0.938060              8          19                12            3   \n",
      "218  0.938060              9          18                13            3   \n",
      "219  0.963548             11          17                13            3   \n",
      "220  0.963548              9          15                12            8   \n",
      "221  0.963548              9          17                13            5   \n",
      "\n",
      "      _wspdm_bars  Temp  \n",
      "217             1   2.0  \n",
      "218             1   3.0  \n",
      "219             2   3.0  \n",
      "220             1   3.0  \n",
      "221             1   3.0  \n",
      "\n",
      "[5 rows x 41 columns]\n"
     ]
    }
   ],
   "source": [
    "    for freq_range in [[str(i) for i in range(3, 4)]]:  # month                               \n",
    "        for freq_part in freq_range:\n",
    "            for day_part in ['night']: # ['night', 'morning', 'noon', 'evening']:\n",
    "                for n_years in [8]: #[2,4,6,8]:\n",
    "                    df_train = pd.read_csv(\"Weather_Data/\" + '_'.join(['df',freq_part, day_part,'train.csv']))\n",
    "                    df_train = df_train.loc[df_train['year'] >= (2010 - 2)]\n",
    "                    print(df_train.head(5))"
   ]
  },
  {
   "cell_type": "code",
   "execution_count": null,
   "metadata": {},
   "outputs": [],
   "source": []
  },
  {
   "cell_type": "code",
   "execution_count": null,
   "metadata": {},
   "outputs": [],
   "source": []
  }
 ],
 "metadata": {
  "kernelspec": {
   "display_name": "Python 3",
   "language": "python",
   "name": "python3"
  },
  "language_info": {
   "codemirror_mode": {
    "name": "ipython",
    "version": 3
   },
   "file_extension": ".py",
   "mimetype": "text/x-python",
   "name": "python",
   "nbconvert_exporter": "python",
   "pygments_lexer": "ipython3",
   "version": "3.7.3"
  }
 },
 "nbformat": 4,
 "nbformat_minor": 2
}
